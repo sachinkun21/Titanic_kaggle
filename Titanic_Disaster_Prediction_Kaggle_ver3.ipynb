{
  "nbformat": 4,
  "nbformat_minor": 0,
  "metadata": {
    "colab": {
      "name": " Titanic Disaster Prediction Kaggle_ver3.ipynb",
      "version": "0.3.2",
      "provenance": [],
      "collapsed_sections": [],
      "include_colab_link": true
    },
    "kernelspec": {
      "name": "python3",
      "display_name": "Python 3"
    }
  },
  "cells": [
    {
      "cell_type": "markdown",
      "metadata": {
        "id": "view-in-github",
        "colab_type": "text"
      },
      "source": [
        "<a href=\"https://colab.research.google.com/github/sachinkun21/Titanic_kaggle/blob/master/Titanic_Disaster_Prediction_Kaggle_ver3.ipynb\" target=\"_parent\"><img src=\"https://colab.research.google.com/assets/colab-badge.svg\" alt=\"Open In Colab\"/></a>"
      ]
    },
    {
      "cell_type": "markdown",
      "metadata": {
        "id": "68bMLlWc8K4j",
        "colab_type": "text"
      },
      "source": [
        "## Problem Statement\n",
        "\n",
        "### Introduction\n",
        "\n",
        "In this kernel I will go through the whole process of creating a machine learning model on the famous Titanic dataset, which is used by many people all over the world. It provides information on the fate of passengers on the Titanic, summarized according to economic status (class), sex, age and survival. In this challenge, I will predict whether a passenger on the titanic would have been survived or not.\n",
        "\n",
        "### About Titanic \n",
        "\n",
        "RMS Titanic was a British passenger liner that sank in the North Atlantic Ocean in the early morning hours of 15 April 1912, after it collided with an iceberg during its maiden voyage from Southampton to New York City. There were an estimated 2,224 passengers and crew aboard the ship, and more than 1,500 died, making it one of the deadliest commercial peacetime maritime disasters in modern history. The RMS Titanic was the largest ship afloat at the time it entered service and was the second of three Olympic-class ocean liners operated by the White Star Line. The Titanic was built by the Harland and Wolff shipyard in Belfast. Thomas Andrews, her architect, died in the disaster.\n",
        "\n",
        "### About the Data Set\n",
        "\n",
        "We have data of all passengers and the problem statement is to predict the survival  of a passenger given his current data inputs. The complete data can be downloaded here - www.kaggle.com/c/titanic\n",
        "\n",
        "\n",
        "### Titanic - The sad story\n",
        "- Exploratory Data Analysis I\n",
        "- Exploratory Data Analysis II\n",
        "- This is your last visited course section.Resume Course \n",
        "- EDA - Plotting\n",
        "- Preprocessing\n",
        "- Preprocessing II\n",
        "- Feature Engineering\n",
        "- Modelling\n",
        "- Advanced Modelling\n",
        "- Final Model\n",
        "- Model Evaluation\n",
        "- Feedback\n",
        "\n"
      ]
    },
    {
      "cell_type": "code",
      "metadata": {
        "id": "kejjoLHZCZGZ",
        "colab_type": "code",
        "outputId": "4da59200-2cc8-4f1d-b080-69c10f80566f",
        "colab": {
          "base_uri": "https://localhost:8080/",
          "height": 34
        }
      },
      "source": [
        "from google.colab import drive\n",
        "drive.mount('/content/drive')"
      ],
      "execution_count": 1,
      "outputs": [
        {
          "output_type": "stream",
          "text": [
            "Drive already mounted at /content/drive; to attempt to forcibly remount, call drive.mount(\"/content/drive\", force_remount=True).\n"
          ],
          "name": "stdout"
        }
      ]
    },
    {
      "cell_type": "markdown",
      "metadata": {
        "id": "QJA99to7_HIx",
        "colab_type": "text"
      },
      "source": [
        "### Loading Data and Diagnostics\n",
        "Let's import all required packages. Each package will be explained whenever it is used"
      ]
    },
    {
      "cell_type": "code",
      "metadata": {
        "id": "aewGbDhR8Bii",
        "colab_type": "code",
        "colab": {}
      },
      "source": [
        "# linear algebra\n",
        "import numpy as np\n",
        "# data processing\n",
        "import pandas as pd\n",
        "\n",
        "# data visualization\n",
        "import seaborn as sns\n",
        "%matplotlib inline\n",
        "from matplotlib import pyplot as plt\n",
        "from matplotlib import style\n",
        "\n",
        "# Algortithmic packages\n",
        "from sklearn import linear_model\n",
        "from sklearn.linear_model import LogisticRegression\n",
        "from sklearn.ensemble import RandomForestClassifier\n",
        "from sklearn.linear_model import Perceptron\n",
        "from sklearn.linear_model import SGDClassifier\n",
        "from sklearn.tree import DecisionTreeClassifier\n",
        "from sklearn.svm import SVC,LinearSVC\n",
        "from sklearn.naive_bayes import GaussianNB\n",
        "from sklearn.neighbors import KNeighborsClassifier\n",
        "\n",
        "import os"
      ],
      "execution_count": 0,
      "outputs": []
    },
    {
      "cell_type": "markdown",
      "metadata": {
        "id": "xlkie_eb8JQj",
        "colab_type": "text"
      },
      "source": [
        "Let's Load the dataset"
      ]
    },
    {
      "cell_type": "code",
      "metadata": {
        "id": "C19ERgkCClPb",
        "colab_type": "code",
        "outputId": "049d0063-40d9-4996-f0bb-9a7c58975ffc",
        "colab": {
          "base_uri": "https://localhost:8080/",
          "height": 34
        }
      },
      "source": [
        "from google.colab import drive\n",
        "drive.mount('/content/drive')"
      ],
      "execution_count": 3,
      "outputs": [
        {
          "output_type": "stream",
          "text": [
            "Drive already mounted at /content/drive; to attempt to forcibly remount, call drive.mount(\"/content/drive\", force_remount=True).\n"
          ],
          "name": "stdout"
        }
      ]
    },
    {
      "cell_type": "code",
      "metadata": {
        "id": "6PfZJt-kCv-A",
        "colab_type": "code",
        "outputId": "37e5b3dd-7d9b-4db7-d5d7-994d12af19f4",
        "colab": {
          "base_uri": "https://localhost:8080/",
          "height": 34
        }
      },
      "source": [
        "print(os.listdir(\"/content/drive/My Drive/titanic\"))"
      ],
      "execution_count": 4,
      "outputs": [
        {
          "output_type": "stream",
          "text": [
            "['test.csv', 'train.csv', 'gender_submission.csv']\n"
          ],
          "name": "stdout"
        }
      ]
    },
    {
      "cell_type": "code",
      "metadata": {
        "id": "sz0arDCDBMVA",
        "colab_type": "code",
        "outputId": "a7e52651-2df0-4a1e-9bd1-2600f82d7088",
        "colab": {
          "base_uri": "https://localhost:8080/",
          "height": 204
        }
      },
      "source": [
        "train_df = pd.read_csv('/content/drive/My Drive/titanic/train.csv')\n",
        "test_df = pd.read_csv('/content/drive/My Drive/titanic/test.csv')\n",
        "\n",
        "#printing first 5 rows of data\n",
        "train_df.head()"
      ],
      "execution_count": 5,
      "outputs": [
        {
          "output_type": "execute_result",
          "data": {
            "text/html": [
              "<div>\n",
              "<style scoped>\n",
              "    .dataframe tbody tr th:only-of-type {\n",
              "        vertical-align: middle;\n",
              "    }\n",
              "\n",
              "    .dataframe tbody tr th {\n",
              "        vertical-align: top;\n",
              "    }\n",
              "\n",
              "    .dataframe thead th {\n",
              "        text-align: right;\n",
              "    }\n",
              "</style>\n",
              "<table border=\"1\" class=\"dataframe\">\n",
              "  <thead>\n",
              "    <tr style=\"text-align: right;\">\n",
              "      <th></th>\n",
              "      <th>PassengerId</th>\n",
              "      <th>Survived</th>\n",
              "      <th>Pclass</th>\n",
              "      <th>Name</th>\n",
              "      <th>Sex</th>\n",
              "      <th>Age</th>\n",
              "      <th>SibSp</th>\n",
              "      <th>Parch</th>\n",
              "      <th>Ticket</th>\n",
              "      <th>Fare</th>\n",
              "      <th>Cabin</th>\n",
              "      <th>Embarked</th>\n",
              "    </tr>\n",
              "  </thead>\n",
              "  <tbody>\n",
              "    <tr>\n",
              "      <th>0</th>\n",
              "      <td>1</td>\n",
              "      <td>0</td>\n",
              "      <td>3</td>\n",
              "      <td>Braund, Mr. Owen Harris</td>\n",
              "      <td>male</td>\n",
              "      <td>22.0</td>\n",
              "      <td>1</td>\n",
              "      <td>0</td>\n",
              "      <td>A/5 21171</td>\n",
              "      <td>7.2500</td>\n",
              "      <td>NaN</td>\n",
              "      <td>S</td>\n",
              "    </tr>\n",
              "    <tr>\n",
              "      <th>1</th>\n",
              "      <td>2</td>\n",
              "      <td>1</td>\n",
              "      <td>1</td>\n",
              "      <td>Cumings, Mrs. John Bradley (Florence Briggs Th...</td>\n",
              "      <td>female</td>\n",
              "      <td>38.0</td>\n",
              "      <td>1</td>\n",
              "      <td>0</td>\n",
              "      <td>PC 17599</td>\n",
              "      <td>71.2833</td>\n",
              "      <td>C85</td>\n",
              "      <td>C</td>\n",
              "    </tr>\n",
              "    <tr>\n",
              "      <th>2</th>\n",
              "      <td>3</td>\n",
              "      <td>1</td>\n",
              "      <td>3</td>\n",
              "      <td>Heikkinen, Miss. Laina</td>\n",
              "      <td>female</td>\n",
              "      <td>26.0</td>\n",
              "      <td>0</td>\n",
              "      <td>0</td>\n",
              "      <td>STON/O2. 3101282</td>\n",
              "      <td>7.9250</td>\n",
              "      <td>NaN</td>\n",
              "      <td>S</td>\n",
              "    </tr>\n",
              "    <tr>\n",
              "      <th>3</th>\n",
              "      <td>4</td>\n",
              "      <td>1</td>\n",
              "      <td>1</td>\n",
              "      <td>Futrelle, Mrs. Jacques Heath (Lily May Peel)</td>\n",
              "      <td>female</td>\n",
              "      <td>35.0</td>\n",
              "      <td>1</td>\n",
              "      <td>0</td>\n",
              "      <td>113803</td>\n",
              "      <td>53.1000</td>\n",
              "      <td>C123</td>\n",
              "      <td>S</td>\n",
              "    </tr>\n",
              "    <tr>\n",
              "      <th>4</th>\n",
              "      <td>5</td>\n",
              "      <td>0</td>\n",
              "      <td>3</td>\n",
              "      <td>Allen, Mr. William Henry</td>\n",
              "      <td>male</td>\n",
              "      <td>35.0</td>\n",
              "      <td>0</td>\n",
              "      <td>0</td>\n",
              "      <td>373450</td>\n",
              "      <td>8.0500</td>\n",
              "      <td>NaN</td>\n",
              "      <td>S</td>\n",
              "    </tr>\n",
              "  </tbody>\n",
              "</table>\n",
              "</div>"
            ],
            "text/plain": [
              "   PassengerId  Survived  Pclass  ...     Fare Cabin  Embarked\n",
              "0            1         0       3  ...   7.2500   NaN         S\n",
              "1            2         1       1  ...  71.2833   C85         C\n",
              "2            3         1       3  ...   7.9250   NaN         S\n",
              "3            4         1       1  ...  53.1000  C123         S\n",
              "4            5         0       3  ...   8.0500   NaN         S\n",
              "\n",
              "[5 rows x 12 columns]"
            ]
          },
          "metadata": {
            "tags": []
          },
          "execution_count": 5
        }
      ]
    },
    {
      "cell_type": "markdown",
      "metadata": {
        "id": "Nye8tnJ2Dhbr",
        "colab_type": "text"
      },
      "source": [
        "Let's check info of the dataset to get an idea of how it's looking"
      ]
    },
    {
      "cell_type": "code",
      "metadata": {
        "id": "AxHIBbbADelp",
        "colab_type": "code",
        "outputId": "ff4f930d-e2d6-44f1-a3b7-5cff879e3ac7",
        "colab": {
          "base_uri": "https://localhost:8080/",
          "height": 306
        }
      },
      "source": [
        "train_df.info()"
      ],
      "execution_count": 6,
      "outputs": [
        {
          "output_type": "stream",
          "text": [
            "<class 'pandas.core.frame.DataFrame'>\n",
            "RangeIndex: 891 entries, 0 to 890\n",
            "Data columns (total 12 columns):\n",
            "PassengerId    891 non-null int64\n",
            "Survived       891 non-null int64\n",
            "Pclass         891 non-null int64\n",
            "Name           891 non-null object\n",
            "Sex            891 non-null object\n",
            "Age            714 non-null float64\n",
            "SibSp          891 non-null int64\n",
            "Parch          891 non-null int64\n",
            "Ticket         891 non-null object\n",
            "Fare           891 non-null float64\n",
            "Cabin          204 non-null object\n",
            "Embarked       889 non-null object\n",
            "dtypes: float64(2), int64(5), object(5)\n",
            "memory usage: 83.6+ KB\n"
          ],
          "name": "stdout"
        }
      ]
    },
    {
      "cell_type": "markdown",
      "metadata": {
        "id": "XhmJl2AbD1SF",
        "colab_type": "text"
      },
      "source": [
        "The training set has 891 examples and 11 features along with the Target variable(survived). Datatypes for 2 of the features are floats, 5 are integers and 5 are objects. Below I have listed the features with a short description:\n",
        "\n",
        "survival:   Survival<br>\n",
        "PassengerId: Unique Id of a passenger.<br>\n",
        "pclass:     Ticket class    <br>\n",
        "sex   :     Sex <br>\n",
        "Age   :     Age in years    \n",
        "sibsp :     # of siblings / spouses aboard the Titanic  <br>\n",
        "parch :     # of parents / children aboard the Titanic  <br>\n",
        "ticket:     Ticket number   <br>\n",
        "fare  :     Passenger fare  <br>\n",
        "cabin :     Cabin number    <br>\n",
        "embarked:   Port of Embarkation<br>"
      ]
    },
    {
      "cell_type": "code",
      "metadata": {
        "id": "-xW0d-sVI_mF",
        "colab_type": "code",
        "outputId": "2c2d926e-192c-4ddc-8e0f-04586d57e00d",
        "colab": {
          "base_uri": "https://localhost:8080/",
          "height": 68
        }
      },
      "source": [
        "# let's display the columns names\n",
        "train_df.columns"
      ],
      "execution_count": 7,
      "outputs": [
        {
          "output_type": "execute_result",
          "data": {
            "text/plain": [
              "Index(['PassengerId', 'Survived', 'Pclass', 'Name', 'Sex', 'Age', 'SibSp',\n",
              "       'Parch', 'Ticket', 'Fare', 'Cabin', 'Embarked'],\n",
              "      dtype='object')"
            ]
          },
          "metadata": {
            "tags": []
          },
          "execution_count": 7
        }
      ]
    },
    {
      "cell_type": "markdown",
      "metadata": {
        "id": "wRuhJQslEwy-",
        "colab_type": "text"
      },
      "source": [
        "Let's take a look at description of numerical Values in Dataset"
      ]
    },
    {
      "cell_type": "code",
      "metadata": {
        "id": "ggsON_ViDrdV",
        "colab_type": "code",
        "outputId": "81c5e6a5-860a-49de-8854-1adad41a9815",
        "colab": {
          "base_uri": "https://localhost:8080/",
          "height": 297
        }
      },
      "source": [
        "train_df.describe()"
      ],
      "execution_count": 8,
      "outputs": [
        {
          "output_type": "execute_result",
          "data": {
            "text/html": [
              "<div>\n",
              "<style scoped>\n",
              "    .dataframe tbody tr th:only-of-type {\n",
              "        vertical-align: middle;\n",
              "    }\n",
              "\n",
              "    .dataframe tbody tr th {\n",
              "        vertical-align: top;\n",
              "    }\n",
              "\n",
              "    .dataframe thead th {\n",
              "        text-align: right;\n",
              "    }\n",
              "</style>\n",
              "<table border=\"1\" class=\"dataframe\">\n",
              "  <thead>\n",
              "    <tr style=\"text-align: right;\">\n",
              "      <th></th>\n",
              "      <th>PassengerId</th>\n",
              "      <th>Survived</th>\n",
              "      <th>Pclass</th>\n",
              "      <th>Age</th>\n",
              "      <th>SibSp</th>\n",
              "      <th>Parch</th>\n",
              "      <th>Fare</th>\n",
              "    </tr>\n",
              "  </thead>\n",
              "  <tbody>\n",
              "    <tr>\n",
              "      <th>count</th>\n",
              "      <td>891.000000</td>\n",
              "      <td>891.000000</td>\n",
              "      <td>891.000000</td>\n",
              "      <td>714.000000</td>\n",
              "      <td>891.000000</td>\n",
              "      <td>891.000000</td>\n",
              "      <td>891.000000</td>\n",
              "    </tr>\n",
              "    <tr>\n",
              "      <th>mean</th>\n",
              "      <td>446.000000</td>\n",
              "      <td>0.383838</td>\n",
              "      <td>2.308642</td>\n",
              "      <td>29.699118</td>\n",
              "      <td>0.523008</td>\n",
              "      <td>0.381594</td>\n",
              "      <td>32.204208</td>\n",
              "    </tr>\n",
              "    <tr>\n",
              "      <th>std</th>\n",
              "      <td>257.353842</td>\n",
              "      <td>0.486592</td>\n",
              "      <td>0.836071</td>\n",
              "      <td>14.526497</td>\n",
              "      <td>1.102743</td>\n",
              "      <td>0.806057</td>\n",
              "      <td>49.693429</td>\n",
              "    </tr>\n",
              "    <tr>\n",
              "      <th>min</th>\n",
              "      <td>1.000000</td>\n",
              "      <td>0.000000</td>\n",
              "      <td>1.000000</td>\n",
              "      <td>0.420000</td>\n",
              "      <td>0.000000</td>\n",
              "      <td>0.000000</td>\n",
              "      <td>0.000000</td>\n",
              "    </tr>\n",
              "    <tr>\n",
              "      <th>25%</th>\n",
              "      <td>223.500000</td>\n",
              "      <td>0.000000</td>\n",
              "      <td>2.000000</td>\n",
              "      <td>20.125000</td>\n",
              "      <td>0.000000</td>\n",
              "      <td>0.000000</td>\n",
              "      <td>7.910400</td>\n",
              "    </tr>\n",
              "    <tr>\n",
              "      <th>50%</th>\n",
              "      <td>446.000000</td>\n",
              "      <td>0.000000</td>\n",
              "      <td>3.000000</td>\n",
              "      <td>28.000000</td>\n",
              "      <td>0.000000</td>\n",
              "      <td>0.000000</td>\n",
              "      <td>14.454200</td>\n",
              "    </tr>\n",
              "    <tr>\n",
              "      <th>75%</th>\n",
              "      <td>668.500000</td>\n",
              "      <td>1.000000</td>\n",
              "      <td>3.000000</td>\n",
              "      <td>38.000000</td>\n",
              "      <td>1.000000</td>\n",
              "      <td>0.000000</td>\n",
              "      <td>31.000000</td>\n",
              "    </tr>\n",
              "    <tr>\n",
              "      <th>max</th>\n",
              "      <td>891.000000</td>\n",
              "      <td>1.000000</td>\n",
              "      <td>3.000000</td>\n",
              "      <td>80.000000</td>\n",
              "      <td>8.000000</td>\n",
              "      <td>6.000000</td>\n",
              "      <td>512.329200</td>\n",
              "    </tr>\n",
              "  </tbody>\n",
              "</table>\n",
              "</div>"
            ],
            "text/plain": [
              "       PassengerId    Survived      Pclass  ...       SibSp       Parch        Fare\n",
              "count   891.000000  891.000000  891.000000  ...  891.000000  891.000000  891.000000\n",
              "mean    446.000000    0.383838    2.308642  ...    0.523008    0.381594   32.204208\n",
              "std     257.353842    0.486592    0.836071  ...    1.102743    0.806057   49.693429\n",
              "min       1.000000    0.000000    1.000000  ...    0.000000    0.000000    0.000000\n",
              "25%     223.500000    0.000000    2.000000  ...    0.000000    0.000000    7.910400\n",
              "50%     446.000000    0.000000    3.000000  ...    0.000000    0.000000   14.454200\n",
              "75%     668.500000    1.000000    3.000000  ...    1.000000    0.000000   31.000000\n",
              "max     891.000000    1.000000    3.000000  ...    8.000000    6.000000  512.329200\n",
              "\n",
              "[8 rows x 7 columns]"
            ]
          },
          "metadata": {
            "tags": []
          },
          "execution_count": 8
        }
      ]
    },
    {
      "cell_type": "code",
      "metadata": {
        "id": "Cq3IKUw2_wZ5",
        "colab_type": "code",
        "colab": {
          "base_uri": "https://localhost:8080/",
          "height": 221
        },
        "outputId": "34aeb0da-31a3-4dcc-c906-ab0af40f4e2f"
      },
      "source": [
        "test_df.iloc[152]"
      ],
      "execution_count": 9,
      "outputs": [
        {
          "output_type": "execute_result",
          "data": {
            "text/plain": [
              "PassengerId                  1044\n",
              "Pclass                          3\n",
              "Name           Storey, Mr. Thomas\n",
              "Sex                          male\n",
              "Age                          60.5\n",
              "SibSp                           0\n",
              "Parch                           0\n",
              "Ticket                       3701\n",
              "Fare                          NaN\n",
              "Cabin                         NaN\n",
              "Embarked                        S\n",
              "Name: 152, dtype: object"
            ]
          },
          "metadata": {
            "tags": []
          },
          "execution_count": 9
        }
      ]
    },
    {
      "cell_type": "markdown",
      "metadata": {
        "id": "SL-InipIFLNd",
        "colab_type": "text"
      },
      "source": [
        "Above we can see that 38% out of the training-set survived the Titanic. We can also see that the passenger ages range from 0.4 to 80. On top of that we can already detect some features, that contain missing values, like the 'Age' feature. Also we can find outliers if any by visual observation of quartiles.\n",
        "\n",
        "Let's look at head of the data"
      ]
    },
    {
      "cell_type": "code",
      "metadata": {
        "id": "iProH7nBE6sM",
        "colab_type": "code",
        "outputId": "8387ed33-6a4c-42a6-aa77-c31483f585e5",
        "colab": {
          "base_uri": "https://localhost:8080/",
          "height": 204
        }
      },
      "source": [
        "train_df.head()"
      ],
      "execution_count": 10,
      "outputs": [
        {
          "output_type": "execute_result",
          "data": {
            "text/html": [
              "<div>\n",
              "<style scoped>\n",
              "    .dataframe tbody tr th:only-of-type {\n",
              "        vertical-align: middle;\n",
              "    }\n",
              "\n",
              "    .dataframe tbody tr th {\n",
              "        vertical-align: top;\n",
              "    }\n",
              "\n",
              "    .dataframe thead th {\n",
              "        text-align: right;\n",
              "    }\n",
              "</style>\n",
              "<table border=\"1\" class=\"dataframe\">\n",
              "  <thead>\n",
              "    <tr style=\"text-align: right;\">\n",
              "      <th></th>\n",
              "      <th>PassengerId</th>\n",
              "      <th>Survived</th>\n",
              "      <th>Pclass</th>\n",
              "      <th>Name</th>\n",
              "      <th>Sex</th>\n",
              "      <th>Age</th>\n",
              "      <th>SibSp</th>\n",
              "      <th>Parch</th>\n",
              "      <th>Ticket</th>\n",
              "      <th>Fare</th>\n",
              "      <th>Cabin</th>\n",
              "      <th>Embarked</th>\n",
              "    </tr>\n",
              "  </thead>\n",
              "  <tbody>\n",
              "    <tr>\n",
              "      <th>0</th>\n",
              "      <td>1</td>\n",
              "      <td>0</td>\n",
              "      <td>3</td>\n",
              "      <td>Braund, Mr. Owen Harris</td>\n",
              "      <td>male</td>\n",
              "      <td>22.0</td>\n",
              "      <td>1</td>\n",
              "      <td>0</td>\n",
              "      <td>A/5 21171</td>\n",
              "      <td>7.2500</td>\n",
              "      <td>NaN</td>\n",
              "      <td>S</td>\n",
              "    </tr>\n",
              "    <tr>\n",
              "      <th>1</th>\n",
              "      <td>2</td>\n",
              "      <td>1</td>\n",
              "      <td>1</td>\n",
              "      <td>Cumings, Mrs. John Bradley (Florence Briggs Th...</td>\n",
              "      <td>female</td>\n",
              "      <td>38.0</td>\n",
              "      <td>1</td>\n",
              "      <td>0</td>\n",
              "      <td>PC 17599</td>\n",
              "      <td>71.2833</td>\n",
              "      <td>C85</td>\n",
              "      <td>C</td>\n",
              "    </tr>\n",
              "    <tr>\n",
              "      <th>2</th>\n",
              "      <td>3</td>\n",
              "      <td>1</td>\n",
              "      <td>3</td>\n",
              "      <td>Heikkinen, Miss. Laina</td>\n",
              "      <td>female</td>\n",
              "      <td>26.0</td>\n",
              "      <td>0</td>\n",
              "      <td>0</td>\n",
              "      <td>STON/O2. 3101282</td>\n",
              "      <td>7.9250</td>\n",
              "      <td>NaN</td>\n",
              "      <td>S</td>\n",
              "    </tr>\n",
              "    <tr>\n",
              "      <th>3</th>\n",
              "      <td>4</td>\n",
              "      <td>1</td>\n",
              "      <td>1</td>\n",
              "      <td>Futrelle, Mrs. Jacques Heath (Lily May Peel)</td>\n",
              "      <td>female</td>\n",
              "      <td>35.0</td>\n",
              "      <td>1</td>\n",
              "      <td>0</td>\n",
              "      <td>113803</td>\n",
              "      <td>53.1000</td>\n",
              "      <td>C123</td>\n",
              "      <td>S</td>\n",
              "    </tr>\n",
              "    <tr>\n",
              "      <th>4</th>\n",
              "      <td>5</td>\n",
              "      <td>0</td>\n",
              "      <td>3</td>\n",
              "      <td>Allen, Mr. William Henry</td>\n",
              "      <td>male</td>\n",
              "      <td>35.0</td>\n",
              "      <td>0</td>\n",
              "      <td>0</td>\n",
              "      <td>373450</td>\n",
              "      <td>8.0500</td>\n",
              "      <td>NaN</td>\n",
              "      <td>S</td>\n",
              "    </tr>\n",
              "  </tbody>\n",
              "</table>\n",
              "</div>"
            ],
            "text/plain": [
              "   PassengerId  Survived  Pclass  ...     Fare Cabin  Embarked\n",
              "0            1         0       3  ...   7.2500   NaN         S\n",
              "1            2         1       1  ...  71.2833   C85         C\n",
              "2            3         1       3  ...   7.9250   NaN         S\n",
              "3            4         1       1  ...  53.1000  C123         S\n",
              "4            5         0       3  ...   8.0500   NaN         S\n",
              "\n",
              "[5 rows x 12 columns]"
            ]
          },
          "metadata": {
            "tags": []
          },
          "execution_count": 10
        }
      ]
    },
    {
      "cell_type": "markdown",
      "metadata": {
        "id": "tug45algFbAm",
        "colab_type": "text"
      },
      "source": [
        "From the table above, we can note a few things. First of all, that we need to convert a lot of features into numeric ones later on, so that the machine learning algorithms can process them. Furthermore, we can see that the features have widely different ranges, that we will need to convert into roughly the same scale. We can also spot some more features, that contain missing values (NaN = not a number), that wee need to deal with.\n",
        "\n",
        "Let's take a more detailed look at what data is actually missing:"
      ]
    },
    {
      "cell_type": "code",
      "metadata": {
        "id": "CYHHDfBQFap9",
        "colab_type": "code",
        "outputId": "5e7450e2-ca0e-42c9-bd7c-9eed31cfabee",
        "colab": {
          "base_uri": "https://localhost:8080/",
          "height": 204
        }
      },
      "source": [
        "# count of null values in each column\n",
        "count  = train_df.isnull().sum().sort_values(ascending = False)\n",
        "\n",
        "# percentage of Null Values in each column\n",
        "percent = train_df.isnull().sum()/train_df.count()*100\n",
        "\n",
        "# rounding and arranging the percentage\n",
        "percent = round(percent,2).sort_values(ascending = False)\n",
        "\n",
        "# concatenating count and percentage into one\n",
        "missing_data = pd.concat([count,percent], axis = 1)\n",
        "\n",
        "# printing top 5 rows\n",
        "missing_data.head()"
      ],
      "execution_count": 11,
      "outputs": [
        {
          "output_type": "execute_result",
          "data": {
            "text/html": [
              "<div>\n",
              "<style scoped>\n",
              "    .dataframe tbody tr th:only-of-type {\n",
              "        vertical-align: middle;\n",
              "    }\n",
              "\n",
              "    .dataframe tbody tr th {\n",
              "        vertical-align: top;\n",
              "    }\n",
              "\n",
              "    .dataframe thead th {\n",
              "        text-align: right;\n",
              "    }\n",
              "</style>\n",
              "<table border=\"1\" class=\"dataframe\">\n",
              "  <thead>\n",
              "    <tr style=\"text-align: right;\">\n",
              "      <th></th>\n",
              "      <th>0</th>\n",
              "      <th>1</th>\n",
              "    </tr>\n",
              "  </thead>\n",
              "  <tbody>\n",
              "    <tr>\n",
              "      <th>Cabin</th>\n",
              "      <td>687</td>\n",
              "      <td>336.76</td>\n",
              "    </tr>\n",
              "    <tr>\n",
              "      <th>Age</th>\n",
              "      <td>177</td>\n",
              "      <td>24.79</td>\n",
              "    </tr>\n",
              "    <tr>\n",
              "      <th>Embarked</th>\n",
              "      <td>2</td>\n",
              "      <td>0.22</td>\n",
              "    </tr>\n",
              "    <tr>\n",
              "      <th>Fare</th>\n",
              "      <td>0</td>\n",
              "      <td>0.00</td>\n",
              "    </tr>\n",
              "    <tr>\n",
              "      <th>Ticket</th>\n",
              "      <td>0</td>\n",
              "      <td>0.00</td>\n",
              "    </tr>\n",
              "  </tbody>\n",
              "</table>\n",
              "</div>"
            ],
            "text/plain": [
              "            0       1\n",
              "Cabin     687  336.76\n",
              "Age       177   24.79\n",
              "Embarked    2    0.22\n",
              "Fare        0    0.00\n",
              "Ticket      0    0.00"
            ]
          },
          "metadata": {
            "tags": []
          },
          "execution_count": 11
        }
      ]
    },
    {
      "cell_type": "markdown",
      "metadata": {
        "id": "SM3UMtOkIkuZ",
        "colab_type": "text"
      },
      "source": [
        "If you notice, Cabin has the highest percentage. The Embarked feature has only 2 missing values, which can easily be filled. It will be much more tricky, to deal with the 'Age' feature, which has 177 missing values. The 'Cabin' feature needs further investigation, but it looks like that we might want to drop it from the dataset, since 77 % of it are missing.\n",
        "\n"
      ]
    },
    {
      "cell_type": "markdown",
      "metadata": {
        "id": "FtS-h0AAOKi1",
        "colab_type": "text"
      },
      "source": [
        "### Visualization\n",
        "\n",
        "To check the relationship between survival vs age/sex, let's plot some graphs"
      ]
    },
    {
      "cell_type": "markdown",
      "metadata": {
        "id": "-dj08APmW-PW",
        "colab_type": "text"
      },
      "source": [
        "#### 1. Age vs Sex"
      ]
    },
    {
      "cell_type": "code",
      "metadata": {
        "id": "mdtKFaMLFOoa",
        "colab_type": "code",
        "outputId": "5721ef5a-4c2e-4b64-c95f-635f1953d297",
        "colab": {
          "base_uri": "https://localhost:8080/",
          "height": 513
        }
      },
      "source": [
        "survived = 'survided'\n",
        "not_survived = 'not_survived'\n",
        "fig, axes = plt.subplots(nrows = 1 , ncols = 2 , figsize = (18,8))\n",
        "women = train_df[train_df['Sex'] == 'female']\n",
        "men = train_df[train_df['Sex'] == 'male']\n",
        "\n",
        "ax = sns.distplot(women[women['Survived']==1].Age.dropna(), bins=8, label = survived , ax=axes[0], kde = False)\n",
        "ax = sns.distplot(women[women['Survived'] == 0].Age.dropna(), bins = 40, label=not_survived, ax = axes[0], kde =False)\n",
        "ax.set_title('Female')\n",
        "\n",
        "ax = sns.distplot(men[men['Survived']==1].Age.dropna(), bins=8, label = survived , ax=axes[1], kde = False)\n",
        "ax = sns.distplot(men[men['Survived'] == 0].Age.dropna(), bins = 40, label=not_survived, ax = axes[1], kde =False)\n",
        "_ = ax.set_title('Male')\n",
        "ax.legend()\n",
        "plt.show()"
      ],
      "execution_count": 12,
      "outputs": [
        {
          "output_type": "display_data",
          "data": {
            "image/png": "[encoded data removed]",
            "text/plain": [
              "<Figure size 1296x576 with 2 Axes>"
            ]
          },
          "metadata": {
            "tags": []
          }
        }
      ]
    },
    {
      "cell_type": "markdown",
      "metadata": {
        "id": "MmC5YeRfWxh7",
        "colab_type": "text"
      },
      "source": [
        "You can see that men have a high probability of survival when they are between 18 and 30 years old, which is also a little bit true for women but not fully. For women the survival chances are higher between 14 and 40.\n",
        "\n",
        "For men the probability of survival is very low between the age of 5 and 18, but that isn't true for women. Another thing to note is that infants also have a little bit higher probability of survival.\n",
        "\n",
        "Since there seem to be certain ages, which have increased odds of survival and because I want every feature to be roughly on the same scale, I will create age groups later on."
      ]
    },
    {
      "cell_type": "markdown",
      "metadata": {
        "id": "aNDogaVcW1JL",
        "colab_type": "text"
      },
      "source": [
        "#### 2. Embarked, Pclass and Sex:"
      ]
    },
    {
      "cell_type": "code",
      "metadata": {
        "id": "2LAfveciHfvc",
        "colab_type": "code",
        "colab": {
          "base_uri": "https://localhost:8080/",
          "height": 981
        },
        "outputId": "20a7801c-17ee-4e48-87cb-ad7fb628cfda"
      },
      "source": [
        "facetgrid = sns.FacetGrid(train_df , row = 'Embarked', height = 4.5 , aspect =1.8)\n",
        "facetgrid.map(sns.pointplot, 'Pclass','Survived', 'Sex', order=None, hue_order=None)\n",
        "facetgrid.add_legend()\n",
        "plt.show()"
      ],
      "execution_count": 13,
      "outputs": [
        {
          "output_type": "display_data",
          "data": {
            "image/png": "[encoded data removed]",
            "text/plain": [
              "<Figure size 653.7x972 with 3 Axes>"
            ]
          },
          "metadata": {
            "tags": []
          }
        }
      ]
    },
    {
      "cell_type": "code",
      "metadata": {
        "id": "44aykw1ZYUJ3",
        "colab_type": "code",
        "colab": {
          "base_uri": "https://localhost:8080/",
          "height": 283
        },
        "outputId": "0d04b408-d41d-4bd8-b109-16532b602c21"
      },
      "source": [
        "sns.barplot(x = 'Pclass', y = 'Survived' , data = train_df)\n",
        "plt.show()"
      ],
      "execution_count": 14,
      "outputs": [
        {
          "output_type": "display_data",
          "data": {
            "image/png": "[encoded data removed]",
            "text/plain": [
              "<Figure size 432x288 with 1 Axes>"
            ]
          },
          "metadata": {
            "tags": []
          }
        }
      ]
    },
    {
      "cell_type": "markdown",
      "metadata": {
        "id": "AaNsvsopYMUw",
        "colab_type": "text"
      },
      "source": [
        "Here we see clearly, that Pclass is contributing to a persons chance of survival, especially if this person is in class 1.\n",
        "\n"
      ]
    },
    {
      "cell_type": "markdown",
      "metadata": {
        "id": "QluX0IIsY9t7",
        "colab_type": "text"
      },
      "source": [
        "#### 3. Let's create another plot below for distribution of P Class:\n"
      ]
    },
    {
      "cell_type": "code",
      "metadata": {
        "id": "201w9QsaY82u",
        "colab_type": "code",
        "colab": {
          "base_uri": "https://localhost:8080/",
          "height": 657
        },
        "outputId": "bc61d161-123d-4afe-cd48-4112d1d50b01"
      },
      "source": [
        "grid = sns.FacetGrid(train_df, row = 'Pclass', col='Survived', hue_order=None, height = 3, aspect=2)\n",
        "grid.map(plt.hist, 'Age', alpha=0.7, bins = 20)\n",
        "plt.show()\n"
      ],
      "execution_count": 15,
      "outputs": [
        {
          "output_type": "display_data",
          "data": {
            "image/png": "[encoded data removed]",
            "text/plain": [
              "<Figure size 864x648 with 6 Axes>"
            ]
          },
          "metadata": {
            "tags": []
          }
        }
      ]
    },
    {
      "cell_type": "markdown",
      "metadata": {
        "id": "f2vgzxLAaGHj",
        "colab_type": "text"
      },
      "source": [
        "Assuming, Being alone and survival rate has high dependency. let's Create a new binary feature - 'Alone' "
      ]
    },
    {
      "cell_type": "code",
      "metadata": {
        "id": "WgE1PnAgX3vL",
        "colab_type": "code",
        "colab": {}
      },
      "source": [
        "data = [train_df , test_df]\n",
        "for dataset in data:\n",
        "  dataset['Relatives']=dataset['Parch']+dataset['SibSp']\n",
        "  dataset.loc[dataset['Relatives']>0,'Alone']=0\n",
        "  dataset.loc[dataset['Relatives']==0,'Alone']=1\n",
        "  dataset['Alone']=dataset['Alone'].astype(int)"
      ],
      "execution_count": 0,
      "outputs": []
    },
    {
      "cell_type": "code",
      "metadata": {
        "id": "zd0FwdQNbuJx",
        "colab_type": "code",
        "colab": {
          "base_uri": "https://localhost:8080/",
          "height": 204
        },
        "outputId": "8756f0f4-3952-4e56-8fa9-df5670facad6"
      },
      "source": [
        "train_df.head()"
      ],
      "execution_count": 17,
      "outputs": [
        {
          "output_type": "execute_result",
          "data": {
            "text/html": [
              "<div>\n",
              "<style scoped>\n",
              "    .dataframe tbody tr th:only-of-type {\n",
              "        vertical-align: middle;\n",
              "    }\n",
              "\n",
              "    .dataframe tbody tr th {\n",
              "        vertical-align: top;\n",
              "    }\n",
              "\n",
              "    .dataframe thead th {\n",
              "        text-align: right;\n",
              "    }\n",
              "</style>\n",
              "<table border=\"1\" class=\"dataframe\">\n",
              "  <thead>\n",
              "    <tr style=\"text-align: right;\">\n",
              "      <th></th>\n",
              "      <th>PassengerId</th>\n",
              "      <th>Survived</th>\n",
              "      <th>Pclass</th>\n",
              "      <th>Name</th>\n",
              "      <th>Sex</th>\n",
              "      <th>Age</th>\n",
              "      <th>SibSp</th>\n",
              "      <th>Parch</th>\n",
              "      <th>Ticket</th>\n",
              "      <th>Fare</th>\n",
              "      <th>Cabin</th>\n",
              "      <th>Embarked</th>\n",
              "      <th>Relatives</th>\n",
              "      <th>Alone</th>\n",
              "    </tr>\n",
              "  </thead>\n",
              "  <tbody>\n",
              "    <tr>\n",
              "      <th>0</th>\n",
              "      <td>1</td>\n",
              "      <td>0</td>\n",
              "      <td>3</td>\n",
              "      <td>Braund, Mr. Owen Harris</td>\n",
              "      <td>male</td>\n",
              "      <td>22.0</td>\n",
              "      <td>1</td>\n",
              "      <td>0</td>\n",
              "      <td>A/5 21171</td>\n",
              "      <td>7.2500</td>\n",
              "      <td>NaN</td>\n",
              "      <td>S</td>\n",
              "      <td>1</td>\n",
              "      <td>0</td>\n",
              "    </tr>\n",
              "    <tr>\n",
              "      <th>1</th>\n",
              "      <td>2</td>\n",
              "      <td>1</td>\n",
              "      <td>1</td>\n",
              "      <td>Cumings, Mrs. John Bradley (Florence Briggs Th...</td>\n",
              "      <td>female</td>\n",
              "      <td>38.0</td>\n",
              "      <td>1</td>\n",
              "      <td>0</td>\n",
              "      <td>PC 17599</td>\n",
              "      <td>71.2833</td>\n",
              "      <td>C85</td>\n",
              "      <td>C</td>\n",
              "      <td>1</td>\n",
              "      <td>0</td>\n",
              "    </tr>\n",
              "    <tr>\n",
              "      <th>2</th>\n",
              "      <td>3</td>\n",
              "      <td>1</td>\n",
              "      <td>3</td>\n",
              "      <td>Heikkinen, Miss. Laina</td>\n",
              "      <td>female</td>\n",
              "      <td>26.0</td>\n",
              "      <td>0</td>\n",
              "      <td>0</td>\n",
              "      <td>STON/O2. 3101282</td>\n",
              "      <td>7.9250</td>\n",
              "      <td>NaN</td>\n",
              "      <td>S</td>\n",
              "      <td>0</td>\n",
              "      <td>1</td>\n",
              "    </tr>\n",
              "    <tr>\n",
              "      <th>3</th>\n",
              "      <td>4</td>\n",
              "      <td>1</td>\n",
              "      <td>1</td>\n",
              "      <td>Futrelle, Mrs. Jacques Heath (Lily May Peel)</td>\n",
              "      <td>female</td>\n",
              "      <td>35.0</td>\n",
              "      <td>1</td>\n",
              "      <td>0</td>\n",
              "      <td>113803</td>\n",
              "      <td>53.1000</td>\n",
              "      <td>C123</td>\n",
              "      <td>S</td>\n",
              "      <td>1</td>\n",
              "      <td>0</td>\n",
              "    </tr>\n",
              "    <tr>\n",
              "      <th>4</th>\n",
              "      <td>5</td>\n",
              "      <td>0</td>\n",
              "      <td>3</td>\n",
              "      <td>Allen, Mr. William Henry</td>\n",
              "      <td>male</td>\n",
              "      <td>35.0</td>\n",
              "      <td>0</td>\n",
              "      <td>0</td>\n",
              "      <td>373450</td>\n",
              "      <td>8.0500</td>\n",
              "      <td>NaN</td>\n",
              "      <td>S</td>\n",
              "      <td>0</td>\n",
              "      <td>1</td>\n",
              "    </tr>\n",
              "  </tbody>\n",
              "</table>\n",
              "</div>"
            ],
            "text/plain": [
              "   PassengerId  Survived  Pclass  ... Embarked Relatives  Alone\n",
              "0            1         0       3  ...        S         1      0\n",
              "1            2         1       1  ...        C         1      0\n",
              "2            3         1       3  ...        S         0      1\n",
              "3            4         1       1  ...        S         1      0\n",
              "4            5         0       3  ...        S         0      1\n",
              "\n",
              "[5 rows x 14 columns]"
            ]
          },
          "metadata": {
            "tags": []
          },
          "execution_count": 17
        }
      ]
    },
    {
      "cell_type": "code",
      "metadata": {
        "id": "F27Z3aexbz9P",
        "colab_type": "code",
        "colab": {
          "base_uri": "https://localhost:8080/",
          "height": 68
        },
        "outputId": "f1020b51-c356-49a1-d847-f0e7803db073"
      },
      "source": [
        "train_df.Alone.value_counts()"
      ],
      "execution_count": 18,
      "outputs": [
        {
          "output_type": "execute_result",
          "data": {
            "text/plain": [
              "1    537\n",
              "0    354\n",
              "Name: Alone, dtype: int64"
            ]
          },
          "metadata": {
            "tags": []
          },
          "execution_count": 18
        }
      ]
    },
    {
      "cell_type": "markdown",
      "metadata": {
        "id": "TFCmwIVodJsY",
        "colab_type": "text"
      },
      "source": [
        "#### 4. No_of_Relatives vs Survived"
      ]
    },
    {
      "cell_type": "code",
      "metadata": {
        "id": "pQIhzr-Mb_wz",
        "colab_type": "code",
        "colab": {
          "base_uri": "https://localhost:8080/",
          "height": 446
        },
        "outputId": "5395e212-1d01-432e-a7cc-07d5b4b9e56b"
      },
      "source": [
        "plt.figure(figsize=(16,7))\n",
        "sns.pointplot(x='Relatives', y = 'Survived', data= train_df )\n",
        "plt.show()"
      ],
      "execution_count": 19,
      "outputs": [
        {
          "output_type": "display_data",
          "data": {
            "image/png": "[encoded data removed]",
            "text/plain": [
              "<Figure size 1152x504 with 1 Axes>"
            ]
          },
          "metadata": {
            "tags": []
          }
        }
      ]
    },
    {
      "cell_type": "markdown",
      "metadata": {
        "id": "3lW52ZozdGI5",
        "colab_type": "text"
      },
      "source": [
        "Very interesting to note that survival rate slowly increases and then falls down"
      ]
    },
    {
      "cell_type": "markdown",
      "metadata": {
        "id": "miRTWnWvgKRR",
        "colab_type": "text"
      },
      "source": [
        "### Basic Pre-Processing"
      ]
    },
    {
      "cell_type": "markdown",
      "metadata": {
        "id": "H3daZ3WMgYbC",
        "colab_type": "text"
      },
      "source": [
        "In first step,we will see if any features are irrelevant and drop them. \n",
        "As you can see passenger ID is irrelevant.  I will drop 'PassengerId' from the train set, because it does not contribute to a persons survival probability. \n",
        "\n",
        "I will not drop it from the test set, since it is required there for the submission"
      ]
    },
    {
      "cell_type": "code",
      "metadata": {
        "id": "91IAyr9_cm6V",
        "colab_type": "code",
        "colab": {
          "base_uri": "https://localhost:8080/",
          "height": 204
        },
        "outputId": "5643b771-2c8a-40a3-d651-04f86bbb449c"
      },
      "source": [
        "train_df = train_df.drop(['PassengerId'], axis = 1)\n",
        "train_df.head()"
      ],
      "execution_count": 20,
      "outputs": [
        {
          "output_type": "execute_result",
          "data": {
            "text/html": [
              "<div>\n",
              "<style scoped>\n",
              "    .dataframe tbody tr th:only-of-type {\n",
              "        vertical-align: middle;\n",
              "    }\n",
              "\n",
              "    .dataframe tbody tr th {\n",
              "        vertical-align: top;\n",
              "    }\n",
              "\n",
              "    .dataframe thead th {\n",
              "        text-align: right;\n",
              "    }\n",
              "</style>\n",
              "<table border=\"1\" class=\"dataframe\">\n",
              "  <thead>\n",
              "    <tr style=\"text-align: right;\">\n",
              "      <th></th>\n",
              "      <th>Survived</th>\n",
              "      <th>Pclass</th>\n",
              "      <th>Name</th>\n",
              "      <th>Sex</th>\n",
              "      <th>Age</th>\n",
              "      <th>SibSp</th>\n",
              "      <th>Parch</th>\n",
              "      <th>Ticket</th>\n",
              "      <th>Fare</th>\n",
              "      <th>Cabin</th>\n",
              "      <th>Embarked</th>\n",
              "      <th>Relatives</th>\n",
              "      <th>Alone</th>\n",
              "    </tr>\n",
              "  </thead>\n",
              "  <tbody>\n",
              "    <tr>\n",
              "      <th>0</th>\n",
              "      <td>0</td>\n",
              "      <td>3</td>\n",
              "      <td>Braund, Mr. Owen Harris</td>\n",
              "      <td>male</td>\n",
              "      <td>22.0</td>\n",
              "      <td>1</td>\n",
              "      <td>0</td>\n",
              "      <td>A/5 21171</td>\n",
              "      <td>7.2500</td>\n",
              "      <td>NaN</td>\n",
              "      <td>S</td>\n",
              "      <td>1</td>\n",
              "      <td>0</td>\n",
              "    </tr>\n",
              "    <tr>\n",
              "      <th>1</th>\n",
              "      <td>1</td>\n",
              "      <td>1</td>\n",
              "      <td>Cumings, Mrs. John Bradley (Florence Briggs Th...</td>\n",
              "      <td>female</td>\n",
              "      <td>38.0</td>\n",
              "      <td>1</td>\n",
              "      <td>0</td>\n",
              "      <td>PC 17599</td>\n",
              "      <td>71.2833</td>\n",
              "      <td>C85</td>\n",
              "      <td>C</td>\n",
              "      <td>1</td>\n",
              "      <td>0</td>\n",
              "    </tr>\n",
              "    <tr>\n",
              "      <th>2</th>\n",
              "      <td>1</td>\n",
              "      <td>3</td>\n",
              "      <td>Heikkinen, Miss. Laina</td>\n",
              "      <td>female</td>\n",
              "      <td>26.0</td>\n",
              "      <td>0</td>\n",
              "      <td>0</td>\n",
              "      <td>STON/O2. 3101282</td>\n",
              "      <td>7.9250</td>\n",
              "      <td>NaN</td>\n",
              "      <td>S</td>\n",
              "      <td>0</td>\n",
              "      <td>1</td>\n",
              "    </tr>\n",
              "    <tr>\n",
              "      <th>3</th>\n",
              "      <td>1</td>\n",
              "      <td>1</td>\n",
              "      <td>Futrelle, Mrs. Jacques Heath (Lily May Peel)</td>\n",
              "      <td>female</td>\n",
              "      <td>35.0</td>\n",
              "      <td>1</td>\n",
              "      <td>0</td>\n",
              "      <td>113803</td>\n",
              "      <td>53.1000</td>\n",
              "      <td>C123</td>\n",
              "      <td>S</td>\n",
              "      <td>1</td>\n",
              "      <td>0</td>\n",
              "    </tr>\n",
              "    <tr>\n",
              "      <th>4</th>\n",
              "      <td>0</td>\n",
              "      <td>3</td>\n",
              "      <td>Allen, Mr. William Henry</td>\n",
              "      <td>male</td>\n",
              "      <td>35.0</td>\n",
              "      <td>0</td>\n",
              "      <td>0</td>\n",
              "      <td>373450</td>\n",
              "      <td>8.0500</td>\n",
              "      <td>NaN</td>\n",
              "      <td>S</td>\n",
              "      <td>0</td>\n",
              "      <td>1</td>\n",
              "    </tr>\n",
              "  </tbody>\n",
              "</table>\n",
              "</div>"
            ],
            "text/plain": [
              "   Survived  Pclass  ... Relatives Alone\n",
              "0         0       3  ...         1     0\n",
              "1         1       1  ...         1     0\n",
              "2         1       3  ...         0     1\n",
              "3         1       1  ...         1     0\n",
              "4         0       3  ...         0     1\n",
              "\n",
              "[5 rows x 13 columns]"
            ]
          },
          "metadata": {
            "tags": []
          },
          "execution_count": 20
        }
      ]
    },
    {
      "cell_type": "markdown",
      "metadata": {
        "id": "oWAaQfquhtTA",
        "colab_type": "text"
      },
      "source": [
        "#### Missing Data in cabin :\n",
        " As a reminder, we have to deal with Cabin (687), Embarked (2) and Age (177). First I thought of dropping the 'Cabin' variable but then I found something interesting.\n",
        "\n",
        "`A cabin number looks like ‘C123’ and the letter refers to the deck.`\n",
        " \n",
        "Therefore we’re going to extract these and create a new feature, that contains a persons deck. Afterwords we will convert the feature into a numeric variable. \n",
        "\n",
        "The missing values will be converted to zero. In the picture below you can see the actual decks of the titanic, ranging from A to G."
      ]
    },
    {
      "cell_type": "code",
      "metadata": {
        "id": "VXmxnksAg8GV",
        "colab_type": "code",
        "colab": {}
      },
      "source": [
        "import re\n",
        "\n",
        "deck =  {'A':1  , 'B': 2 , 'C': 3, 'D':4 ,'E' : 5 , 'F':6 , 'G':7 , 'U':8}\n",
        "data = [train_df , test_df]\n",
        "for dataset in data:\n",
        "  dataset['Cabin']=dataset['Cabin'].fillna('U0')\n",
        "  dataset['Deck']=dataset['Cabin'].map(lambda x : re.compile(\"([a-zA-Z]+)\").search(x).group())\n",
        "  dataset['Deck']=dataset['Deck'].map(deck)\n",
        "  dataset['Deck']=dataset['Deck'].fillna(0)\n",
        "  dataset['Deck']=dataset['Deck'].astype(int)"
      ],
      "execution_count": 0,
      "outputs": []
    },
    {
      "cell_type": "code",
      "metadata": {
        "id": "Gvh62SNVrp7a",
        "colab_type": "code",
        "colab": {
          "base_uri": "https://localhost:8080/",
          "height": 187
        },
        "outputId": "162807ab-a8d6-465d-ec3e-ac815d723407"
      },
      "source": [
        "train_df.Deck.value_counts()"
      ],
      "execution_count": 22,
      "outputs": [
        {
          "output_type": "execute_result",
          "data": {
            "text/plain": [
              "8    687\n",
              "3     59\n",
              "2     47\n",
              "4     33\n",
              "5     32\n",
              "1     15\n",
              "6     13\n",
              "7      4\n",
              "0      1\n",
              "Name: Deck, dtype: int64"
            ]
          },
          "metadata": {
            "tags": []
          },
          "execution_count": 22
        }
      ]
    },
    {
      "cell_type": "code",
      "metadata": {
        "id": "Mglur1Vqr7j1",
        "colab_type": "code",
        "colab": {
          "base_uri": "https://localhost:8080/",
          "height": 187
        },
        "outputId": "7b706732-cb62-43e3-9bdc-3db72b5adc03"
      },
      "source": [
        "# Same code as above, Regular Expression Simplified\n",
        "\n",
        "import re\n",
        "\n",
        "deck =  {'A':1  , 'B': 2 , 'C': 3, 'D':4 ,'E' : 5 , 'F':6 , 'G':7 , 'U':8}\n",
        "data = [train_df , test_df]\n",
        "\n",
        "for dataset in data:\n",
        "  dataset['Cabin']=dataset['Cabin'].fillna('U0')\n",
        "  dataset['Deck']=dataset['Cabin'].map(lambda x : x[0])\n",
        "  dataset['Deck']=dataset['Deck'].map(deck)\n",
        "  dataset['Deck']=dataset['Deck'].fillna(0)\n",
        "  dataset['Deck']=dataset['Deck'].astype(int)\n",
        "\n",
        "  \n",
        "  \n",
        "train_df.Deck.value_counts()"
      ],
      "execution_count": 23,
      "outputs": [
        {
          "output_type": "execute_result",
          "data": {
            "text/plain": [
              "8    687\n",
              "3     59\n",
              "2     47\n",
              "4     33\n",
              "5     32\n",
              "1     15\n",
              "6     13\n",
              "7      4\n",
              "0      1\n",
              "Name: Deck, dtype: int64"
            ]
          },
          "metadata": {
            "tags": []
          },
          "execution_count": 23
        }
      ]
    },
    {
      "cell_type": "code",
      "metadata": {
        "id": "Jz69h9LMuXfM",
        "colab_type": "code",
        "colab": {}
      },
      "source": [
        ""
      ],
      "execution_count": 0,
      "outputs": []
    },
    {
      "cell_type": "markdown",
      "metadata": {
        "id": "sAmIS-Ldu7EH",
        "colab_type": "text"
      },
      "source": [
        "we can now drop the cabin feature now"
      ]
    },
    {
      "cell_type": "code",
      "metadata": {
        "id": "MtJsUBE_uZ__",
        "colab_type": "code",
        "colab": {}
      },
      "source": [
        "data = [train_df,test_df]\n",
        "for dataset in data:\n",
        "  dataset=dataset.drop(['Cabin'], axis = 1)"
      ],
      "execution_count": 0,
      "outputs": []
    },
    {
      "cell_type": "code",
      "metadata": {
        "id": "uLX8FDtwtcYA",
        "colab_type": "code",
        "colab": {}
      },
      "source": [
        "train_df=train_df.drop('Cabin', axis = 1)\n",
        "test_df=test_df.drop('Cabin', axis = 1)"
      ],
      "execution_count": 0,
      "outputs": []
    },
    {
      "cell_type": "markdown",
      "metadata": {
        "id": "s4Hw3piitcBL",
        "colab_type": "text"
      },
      "source": [
        ""
      ]
    },
    {
      "cell_type": "markdown",
      "metadata": {
        "id": "2bTGJI4ZvWBR",
        "colab_type": "text"
      },
      "source": [
        "#### Missing data in Age\n",
        "Now we can tackle the issue with the age features missing values:  \n",
        "\n",
        "I will create an array of size n that contains random numbers, which are computed based on the mean age value in regards to the standard deviation where n is equal to number of missing Values."
      ]
    },
    {
      "cell_type": "code",
      "metadata": {
        "id": "4Efs0DWzvTIl",
        "colab_type": "code",
        "colab": {}
      },
      "source": [
        "data = [train_df , test_df]\n",
        "mean = train_df['Age'].mean()\n",
        "std  = test_df['Age'].std()\n",
        "\n",
        "\n",
        "for dataset in data:\n",
        "  count_of_null = dataset['Age'].isnull().sum()\n",
        "  \n",
        "  rand_age = np.random.randint(mean-std,mean+std, size = count_of_null)\n",
        "  \n",
        "  age_slice = dataset['Age'].copy()\n",
        "  age_slice[np.isnan(age_slice)]= rand_age\n",
        "  \n",
        "  dataset['Age']=age_slice\n",
        "  dataset['Age']=dataset['Age'].astype(int)"
      ],
      "execution_count": 0,
      "outputs": []
    },
    {
      "cell_type": "markdown",
      "metadata": {
        "id": "H7B7whI8x3g6",
        "colab_type": "text"
      },
      "source": [
        "#### Missing data in Embarked:\n",
        "Since the Embarked feature has only 2 missing values, we will just fill these with the most common one.\n",
        "\n"
      ]
    },
    {
      "cell_type": "code",
      "metadata": {
        "id": "3_pWwiWhxuwj",
        "colab_type": "code",
        "colab": {
          "base_uri": "https://localhost:8080/",
          "height": 102
        },
        "outputId": "5f233be0-53bc-4b8f-d51a-7515e5de0001"
      },
      "source": [
        "train_df['Embarked'].describe()"
      ],
      "execution_count": 27,
      "outputs": [
        {
          "output_type": "execute_result",
          "data": {
            "text/plain": [
              "count     889\n",
              "unique      3\n",
              "top         S\n",
              "freq      644\n",
              "Name: Embarked, dtype: object"
            ]
          },
          "metadata": {
            "tags": []
          },
          "execution_count": 27
        }
      ]
    },
    {
      "cell_type": "code",
      "metadata": {
        "id": "FrLpSuqc4Jai",
        "colab_type": "code",
        "colab": {}
      },
      "source": [
        "train_df['Embarked'] = train_df['Embarked'].fillna('S')\n",
        "test_df['Embarked'] = test_df['Embarked'].fillna('S')"
      ],
      "execution_count": 0,
      "outputs": []
    },
    {
      "cell_type": "markdown",
      "metadata": {
        "id": "UwViHf814leB",
        "colab_type": "text"
      },
      "source": [
        "All the missing values in our dataset has been dealt.\n",
        "Let's check info of train_df\n"
      ]
    },
    {
      "cell_type": "code",
      "metadata": {
        "id": "HRSgupK04THf",
        "colab_type": "code",
        "colab": {
          "base_uri": "https://localhost:8080/",
          "height": 323
        },
        "outputId": "01d81288-ab27-41f2-d518-90a5548ad8e2"
      },
      "source": [
        "train_df.info()"
      ],
      "execution_count": 29,
      "outputs": [
        {
          "output_type": "stream",
          "text": [
            "<class 'pandas.core.frame.DataFrame'>\n",
            "RangeIndex: 891 entries, 0 to 890\n",
            "Data columns (total 13 columns):\n",
            "Survived     891 non-null int64\n",
            "Pclass       891 non-null int64\n",
            "Name         891 non-null object\n",
            "Sex          891 non-null object\n",
            "Age          891 non-null int64\n",
            "SibSp        891 non-null int64\n",
            "Parch        891 non-null int64\n",
            "Ticket       891 non-null object\n",
            "Fare         891 non-null float64\n",
            "Embarked     891 non-null object\n",
            "Relatives    891 non-null int64\n",
            "Alone        891 non-null int64\n",
            "Deck         891 non-null int64\n",
            "dtypes: float64(1), int64(8), object(4)\n",
            "memory usage: 90.6+ KB\n"
          ],
          "name": "stdout"
        }
      ]
    },
    {
      "cell_type": "code",
      "metadata": {
        "id": "SnBlydP64_qd",
        "colab_type": "code",
        "colab": {
          "base_uri": "https://localhost:8080/",
          "height": 323
        },
        "outputId": "6815ead5-e160-47ff-ea6e-28993117c184"
      },
      "source": [
        "test_df.info()"
      ],
      "execution_count": 30,
      "outputs": [
        {
          "output_type": "stream",
          "text": [
            "<class 'pandas.core.frame.DataFrame'>\n",
            "RangeIndex: 418 entries, 0 to 417\n",
            "Data columns (total 13 columns):\n",
            "PassengerId    418 non-null int64\n",
            "Pclass         418 non-null int64\n",
            "Name           418 non-null object\n",
            "Sex            418 non-null object\n",
            "Age            418 non-null int64\n",
            "SibSp          418 non-null int64\n",
            "Parch          418 non-null int64\n",
            "Ticket         418 non-null object\n",
            "Fare           417 non-null float64\n",
            "Embarked       418 non-null object\n",
            "Relatives      418 non-null int64\n",
            "Alone          418 non-null int64\n",
            "Deck           418 non-null int64\n",
            "dtypes: float64(1), int64(8), object(4)\n",
            "memory usage: 42.5+ KB\n"
          ],
          "name": "stdout"
        }
      ]
    },
    {
      "cell_type": "markdown",
      "metadata": {
        "id": "2Dm2kKaGZ0rN",
        "colab_type": "text"
      },
      "source": [
        ""
      ]
    },
    {
      "cell_type": "markdown",
      "metadata": {
        "id": "EqBgfykOZ0ne",
        "colab_type": "text"
      },
      "source": [
        "#### Name: \n",
        "We will use the Name feature to extract the Titles from the Name, so that we can build a new feature out of that."
      ]
    },
    {
      "cell_type": "code",
      "metadata": {
        "id": "qMT_0hpJaFny",
        "colab_type": "code",
        "colab": {
          "base_uri": "https://localhost:8080/",
          "height": 119
        },
        "outputId": "3f0adb32-684b-49f6-fb90-8d06889b3b84"
      },
      "source": [
        "train_df.Name.head()"
      ],
      "execution_count": 31,
      "outputs": [
        {
          "output_type": "execute_result",
          "data": {
            "text/plain": [
              "0                              Braund, Mr. Owen Harris\n",
              "1    Cumings, Mrs. John Bradley (Florence Briggs Th...\n",
              "2                               Heikkinen, Miss. Laina\n",
              "3         Futrelle, Mrs. Jacques Heath (Lily May Peel)\n",
              "4                             Allen, Mr. William Henry\n",
              "Name: Name, dtype: object"
            ]
          },
          "metadata": {
            "tags": []
          },
          "execution_count": 31
        }
      ]
    },
    {
      "cell_type": "code",
      "metadata": {
        "id": "HOF1gnvt5CEt",
        "colab_type": "code",
        "colab": {}
      },
      "source": [
        "data = [train_df,test_df]\n",
        "\n",
        "for dataset in data:\n",
        "  dataset['Title'] = dataset.Name.str.extract('([A-Za-z]+)\\.', expand = False)"
      ],
      "execution_count": 0,
      "outputs": []
    },
    {
      "cell_type": "code",
      "metadata": {
        "id": "a26IUgkFazVq",
        "colab_type": "code",
        "colab": {
          "base_uri": "https://localhost:8080/",
          "height": 323
        },
        "outputId": "3cfaf8a6-f244-416a-aad5-301d20993d6e"
      },
      "source": [
        "train_df.Title.value_counts()"
      ],
      "execution_count": 33,
      "outputs": [
        {
          "output_type": "execute_result",
          "data": {
            "text/plain": [
              "Mr          517\n",
              "Miss        182\n",
              "Mrs         125\n",
              "Master       40\n",
              "Dr            7\n",
              "Rev           6\n",
              "Col           2\n",
              "Mlle          2\n",
              "Major         2\n",
              "Countess      1\n",
              "Ms            1\n",
              "Lady          1\n",
              "Don           1\n",
              "Jonkheer      1\n",
              "Sir           1\n",
              "Capt          1\n",
              "Mme           1\n",
              "Name: Title, dtype: int64"
            ]
          },
          "metadata": {
            "tags": []
          },
          "execution_count": 33
        }
      ]
    },
    {
      "cell_type": "code",
      "metadata": {
        "id": "6q0gHl4Qa5xD",
        "colab_type": "code",
        "colab": {}
      },
      "source": [
        "data = [train_df,test_df]\n",
        "\n",
        "for dataset in data:\n",
        "  dataset['Title'] = dataset['Title'].replace(['Lady', 'Countess','Capt', 'Col','Don','Dr',\\\n",
        "                                              'Major','Rev','Sir','Jonkheer','Dona'], 'Rare')\n",
        "  dataset['Title'] = dataset['Title'].replace('Mlle' , 'Miss')\n",
        "  dataset['Title'] = dataset['Title'].replace('Ms' , 'Miss')\n",
        "  dataset['Title'] = dataset['Title'].replace('Mme' , 'Mrs')\n",
        "  "
      ],
      "execution_count": 0,
      "outputs": []
    },
    {
      "cell_type": "code",
      "metadata": {
        "id": "xyafb2EScPac",
        "colab_type": "code",
        "colab": {}
      },
      "source": [
        "titles={'Mr':1,'Miss':2,'Mrs':3, 'Master':4, 'Rare':5}\n",
        "\n",
        "for dataset in data:\n",
        "  dataset['Title']=dataset['Title'].map(titles)"
      ],
      "execution_count": 0,
      "outputs": []
    },
    {
      "cell_type": "code",
      "metadata": {
        "id": "O85EZf8Ccs-p",
        "colab_type": "code",
        "colab": {
          "base_uri": "https://localhost:8080/",
          "height": 51
        },
        "outputId": "7c779c48-a7a4-495b-c943-69eed8459257"
      },
      "source": [
        "print(train_df.Title.isna().sum())\n",
        "print(test_df.Title.isna().sum())"
      ],
      "execution_count": 36,
      "outputs": [
        {
          "output_type": "stream",
          "text": [
            "0\n",
            "0\n"
          ],
          "name": "stdout"
        }
      ]
    },
    {
      "cell_type": "markdown",
      "metadata": {
        "id": "P-2TtXDZdJ9s",
        "colab_type": "text"
      },
      "source": [
        "Even the name has some meaning. We cannot afford miss information\n",
        "\n",
        "Dropping name and"
      ]
    },
    {
      "cell_type": "code",
      "metadata": {
        "id": "LPEBS-Hcc1b0",
        "colab_type": "code",
        "colab": {}
      },
      "source": [
        "train_df = train_df.drop(['Name'], axis = 1)\n",
        "test_df = test_df.drop(['Name'], axis = 1)"
      ],
      "execution_count": 0,
      "outputs": []
    },
    {
      "cell_type": "code",
      "metadata": {
        "id": "NXtgc05HuPeY",
        "colab_type": "code",
        "colab": {
          "base_uri": "https://localhost:8080/",
          "height": 68
        },
        "outputId": "a5bf6e84-e346-4b86-8c6f-c013463dc45c"
      },
      "source": [
        "train_df.Sex.value_counts()"
      ],
      "execution_count": 38,
      "outputs": [
        {
          "output_type": "execute_result",
          "data": {
            "text/plain": [
              "male      577\n",
              "female    314\n",
              "Name: Sex, dtype: int64"
            ]
          },
          "metadata": {
            "tags": []
          },
          "execution_count": 38
        }
      ]
    },
    {
      "cell_type": "markdown",
      "metadata": {
        "id": "jhDIPS8RdbYQ",
        "colab_type": "text"
      },
      "source": [
        "Sex is categorical but we have to convert 'Sex' feature into numeric."
      ]
    },
    {
      "cell_type": "code",
      "metadata": {
        "id": "boaSgcXadX3Y",
        "colab_type": "code",
        "colab": {}
      },
      "source": [
        "gender = {'male':0 , 'female':1}\n",
        "data = [train_df,test_df]\n",
        "\n",
        "for dataset in data:\n",
        "  dataset['Sex']=dataset['Sex'].map(gender)"
      ],
      "execution_count": 0,
      "outputs": []
    },
    {
      "cell_type": "markdown",
      "metadata": {
        "id": "12ZzzGwZeO0x",
        "colab_type": "text"
      },
      "source": [
        "#### Ticket & Fare"
      ]
    },
    {
      "cell_type": "code",
      "metadata": {
        "id": "LNOsTTGNdxcT",
        "colab_type": "code",
        "colab": {
          "base_uri": "https://localhost:8080/",
          "height": 119
        },
        "outputId": "269ba97c-210a-469d-8253-60c8e5e1dfde"
      },
      "source": [
        "train_df.Ticket.head()"
      ],
      "execution_count": 40,
      "outputs": [
        {
          "output_type": "execute_result",
          "data": {
            "text/plain": [
              "0           A/5 21171\n",
              "1            PC 17599\n",
              "2    STON/O2. 3101282\n",
              "3              113803\n",
              "4              373450\n",
              "Name: Ticket, dtype: object"
            ]
          },
          "metadata": {
            "tags": []
          },
          "execution_count": 40
        }
      ]
    },
    {
      "cell_type": "markdown",
      "metadata": {
        "id": "P-pvsWhieJfI",
        "colab_type": "text"
      },
      "source": [
        "Since the Ticket attribute has 681 unique tickets, it will be a bit tricky to convert them into useful information. So we will drop it from the dataset."
      ]
    },
    {
      "cell_type": "code",
      "metadata": {
        "id": "qY1_93Zzd_nW",
        "colab_type": "code",
        "colab": {}
      },
      "source": [
        "data = [train_df,test_df]\n",
        "for dataset in data:\n",
        "  dataset=dataset.drop('Ticket', axis = 1)"
      ],
      "execution_count": 0,
      "outputs": []
    },
    {
      "cell_type": "code",
      "metadata": {
        "id": "SOS4hxb-epDa",
        "colab_type": "code",
        "colab": {}
      },
      "source": [
        "train_df=train_df.drop('Ticket', axis = 1)\n",
        "test_df=test_df.drop('Ticket', axis = 1)"
      ],
      "execution_count": 0,
      "outputs": []
    },
    {
      "cell_type": "markdown",
      "metadata": {
        "id": "LOeoRmZheunv",
        "colab_type": "text"
      },
      "source": [
        "#### Embarked\n",
        "Let's convert Embark into a numerical Feature"
      ]
    },
    {
      "cell_type": "code",
      "metadata": {
        "id": "akd0QoX2e3fr",
        "colab_type": "code",
        "colab": {}
      },
      "source": [
        "ports = {'S':0,'C':1, 'Q':2}\n",
        "data = [train_df,test_df]\n",
        "\n",
        "for dataset in data:\n",
        "  dataset['Embarked']=dataset['Embarked'].map(ports)"
      ],
      "execution_count": 0,
      "outputs": []
    },
    {
      "cell_type": "markdown",
      "metadata": {
        "id": "CmTvY65NoE0y",
        "colab_type": "text"
      },
      "source": [
        "#### Feature Engineering\n",
        "\n",
        "\n",
        "We will now create categories within the following features:\n",
        "\n",
        "Age:\n",
        "Now we need to convert the 'age' feature. First we will convert it from float into integer. Then we will create the new 'AgeGroup\" variable, by categorizing every age into a group. Note that it is important to place attention on how you form these groups, since you don't want for example that 80% of your data falls into group 1."
      ]
    },
    {
      "cell_type": "code",
      "metadata": {
        "id": "-WXRsRTNfGwl",
        "colab_type": "code",
        "colab": {}
      },
      "source": [
        "data = [train_df,test_df]\n",
        "for dataset in data:\n",
        "  dataset['Age']=dataset['Age'].astype(int)\n",
        "  dataset.loc[dataset['Age']<=11, 'Age']=0\n",
        "  dataset.loc[(dataset['Age']>11) & (dataset['Age']<=18), 'Age']=1\n",
        "  dataset.loc[(dataset['Age']>18) & (dataset['Age']<=22), 'Age']=2\n",
        "  dataset.loc[(dataset['Age']>22) & (dataset['Age']<=27), 'Age']=3\n",
        "  dataset.loc[(dataset['Age']>27) & (dataset['Age']<=33), 'Age']=4\n",
        "  dataset.loc[(dataset['Age']>33) & (dataset['Age']<=40), 'Age']=5\n",
        "  dataset.loc[(dataset['Age']>40) & (dataset['Age']<=66), 'Age']=6\n",
        "  dataset.loc[(dataset['Age']>66), 'Age']=6"
      ],
      "execution_count": 0,
      "outputs": []
    },
    {
      "cell_type": "markdown",
      "metadata": {
        "id": "GHTL6Y-WqVku",
        "colab_type": "text"
      },
      "source": [
        "The above grouping can also be achieved in single line with Pd.Cut. You can give a try.\n",
        "\n",
        "Now Let's see the Groups."
      ]
    },
    {
      "cell_type": "code",
      "metadata": {
        "id": "ou7b9PnPpuHg",
        "colab_type": "code",
        "colab": {
          "base_uri": "https://localhost:8080/",
          "height": 153
        },
        "outputId": "c9bf9cd9-0fa5-4d55-d6d0-3fc4b0d9abb0"
      },
      "source": [
        "train_df.Age.value_counts()"
      ],
      "execution_count": 45,
      "outputs": [
        {
          "output_type": "execute_result",
          "data": {
            "text/plain": [
              "4    164\n",
              "6    157\n",
              "3    150\n",
              "5    145\n",
              "2    116\n",
              "1     91\n",
              "0     68\n",
              "Name: Age, dtype: int64"
            ]
          },
          "metadata": {
            "tags": []
          },
          "execution_count": 45
        }
      ]
    },
    {
      "cell_type": "markdown",
      "metadata": {
        "id": "2glQmWZ9qSyD",
        "colab_type": "text"
      },
      "source": [
        "Similarly for the fare , we do same approach, For the 'Fare' feature, we need to do the same as with the 'Age' feature. But it isn't that easy, because if we cut the range of the fare values into a few equally big categories, 80% of the values would fall into the first category. Fortunately, we can use sklearn \"qcut()\" function, that we can use to see, how we can form the categories.\n",
        "\n",
        "Current dataframe looks as follows\n"
      ]
    },
    {
      "cell_type": "code",
      "metadata": {
        "id": "xdKL6P58p0yK",
        "colab_type": "code",
        "colab": {
          "base_uri": "https://localhost:8080/",
          "height": 204
        },
        "outputId": "60db8a9d-4009-4288-82a9-e6fb7e8b6a82"
      },
      "source": [
        "train_df.head()"
      ],
      "execution_count": 46,
      "outputs": [
        {
          "output_type": "execute_result",
          "data": {
            "text/html": [
              "<div>\n",
              "<style scoped>\n",
              "    .dataframe tbody tr th:only-of-type {\n",
              "        vertical-align: middle;\n",
              "    }\n",
              "\n",
              "    .dataframe tbody tr th {\n",
              "        vertical-align: top;\n",
              "    }\n",
              "\n",
              "    .dataframe thead th {\n",
              "        text-align: right;\n",
              "    }\n",
              "</style>\n",
              "<table border=\"1\" class=\"dataframe\">\n",
              "  <thead>\n",
              "    <tr style=\"text-align: right;\">\n",
              "      <th></th>\n",
              "      <th>Survived</th>\n",
              "      <th>Pclass</th>\n",
              "      <th>Sex</th>\n",
              "      <th>Age</th>\n",
              "      <th>SibSp</th>\n",
              "      <th>Parch</th>\n",
              "      <th>Fare</th>\n",
              "      <th>Embarked</th>\n",
              "      <th>Relatives</th>\n",
              "      <th>Alone</th>\n",
              "      <th>Deck</th>\n",
              "      <th>Title</th>\n",
              "    </tr>\n",
              "  </thead>\n",
              "  <tbody>\n",
              "    <tr>\n",
              "      <th>0</th>\n",
              "      <td>0</td>\n",
              "      <td>3</td>\n",
              "      <td>0</td>\n",
              "      <td>2</td>\n",
              "      <td>1</td>\n",
              "      <td>0</td>\n",
              "      <td>7.2500</td>\n",
              "      <td>0</td>\n",
              "      <td>1</td>\n",
              "      <td>0</td>\n",
              "      <td>8</td>\n",
              "      <td>1</td>\n",
              "    </tr>\n",
              "    <tr>\n",
              "      <th>1</th>\n",
              "      <td>1</td>\n",
              "      <td>1</td>\n",
              "      <td>1</td>\n",
              "      <td>5</td>\n",
              "      <td>1</td>\n",
              "      <td>0</td>\n",
              "      <td>71.2833</td>\n",
              "      <td>1</td>\n",
              "      <td>1</td>\n",
              "      <td>0</td>\n",
              "      <td>3</td>\n",
              "      <td>3</td>\n",
              "    </tr>\n",
              "    <tr>\n",
              "      <th>2</th>\n",
              "      <td>1</td>\n",
              "      <td>3</td>\n",
              "      <td>1</td>\n",
              "      <td>3</td>\n",
              "      <td>0</td>\n",
              "      <td>0</td>\n",
              "      <td>7.9250</td>\n",
              "      <td>0</td>\n",
              "      <td>0</td>\n",
              "      <td>1</td>\n",
              "      <td>8</td>\n",
              "      <td>2</td>\n",
              "    </tr>\n",
              "    <tr>\n",
              "      <th>3</th>\n",
              "      <td>1</td>\n",
              "      <td>1</td>\n",
              "      <td>1</td>\n",
              "      <td>5</td>\n",
              "      <td>1</td>\n",
              "      <td>0</td>\n",
              "      <td>53.1000</td>\n",
              "      <td>0</td>\n",
              "      <td>1</td>\n",
              "      <td>0</td>\n",
              "      <td>3</td>\n",
              "      <td>3</td>\n",
              "    </tr>\n",
              "    <tr>\n",
              "      <th>4</th>\n",
              "      <td>0</td>\n",
              "      <td>3</td>\n",
              "      <td>0</td>\n",
              "      <td>5</td>\n",
              "      <td>0</td>\n",
              "      <td>0</td>\n",
              "      <td>8.0500</td>\n",
              "      <td>0</td>\n",
              "      <td>0</td>\n",
              "      <td>1</td>\n",
              "      <td>8</td>\n",
              "      <td>1</td>\n",
              "    </tr>\n",
              "  </tbody>\n",
              "</table>\n",
              "</div>"
            ],
            "text/plain": [
              "   Survived  Pclass  Sex  Age  SibSp  ...  Embarked  Relatives  Alone  Deck  Title\n",
              "0         0       3    0    2      1  ...         0          1      0     8      1\n",
              "1         1       1    1    5      1  ...         1          1      0     3      3\n",
              "2         1       3    1    3      0  ...         0          0      1     8      2\n",
              "3         1       1    1    5      1  ...         0          1      0     3      3\n",
              "4         0       3    0    5      0  ...         0          0      1     8      1\n",
              "\n",
              "[5 rows x 12 columns]"
            ]
          },
          "metadata": {
            "tags": []
          },
          "execution_count": 46
        }
      ]
    },
    {
      "cell_type": "markdown",
      "metadata": {
        "id": "7ih8wqcz3dZy",
        "colab_type": "text"
      },
      "source": [
        "Let's Perform Fare binning Now:\n"
      ]
    },
    {
      "cell_type": "code",
      "metadata": {
        "id": "_hlZNOvbq2RU",
        "colab_type": "code",
        "colab": {
          "base_uri": "https://localhost:8080/",
          "height": 136
        },
        "outputId": "4aa23ecb-0367-460b-ba5a-f062037fe190"
      },
      "source": [
        "data = [train_df,test_df]\n",
        "\n",
        "for dataset in data:\n",
        "  dataset.loc[dataset['Fare']<=7.91, 'Fare']=0\n",
        "  dataset.loc[(dataset['Fare']>7.91) & (dataset['Fare']<=14.454), 'Fare']=1\n",
        "  dataset.loc[(dataset['Fare']>14.454) & (dataset['Fare']<=31), 'Fare']=2\n",
        "  dataset.loc[(dataset['Fare']>31) & (dataset['Fare']<=99), 'Fare']=3\n",
        "  dataset.loc[(dataset['Fare']>99) & (dataset['Fare']<=250), 'Fare']=4\n",
        "  dataset.loc[(dataset['Fare']>250) , 'Fare']=5\n",
        "  dataset['Fare']=dataset['Fare'].fillna(0)\n",
        "  dataset['Fare']=dataset['Fare'].astype(int)\n",
        "\n",
        "train_df.Fare.value_counts()"
      ],
      "execution_count": 47,
      "outputs": [
        {
          "output_type": "execute_result",
          "data": {
            "text/plain": [
              "2    229\n",
              "0    223\n",
              "1    217\n",
              "3    169\n",
              "4     44\n",
              "5      9\n",
              "Name: Fare, dtype: int64"
            ]
          },
          "metadata": {
            "tags": []
          },
          "execution_count": 47
        }
      ]
    },
    {
      "cell_type": "code",
      "metadata": {
        "id": "KFXheQkN-W9b",
        "colab_type": "code",
        "colab": {}
      },
      "source": [
        "# test_df[test_df.Fare.isna()==True]"
      ],
      "execution_count": 0,
      "outputs": []
    },
    {
      "cell_type": "markdown",
      "metadata": {
        "id": "hNnkSEoU49ZG",
        "colab_type": "text"
      },
      "source": [
        "Let's Create a new Feature A combination of Age and Class"
      ]
    },
    {
      "cell_type": "code",
      "metadata": {
        "id": "ShAdjMfd4n4A",
        "colab_type": "code",
        "colab": {
          "base_uri": "https://localhost:8080/",
          "height": 204
        },
        "outputId": "fb5750fc-28a4-47f2-963b-e283110f3f56"
      },
      "source": [
        "data = [train_df, test_df]\n",
        "\n",
        "\n",
        "for dataset in data:\n",
        "  dataset['age_class'] = dataset['Age']*dataset['Pclass']\n",
        "  \n",
        "  \n",
        "train_df.head()"
      ],
      "execution_count": 49,
      "outputs": [
        {
          "output_type": "execute_result",
          "data": {
            "text/html": [
              "<div>\n",
              "<style scoped>\n",
              "    .dataframe tbody tr th:only-of-type {\n",
              "        vertical-align: middle;\n",
              "    }\n",
              "\n",
              "    .dataframe tbody tr th {\n",
              "        vertical-align: top;\n",
              "    }\n",
              "\n",
              "    .dataframe thead th {\n",
              "        text-align: right;\n",
              "    }\n",
              "</style>\n",
              "<table border=\"1\" class=\"dataframe\">\n",
              "  <thead>\n",
              "    <tr style=\"text-align: right;\">\n",
              "      <th></th>\n",
              "      <th>Survived</th>\n",
              "      <th>Pclass</th>\n",
              "      <th>Sex</th>\n",
              "      <th>Age</th>\n",
              "      <th>SibSp</th>\n",
              "      <th>Parch</th>\n",
              "      <th>Fare</th>\n",
              "      <th>Embarked</th>\n",
              "      <th>Relatives</th>\n",
              "      <th>Alone</th>\n",
              "      <th>Deck</th>\n",
              "      <th>Title</th>\n",
              "      <th>age_class</th>\n",
              "    </tr>\n",
              "  </thead>\n",
              "  <tbody>\n",
              "    <tr>\n",
              "      <th>0</th>\n",
              "      <td>0</td>\n",
              "      <td>3</td>\n",
              "      <td>0</td>\n",
              "      <td>2</td>\n",
              "      <td>1</td>\n",
              "      <td>0</td>\n",
              "      <td>0</td>\n",
              "      <td>0</td>\n",
              "      <td>1</td>\n",
              "      <td>0</td>\n",
              "      <td>8</td>\n",
              "      <td>1</td>\n",
              "      <td>6</td>\n",
              "    </tr>\n",
              "    <tr>\n",
              "      <th>1</th>\n",
              "      <td>1</td>\n",
              "      <td>1</td>\n",
              "      <td>1</td>\n",
              "      <td>5</td>\n",
              "      <td>1</td>\n",
              "      <td>0</td>\n",
              "      <td>3</td>\n",
              "      <td>1</td>\n",
              "      <td>1</td>\n",
              "      <td>0</td>\n",
              "      <td>3</td>\n",
              "      <td>3</td>\n",
              "      <td>5</td>\n",
              "    </tr>\n",
              "    <tr>\n",
              "      <th>2</th>\n",
              "      <td>1</td>\n",
              "      <td>3</td>\n",
              "      <td>1</td>\n",
              "      <td>3</td>\n",
              "      <td>0</td>\n",
              "      <td>0</td>\n",
              "      <td>1</td>\n",
              "      <td>0</td>\n",
              "      <td>0</td>\n",
              "      <td>1</td>\n",
              "      <td>8</td>\n",
              "      <td>2</td>\n",
              "      <td>9</td>\n",
              "    </tr>\n",
              "    <tr>\n",
              "      <th>3</th>\n",
              "      <td>1</td>\n",
              "      <td>1</td>\n",
              "      <td>1</td>\n",
              "      <td>5</td>\n",
              "      <td>1</td>\n",
              "      <td>0</td>\n",
              "      <td>3</td>\n",
              "      <td>0</td>\n",
              "      <td>1</td>\n",
              "      <td>0</td>\n",
              "      <td>3</td>\n",
              "      <td>3</td>\n",
              "      <td>5</td>\n",
              "    </tr>\n",
              "    <tr>\n",
              "      <th>4</th>\n",
              "      <td>0</td>\n",
              "      <td>3</td>\n",
              "      <td>0</td>\n",
              "      <td>5</td>\n",
              "      <td>0</td>\n",
              "      <td>0</td>\n",
              "      <td>1</td>\n",
              "      <td>0</td>\n",
              "      <td>0</td>\n",
              "      <td>1</td>\n",
              "      <td>8</td>\n",
              "      <td>1</td>\n",
              "      <td>15</td>\n",
              "    </tr>\n",
              "  </tbody>\n",
              "</table>\n",
              "</div>"
            ],
            "text/plain": [
              "   Survived  Pclass  Sex  Age  SibSp  ...  Relatives  Alone  Deck  Title  age_class\n",
              "0         0       3    0    2      1  ...          1      0     8      1          6\n",
              "1         1       1    1    5      1  ...          1      0     3      3          5\n",
              "2         1       3    1    3      0  ...          0      1     8      2          9\n",
              "3         1       1    1    5      1  ...          1      0     3      3          5\n",
              "4         0       3    0    5      0  ...          0      1     8      1         15\n",
              "\n",
              "[5 rows x 13 columns]"
            ]
          },
          "metadata": {
            "tags": []
          },
          "execution_count": 49
        }
      ]
    },
    {
      "cell_type": "code",
      "metadata": {
        "id": "WsJDsTZ1C-C5",
        "colab_type": "code",
        "colab": {}
      },
      "source": [
        "# train_df.head()"
      ],
      "execution_count": 0,
      "outputs": []
    },
    {
      "cell_type": "markdown",
      "metadata": {
        "id": "eYwdMzi76WHI",
        "colab_type": "text"
      },
      "source": [
        "## Modeling"
      ]
    },
    {
      "cell_type": "markdown",
      "metadata": {
        "id": "HZ7M5ilOA9mW",
        "colab_type": "text"
      },
      "source": [
        "Let's divide our data into Feature or Preictor Variables i.e X and Label or Predicted variable i.e y"
      ]
    },
    {
      "cell_type": "code",
      "metadata": {
        "id": "KamhCAaq6JNL",
        "colab_type": "code",
        "colab": {}
      },
      "source": [
        "X_train = train_df.drop('Survived', axis = 1)\n",
        "y_train = train_df['Survived']\n",
        "\n",
        "X_test = test_df.drop('PassengerId' ,  axis = 1)"
      ],
      "execution_count": 0,
      "outputs": []
    },
    {
      "cell_type": "markdown",
      "metadata": {
        "id": "bNRCt_jSBhUH",
        "colab_type": "text"
      },
      "source": [
        "Now let's train our first Model: A Stochastic Gradient Descent Classifier"
      ]
    },
    {
      "cell_type": "code",
      "metadata": {
        "id": "CO39mjw2BqOQ",
        "colab_type": "code",
        "colab": {
          "base_uri": "https://localhost:8080/",
          "height": 34
        },
        "outputId": "21773f62-842e-4bbc-a7e4-862de27bea57"
      },
      "source": [
        "# creating model object\n",
        "sgd = linear_model.SGDClassifier(max_iter = 5, tol = None)\n",
        "\n",
        "# Fitting model on Data\n",
        "sgd.fit(X_train,y_train)\n",
        "\n",
        "#using model to predict\n",
        "y_pred = sgd.predict(X_test)\n",
        "\n",
        "# Storing prediction accuracy\n",
        "acc_sgd = round(sgd.score(X_train,y_train)*100,2)\n",
        "print(acc_sgd)"
      ],
      "execution_count": 52,
      "outputs": [
        {
          "output_type": "stream",
          "text": [
            "77.22\n"
          ],
          "name": "stdout"
        }
      ]
    },
    {
      "cell_type": "markdown",
      "metadata": {
        "id": "TyAoUNQKCwbm",
        "colab_type": "text"
      },
      "source": [
        "Great 78.23 % accuracy with our first Model.\n",
        "\n",
        "Now Let's try the classical Logistic Regression Model"
      ]
    },
    {
      "cell_type": "code",
      "metadata": {
        "id": "E3Np1939CtU9",
        "colab_type": "code",
        "colab": {
          "base_uri": "https://localhost:8080/",
          "height": 88
        },
        "outputId": "93fdfd50-3774-4f2f-c88a-72ea9280b10f"
      },
      "source": [
        "logreg = LogisticRegression()\n",
        "logreg.fit(X_train,y_train)\n",
        "\n",
        "\n",
        "acc_log=round(logreg.score(X_train,y_train)*100,2)\n",
        "print(acc_log)"
      ],
      "execution_count": 53,
      "outputs": [
        {
          "output_type": "stream",
          "text": [
            "81.59\n"
          ],
          "name": "stdout"
        },
        {
          "output_type": "stream",
          "text": [
            "/usr/local/lib/python3.6/dist-packages/sklearn/linear_model/logistic.py:432: FutureWarning: Default solver will be changed to 'lbfgs' in 0.22. Specify a solver to silence this warning.\n",
            "  FutureWarning)\n"
          ],
          "name": "stderr"
        }
      ]
    },
    {
      "cell_type": "markdown",
      "metadata": {
        "id": "ERouoeSEGEiA",
        "colab_type": "text"
      },
      "source": [
        "I am going to write a loop which will fit and predict accuracy for different classes of models\n",
        "\n",
        "and return a dataframe with respective accuracies"
      ]
    },
    {
      "cell_type": "code",
      "metadata": {
        "id": "pvtSv3j2F7Nu",
        "colab_type": "code",
        "colab": {}
      },
      "source": [
        "dict_model = {'sgd':linear_model.SGDClassifier(max_iter = 5, tol = None), \n",
        "             'log_reg':LogisticRegression(),\n",
        "             'decision_tree':DecisionTreeClassifier(),\n",
        "             'random_forest':RandomForestClassifier(n_estimators = 100),\n",
        "             'knn_classifier': KNeighborsClassifier(n_neighbors= 3),\n",
        "             'gaussian':GaussianNB(),\n",
        "             'perceptron':Perceptron(max_iter=5),\n",
        "             'linear_svc':LinearSVC()\n",
        "             }"
      ],
      "execution_count": 0,
      "outputs": []
    },
    {
      "cell_type": "code",
      "metadata": {
        "id": "Iol5l9W9I0zt",
        "colab_type": "code",
        "colab": {
          "base_uri": "https://localhost:8080/"
        },
        "outputId": "f0bf51a0-b517-447e-9dee-e6dc80248a2a"
      },
      "source": [
        "dict_accuracies={}\n",
        "\n",
        "for name,classifier in dict_model.items():\n",
        "  dict_model[name].fit(X_train,y_train)\n",
        "  score = dict_model[name].score(X_train,y_train)\n",
        "  dict_accuracies[name]=round(score*100,2)\n",
        "  \n"
      ],
      "execution_count": 55,
      "outputs": [
        {
          "output_type": "stream",
          "text": [
            "/usr/local/lib/python3.6/dist-packages/sklearn/linear_model/logistic.py:432: FutureWarning: Default solver will be changed to 'lbfgs' in 0.22. Specify a solver to silence this warning.\n",
            "  FutureWarning)\n",
            "/usr/local/lib/python3.6/dist-packages/sklearn/linear_model/stochastic_gradient.py:561: ConvergenceWarning: Maximum number of iteration reached before convergence. Consider increasing max_iter to improve the fit.\n",
            "  ConvergenceWarning)\n",
            "/usr/local/lib/python3.6/dist-packages/sklearn/svm/base.py:929: ConvergenceWarning: Liblinear failed to converge, increase the number of iterations.\n",
            "  \"the number of iterations.\", ConvergenceWarning)\n"
          ],
          "name": "stderr"
        }
      ]
    },
    {
      "cell_type": "code",
      "metadata": {
        "id": "C-uJ4MXnKd4T",
        "colab_type": "code",
        "colab": {
          "base_uri": "https://localhost:8080/",
          "height": 297
        },
        "outputId": "c8d028ba-07c8-4301-ffe2-50faa9a60f45"
      },
      "source": [
        "result_df=pd.DataFrame.from_dict(dict_accuracies,orient = 'index',columns = ['Score'])\n",
        "result_df= result_df.sort_values(by = 'Score', ascending = False)\n",
        "result_df"
      ],
      "execution_count": 63,
      "outputs": [
        {
          "output_type": "execute_result",
          "data": {
            "text/html": [
              "<div>\n",
              "<style scoped>\n",
              "    .dataframe tbody tr th:only-of-type {\n",
              "        vertical-align: middle;\n",
              "    }\n",
              "\n",
              "    .dataframe tbody tr th {\n",
              "        vertical-align: top;\n",
              "    }\n",
              "\n",
              "    .dataframe thead th {\n",
              "        text-align: right;\n",
              "    }\n",
              "</style>\n",
              "<table border=\"1\" class=\"dataframe\">\n",
              "  <thead>\n",
              "    <tr style=\"text-align: right;\">\n",
              "      <th></th>\n",
              "      <th>Score</th>\n",
              "    </tr>\n",
              "  </thead>\n",
              "  <tbody>\n",
              "    <tr>\n",
              "      <th>decision_tree</th>\n",
              "      <td>92.70</td>\n",
              "    </tr>\n",
              "    <tr>\n",
              "      <th>random_forest</th>\n",
              "      <td>92.70</td>\n",
              "    </tr>\n",
              "    <tr>\n",
              "      <th>knn_classifier</th>\n",
              "      <td>84.62</td>\n",
              "    </tr>\n",
              "    <tr>\n",
              "      <th>log_reg</th>\n",
              "      <td>81.59</td>\n",
              "    </tr>\n",
              "    <tr>\n",
              "      <th>linear_svc</th>\n",
              "      <td>81.03</td>\n",
              "    </tr>\n",
              "    <tr>\n",
              "      <th>perceptron</th>\n",
              "      <td>78.90</td>\n",
              "    </tr>\n",
              "    <tr>\n",
              "      <th>gaussian</th>\n",
              "      <td>78.56</td>\n",
              "    </tr>\n",
              "    <tr>\n",
              "      <th>sgd</th>\n",
              "      <td>67.90</td>\n",
              "    </tr>\n",
              "  </tbody>\n",
              "</table>\n",
              "</div>"
            ],
            "text/plain": [
              "                Score\n",
              "decision_tree   92.70\n",
              "random_forest   92.70\n",
              "knn_classifier  84.62\n",
              "log_reg         81.59\n",
              "linear_svc      81.03\n",
              "perceptron      78.90\n",
              "gaussian        78.56\n",
              "sgd             67.90"
            ]
          },
          "metadata": {
            "tags": []
          },
          "execution_count": 63
        }
      ]
    },
    {
      "cell_type": "markdown",
      "metadata": {
        "id": "6mwZaZ25OYB5",
        "colab_type": "text"
      },
      "source": [
        "### Cross Validation Evaluation"
      ]
    },
    {
      "cell_type": "code",
      "metadata": {
        "id": "YSXNcEVJLQGt",
        "colab_type": "code",
        "colab": {}
      },
      "source": [
        ""
      ],
      "execution_count": 0,
      "outputs": []
    },
    {
      "cell_type": "markdown",
      "metadata": {
        "id": "crMh8n7UOg2o",
        "colab_type": "text"
      },
      "source": [
        "### Evaluation Metrics"
      ]
    },
    {
      "cell_type": "code",
      "metadata": {
        "id": "7Zfc_-ZoOl54",
        "colab_type": "code",
        "colab": {}
      },
      "source": [
        ""
      ],
      "execution_count": 0,
      "outputs": []
    },
    {
      "cell_type": "markdown",
      "metadata": {
        "id": "k-fNSv3IOnKR",
        "colab_type": "text"
      },
      "source": [
        "### Hyper Parameter Tuning"
      ]
    },
    {
      "cell_type": "code",
      "metadata": {
        "id": "_HcEzINsOpgw",
        "colab_type": "code",
        "colab": {}
      },
      "source": [
        ""
      ],
      "execution_count": 0,
      "outputs": []
    },
    {
      "cell_type": "markdown",
      "metadata": {
        "id": "SUfabqdwP7lZ",
        "colab_type": "text"
      },
      "source": [
        ""
      ]
    }
  ]
}