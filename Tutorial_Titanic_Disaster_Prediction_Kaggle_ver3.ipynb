{
  "nbformat": 4,
  "nbformat_minor": 0,
  "metadata": {
    "colab": {
      "name": "Tutorial Titanic Disaster Prediction Kaggle_ver3.ipynb",
      "version": "0.3.2",
      "provenance": [],
      "collapsed_sections": [],
      "include_colab_link": true
    },
    "kernelspec": {
      "name": "python3",
      "display_name": "Python 3"
    }
  },
  "cells": [
    {
      "cell_type": "markdown",
      "metadata": {
        "id": "view-in-github",
        "colab_type": "text"
      },
      "source": [
        "<a href=\"https://colab.research.google.com/github/sachinkun21/Titanic_kaggle/blob/master/Tutorial_Titanic_Disaster_Prediction_Kaggle_ver3.ipynb\" target=\"_parent\"><img src=\"https://colab.research.google.com/assets/colab-badge.svg\" alt=\"Open In Colab\"/></a>"
      ]
    },
    {
      "cell_type": "markdown",
      "metadata": {
        "id": "68bMLlWc8K4j",
        "colab_type": "text"
      },
      "source": [
        "## Problem Statement\n",
        "\n",
        "### Introduction\n",
        "\n",
        "In this kernel I will go through the whole process of creating a machine learning model on the famous Titanic dataset, which is used by many people all over the world. It provides information on the fate of passengers on the Titanic, summarized according to economic status (class), sex, age and survival. In this challenge, I will predict whether a passenger on the titanic would have been survived or not.\n",
        "\n",
        "### About Titanic \n",
        "\n",
        "RMS Titanic was a British passenger liner that sank in the North Atlantic Ocean in the early morning hours of 15 April 1912, after it collided with an iceberg during its maiden voyage from Southampton to New York City. There were an estimated 2,224 passengers and crew aboard the ship, and more than 1,500 died, making it one of the deadliest commercial peacetime maritime disasters in modern history. The RMS Titanic was the largest ship afloat at the time it entered service and was the second of three Olympic-class ocean liners operated by the White Star Line. The Titanic was built by the Harland and Wolff shipyard in Belfast. Thomas Andrews, her architect, died in the disaster.\n",
        "\n",
        "### About the Data Set\n",
        "\n",
        "We have data of all passengers and the problem statement is to predict the survival  of a passenger given his current data inputs. The complete data can be downloaded here - www.kaggle.com/c/titanic\n",
        "\n",
        "\n",
        "### Titanic - The sad story\n",
        "- Exploratory Data Analysis I\n",
        "- Exploratory Data Analysis II\n",
        "- EDA - Visualization/Plotting\n",
        "- Preprocessing\n",
        "- Preprocessing II\n",
        "- Feature Engineering\n",
        "- Modelling\n",
        "- Advanced Modelling\n",
        "- Final Model\n",
        "- Model Evaluation\n",
        "- Feature Importance\n",
        "- Feedback\n",
        "\n"
      ]
    },
    {
      "cell_type": "code",
      "metadata": {
        "id": "kejjoLHZCZGZ",
        "colab_type": "code",
        "outputId": "60939d98-5bdd-45ed-cc2f-734852484e61",
        "colab": {
          "base_uri": "https://localhost:8080/",
          "height": 34
        }
      },
      "source": [
        "# Mounting drive to load Dataset\n",
        "from google.colab import drive\n",
        "drive.mount('/content/drive')"
      ],
      "execution_count": 0,
      "outputs": [
        {
          "output_type": "stream",
          "text": [
            "Drive already mounted at /content/drive; to attempt to forcibly remount, call drive.mount(\"/content/drive\", force_remount=True).\n"
          ],
          "name": "stdout"
        }
      ]
    },
    {
      "cell_type": "markdown",
      "metadata": {
        "id": "QJA99to7_HIx",
        "colab_type": "text"
      },
      "source": [
        "### Loading Data and Diagnostics\n",
        "Let's import all required packages Modules"
      ]
    },
    {
      "cell_type": "code",
      "metadata": {
        "id": "aewGbDhR8Bii",
        "colab_type": "code",
        "colab": {}
      },
      "source": [
        "# linear algebra\n",
        "import numpy as np\n",
        "# data processing\n",
        "import pandas as pd\n",
        "\n",
        "# data visualization\n",
        "import seaborn as sns\n",
        "%matplotlib inline\n",
        "from matplotlib import pyplot as plt\n",
        "from matplotlib import style\n",
        "\n",
        "# Algortithmic packages\n",
        "from sklearn import linear_model\n",
        "from sklearn.linear_model import LogisticRegression\n",
        "from sklearn.ensemble import RandomForestClassifier\n",
        "from sklearn.linear_model import Perceptron\n",
        "from sklearn.linear_model import SGDClassifier\n",
        "from sklearn.tree import DecisionTreeClassifier\n",
        "from sklearn.svm import SVC,LinearSVC\n",
        "from sklearn.naive_bayes import GaussianNB\n",
        "from sklearn.neighbors import KNeighborsClassifier\n",
        "\n",
        "import os\n",
        "import warnings\n",
        "warnings.filterwarnings('ignore')"
      ],
      "execution_count": 0,
      "outputs": []
    },
    {
      "cell_type": "markdown",
      "metadata": {
        "id": "xlkie_eb8JQj",
        "colab_type": "text"
      },
      "source": [
        "#### Let's Load the dataset in a pandas Dataframe"
      ]
    },
    {
      "cell_type": "code",
      "metadata": {
        "id": "C19ERgkCClPb",
        "colab_type": "code",
        "outputId": "05a2947e-fc9b-47af-f806-5c64750c2ebd",
        "colab": {
          "base_uri": "https://localhost:8080/",
          "height": 34
        }
      },
      "source": [
        "print(os.listdir(\"/content/drive/My Drive/titanic\"))"
      ],
      "execution_count": 0,
      "outputs": [
        {
          "output_type": "stream",
          "text": [
            "['test.csv', 'train.csv', 'gender_submission.csv']\n"
          ],
          "name": "stdout"
        }
      ]
    },
    {
      "cell_type": "code",
      "metadata": {
        "id": "sz0arDCDBMVA",
        "colab_type": "code",
        "outputId": "68aa54ec-3baa-4008-c6c1-b60153bfc0b0",
        "colab": {
          "base_uri": "https://localhost:8080/",
          "height": 204
        }
      },
      "source": [
        "# loading Datasets\n",
        "train_df = pd.read_csv('/content/drive/My Drive/titanic/train.csv')\n",
        "test_df = pd.read_csv('/content/drive/My Drive/titanic/test.csv')\n",
        "\n",
        "#printing first 5 rows of data\n",
        "train_df.head()"
      ],
      "execution_count": 0,
      "outputs": [
        {
          "output_type": "execute_result",
          "data": {
            "text/html": [
              "<div>\n",
              "<style scoped>\n",
              "    .dataframe tbody tr th:only-of-type {\n",
              "        vertical-align: middle;\n",
              "    }\n",
              "\n",
              "    .dataframe tbody tr th {\n",
              "        vertical-align: top;\n",
              "    }\n",
              "\n",
              "    .dataframe thead th {\n",
              "        text-align: right;\n",
              "    }\n",
              "</style>\n",
              "<table border=\"1\" class=\"dataframe\">\n",
              "  <thead>\n",
              "    <tr style=\"text-align: right;\">\n",
              "      <th></th>\n",
              "      <th>PassengerId</th>\n",
              "      <th>Survived</th>\n",
              "      <th>Pclass</th>\n",
              "      <th>Name</th>\n",
              "      <th>Sex</th>\n",
              "      <th>Age</th>\n",
              "      <th>SibSp</th>\n",
              "      <th>Parch</th>\n",
              "      <th>Ticket</th>\n",
              "      <th>Fare</th>\n",
              "      <th>Cabin</th>\n",
              "      <th>Embarked</th>\n",
              "    </tr>\n",
              "  </thead>\n",
              "  <tbody>\n",
              "    <tr>\n",
              "      <th>0</th>\n",
              "      <td>1</td>\n",
              "      <td>0</td>\n",
              "      <td>3</td>\n",
              "      <td>Braund, Mr. Owen Harris</td>\n",
              "      <td>male</td>\n",
              "      <td>22.0</td>\n",
              "      <td>1</td>\n",
              "      <td>0</td>\n",
              "      <td>A/5 21171</td>\n",
              "      <td>7.2500</td>\n",
              "      <td>NaN</td>\n",
              "      <td>S</td>\n",
              "    </tr>\n",
              "    <tr>\n",
              "      <th>1</th>\n",
              "      <td>2</td>\n",
              "      <td>1</td>\n",
              "      <td>1</td>\n",
              "      <td>Cumings, Mrs. John Bradley (Florence Briggs Th...</td>\n",
              "      <td>female</td>\n",
              "      <td>38.0</td>\n",
              "      <td>1</td>\n",
              "      <td>0</td>\n",
              "      <td>PC 17599</td>\n",
              "      <td>71.2833</td>\n",
              "      <td>C85</td>\n",
              "      <td>C</td>\n",
              "    </tr>\n",
              "    <tr>\n",
              "      <th>2</th>\n",
              "      <td>3</td>\n",
              "      <td>1</td>\n",
              "      <td>3</td>\n",
              "      <td>Heikkinen, Miss. Laina</td>\n",
              "      <td>female</td>\n",
              "      <td>26.0</td>\n",
              "      <td>0</td>\n",
              "      <td>0</td>\n",
              "      <td>STON/O2. 3101282</td>\n",
              "      <td>7.9250</td>\n",
              "      <td>NaN</td>\n",
              "      <td>S</td>\n",
              "    </tr>\n",
              "    <tr>\n",
              "      <th>3</th>\n",
              "      <td>4</td>\n",
              "      <td>1</td>\n",
              "      <td>1</td>\n",
              "      <td>Futrelle, Mrs. Jacques Heath (Lily May Peel)</td>\n",
              "      <td>female</td>\n",
              "      <td>35.0</td>\n",
              "      <td>1</td>\n",
              "      <td>0</td>\n",
              "      <td>113803</td>\n",
              "      <td>53.1000</td>\n",
              "      <td>C123</td>\n",
              "      <td>S</td>\n",
              "    </tr>\n",
              "    <tr>\n",
              "      <th>4</th>\n",
              "      <td>5</td>\n",
              "      <td>0</td>\n",
              "      <td>3</td>\n",
              "      <td>Allen, Mr. William Henry</td>\n",
              "      <td>male</td>\n",
              "      <td>35.0</td>\n",
              "      <td>0</td>\n",
              "      <td>0</td>\n",
              "      <td>373450</td>\n",
              "      <td>8.0500</td>\n",
              "      <td>NaN</td>\n",
              "      <td>S</td>\n",
              "    </tr>\n",
              "  </tbody>\n",
              "</table>\n",
              "</div>"
            ],
            "text/plain": [
              "   PassengerId  Survived  Pclass  ...     Fare Cabin  Embarked\n",
              "0            1         0       3  ...   7.2500   NaN         S\n",
              "1            2         1       1  ...  71.2833   C85         C\n",
              "2            3         1       3  ...   7.9250   NaN         S\n",
              "3            4         1       1  ...  53.1000  C123         S\n",
              "4            5         0       3  ...   8.0500   NaN         S\n",
              "\n",
              "[5 rows x 12 columns]"
            ]
          },
          "metadata": {
            "tags": []
          },
          "execution_count": 4
        }
      ]
    },
    {
      "cell_type": "code",
      "metadata": {
        "id": "P5qxHCD0cZjk",
        "colab_type": "code",
        "outputId": "47290ad7-43fd-4046-9628-f4c81ee58641",
        "colab": {
          "base_uri": "https://localhost:8080/",
          "height": 68
        }
      },
      "source": [
        "# let's display the columns names\n",
        "train_df.columns"
      ],
      "execution_count": 0,
      "outputs": [
        {
          "output_type": "execute_result",
          "data": {
            "text/plain": [
              "Index(['PassengerId', 'Survived', 'Pclass', 'Name', 'Sex', 'Age', 'SibSp',\n",
              "       'Parch', 'Ticket', 'Fare', 'Cabin', 'Embarked'],\n",
              "      dtype='object')"
            ]
          },
          "metadata": {
            "tags": []
          },
          "execution_count": 5
        }
      ]
    },
    {
      "cell_type": "code",
      "metadata": {
        "id": "SNXCgSARcDSL",
        "colab_type": "code",
        "outputId": "b0741bba-84a8-46ee-dd7d-3c587c1edaac",
        "colab": {
          "base_uri": "https://localhost:8080/",
          "height": 34
        }
      },
      "source": [
        "# printing shape of Train Dataframe\n",
        "train_df.shape"
      ],
      "execution_count": 0,
      "outputs": [
        {
          "output_type": "execute_result",
          "data": {
            "text/plain": [
              "(891, 12)"
            ]
          },
          "metadata": {
            "tags": []
          },
          "execution_count": 6
        }
      ]
    },
    {
      "cell_type": "markdown",
      "metadata": {
        "id": "ZFKSZKGpb76H",
        "colab_type": "text"
      },
      "source": [
        "#### Description of Columns in Dataset\n",
        "The training set has 891 examples and 11 features along with the Target variable(survived). Datatypes for 2 of the features are floats, 5 are integers and 5 are objects. Below I have listed the features with a short description:\n",
        "\n",
        "      survival:   Survival\n",
        "      PassengerId: Unique Id of a passenger.\n",
        "      pclass:     Ticket class   \n",
        "      sex   :     Sex \n",
        "      Age   :     Age in years    \n",
        "      sibsp :     # of siblings / spouses aboard the Titanic  \n",
        "      parch :     # of Childs / children aboard the Titanic  \n",
        "      ticket:     Ticket number   \n",
        "      fare  :     Passenger fare  \n",
        "      cabin :     Cabin number    \n",
        "      embarked:   Port of Embarkation"
      ]
    },
    {
      "cell_type": "markdown",
      "metadata": {
        "id": "Nye8tnJ2Dhbr",
        "colab_type": "text"
      },
      "source": [
        "#### Let's check info of the dataset to get an idea of it's datatype and how it's looking"
      ]
    },
    {
      "cell_type": "code",
      "metadata": {
        "id": "AxHIBbbADelp",
        "colab_type": "code",
        "outputId": "651a0094-0a36-4866-8de2-75bedc711e26",
        "colab": {
          "base_uri": "https://localhost:8080/",
          "height": 306
        }
      },
      "source": [
        "train_df.info()"
      ],
      "execution_count": 0,
      "outputs": [
        {
          "output_type": "stream",
          "text": [
            "<class 'pandas.core.frame.DataFrame'>\n",
            "RangeIndex: 891 entries, 0 to 890\n",
            "Data columns (total 12 columns):\n",
            "PassengerId    891 non-null int64\n",
            "Survived       891 non-null int64\n",
            "Pclass         891 non-null int64\n",
            "Name           891 non-null object\n",
            "Sex            891 non-null object\n",
            "Age            714 non-null float64\n",
            "SibSp          891 non-null int64\n",
            "Parch          891 non-null int64\n",
            "Ticket         891 non-null object\n",
            "Fare           891 non-null float64\n",
            "Cabin          204 non-null object\n",
            "Embarked       889 non-null object\n",
            "dtypes: float64(2), int64(5), object(5)\n",
            "memory usage: 83.6+ KB\n"
          ],
          "name": "stdout"
        }
      ]
    },
    {
      "cell_type": "code",
      "metadata": {
        "id": "VsY_80ClcrUW",
        "colab_type": "code",
        "outputId": "1a253169-d17e-4168-f39a-e90d72461797",
        "colab": {
          "base_uri": "https://localhost:8080/",
          "height": 289
        }
      },
      "source": [
        "test_df.info()"
      ],
      "execution_count": 0,
      "outputs": [
        {
          "output_type": "stream",
          "text": [
            "<class 'pandas.core.frame.DataFrame'>\n",
            "RangeIndex: 418 entries, 0 to 417\n",
            "Data columns (total 11 columns):\n",
            "PassengerId    418 non-null int64\n",
            "Pclass         418 non-null int64\n",
            "Name           418 non-null object\n",
            "Sex            418 non-null object\n",
            "Age            332 non-null float64\n",
            "SibSp          418 non-null int64\n",
            "Parch          418 non-null int64\n",
            "Ticket         418 non-null object\n",
            "Fare           417 non-null float64\n",
            "Cabin          91 non-null object\n",
            "Embarked       418 non-null object\n",
            "dtypes: float64(2), int64(4), object(5)\n",
            "memory usage: 36.0+ KB\n"
          ],
          "name": "stdout"
        }
      ]
    },
    {
      "cell_type": "markdown",
      "metadata": {
        "id": "qVTSJOkVbnvp",
        "colab_type": "text"
      },
      "source": [
        "#### There are some missing values in Age and Cabin Column in Train Data while Age, Cabin and Fare in test data.\n",
        " we will be dealing with these missing values in coming sections"
      ]
    },
    {
      "cell_type": "markdown",
      "metadata": {
        "id": "wRuhJQslEwy-",
        "colab_type": "text"
      },
      "source": [
        "#### Let's take a look at description of columns having numerical Values in Dataset"
      ]
    },
    {
      "cell_type": "code",
      "metadata": {
        "id": "ggsON_ViDrdV",
        "colab_type": "code",
        "outputId": "18c43d59-6a0c-4f16-d9f9-68b5ba731a76",
        "colab": {
          "base_uri": "https://localhost:8080/",
          "height": 297
        }
      },
      "source": [
        "train_df.describe()"
      ],
      "execution_count": 0,
      "outputs": [
        {
          "output_type": "execute_result",
          "data": {
            "text/html": [
              "<div>\n",
              "<style scoped>\n",
              "    .dataframe tbody tr th:only-of-type {\n",
              "        vertical-align: middle;\n",
              "    }\n",
              "\n",
              "    .dataframe tbody tr th {\n",
              "        vertical-align: top;\n",
              "    }\n",
              "\n",
              "    .dataframe thead th {\n",
              "        text-align: right;\n",
              "    }\n",
              "</style>\n",
              "<table border=\"1\" class=\"dataframe\">\n",
              "  <thead>\n",
              "    <tr style=\"text-align: right;\">\n",
              "      <th></th>\n",
              "      <th>PassengerId</th>\n",
              "      <th>Survived</th>\n",
              "      <th>Pclass</th>\n",
              "      <th>Age</th>\n",
              "      <th>SibSp</th>\n",
              "      <th>Parch</th>\n",
              "      <th>Fare</th>\n",
              "    </tr>\n",
              "  </thead>\n",
              "  <tbody>\n",
              "    <tr>\n",
              "      <th>count</th>\n",
              "      <td>891.000000</td>\n",
              "      <td>891.000000</td>\n",
              "      <td>891.000000</td>\n",
              "      <td>714.000000</td>\n",
              "      <td>891.000000</td>\n",
              "      <td>891.000000</td>\n",
              "      <td>891.000000</td>\n",
              "    </tr>\n",
              "    <tr>\n",
              "      <th>mean</th>\n",
              "      <td>446.000000</td>\n",
              "      <td>0.383838</td>\n",
              "      <td>2.308642</td>\n",
              "      <td>29.699118</td>\n",
              "      <td>0.523008</td>\n",
              "      <td>0.381594</td>\n",
              "      <td>32.204208</td>\n",
              "    </tr>\n",
              "    <tr>\n",
              "      <th>std</th>\n",
              "      <td>257.353842</td>\n",
              "      <td>0.486592</td>\n",
              "      <td>0.836071</td>\n",
              "      <td>14.526497</td>\n",
              "      <td>1.102743</td>\n",
              "      <td>0.806057</td>\n",
              "      <td>49.693429</td>\n",
              "    </tr>\n",
              "    <tr>\n",
              "      <th>min</th>\n",
              "      <td>1.000000</td>\n",
              "      <td>0.000000</td>\n",
              "      <td>1.000000</td>\n",
              "      <td>0.420000</td>\n",
              "      <td>0.000000</td>\n",
              "      <td>0.000000</td>\n",
              "      <td>0.000000</td>\n",
              "    </tr>\n",
              "    <tr>\n",
              "      <th>25%</th>\n",
              "      <td>223.500000</td>\n",
              "      <td>0.000000</td>\n",
              "      <td>2.000000</td>\n",
              "      <td>20.125000</td>\n",
              "      <td>0.000000</td>\n",
              "      <td>0.000000</td>\n",
              "      <td>7.910400</td>\n",
              "    </tr>\n",
              "    <tr>\n",
              "      <th>50%</th>\n",
              "      <td>446.000000</td>\n",
              "      <td>0.000000</td>\n",
              "      <td>3.000000</td>\n",
              "      <td>28.000000</td>\n",
              "      <td>0.000000</td>\n",
              "      <td>0.000000</td>\n",
              "      <td>14.454200</td>\n",
              "    </tr>\n",
              "    <tr>\n",
              "      <th>75%</th>\n",
              "      <td>668.500000</td>\n",
              "      <td>1.000000</td>\n",
              "      <td>3.000000</td>\n",
              "      <td>38.000000</td>\n",
              "      <td>1.000000</td>\n",
              "      <td>0.000000</td>\n",
              "      <td>31.000000</td>\n",
              "    </tr>\n",
              "    <tr>\n",
              "      <th>max</th>\n",
              "      <td>891.000000</td>\n",
              "      <td>1.000000</td>\n",
              "      <td>3.000000</td>\n",
              "      <td>80.000000</td>\n",
              "      <td>8.000000</td>\n",
              "      <td>6.000000</td>\n",
              "      <td>512.329200</td>\n",
              "    </tr>\n",
              "  </tbody>\n",
              "</table>\n",
              "</div>"
            ],
            "text/plain": [
              "       PassengerId    Survived      Pclass  ...       SibSp       Parch        Fare\n",
              "count   891.000000  891.000000  891.000000  ...  891.000000  891.000000  891.000000\n",
              "mean    446.000000    0.383838    2.308642  ...    0.523008    0.381594   32.204208\n",
              "std     257.353842    0.486592    0.836071  ...    1.102743    0.806057   49.693429\n",
              "min       1.000000    0.000000    1.000000  ...    0.000000    0.000000    0.000000\n",
              "25%     223.500000    0.000000    2.000000  ...    0.000000    0.000000    7.910400\n",
              "50%     446.000000    0.000000    3.000000  ...    0.000000    0.000000   14.454200\n",
              "75%     668.500000    1.000000    3.000000  ...    1.000000    0.000000   31.000000\n",
              "max     891.000000    1.000000    3.000000  ...    8.000000    6.000000  512.329200\n",
              "\n",
              "[8 rows x 7 columns]"
            ]
          },
          "metadata": {
            "tags": []
          },
          "execution_count": 9
        }
      ]
    },
    {
      "cell_type": "markdown",
      "metadata": {
        "id": "SL-InipIFLNd",
        "colab_type": "text"
      },
      "source": [
        "- from the output of describe Above, we can see that 38% out of the training-set survived the Titanic. \n",
        "- We can also see that the passenger ages range from 0.4 to 80. \n",
        "- On top of that we can already detect some features, that contain missing values, like the 'Age' feature. \n",
        "- Also we can find outliers if any by visual observation of quartiles.\n",
        "\n",
        "Let's look at head of the data"
      ]
    },
    {
      "cell_type": "code",
      "metadata": {
        "id": "iProH7nBE6sM",
        "colab_type": "code",
        "outputId": "67b94a9d-a4b7-45ed-824c-6c7560ccfafe",
        "colab": {
          "base_uri": "https://localhost:8080/",
          "height": 204
        }
      },
      "source": [
        "train_df.head()"
      ],
      "execution_count": 0,
      "outputs": [
        {
          "output_type": "execute_result",
          "data": {
            "text/html": [
              "<div>\n",
              "<style scoped>\n",
              "    .dataframe tbody tr th:only-of-type {\n",
              "        vertical-align: middle;\n",
              "    }\n",
              "\n",
              "    .dataframe tbody tr th {\n",
              "        vertical-align: top;\n",
              "    }\n",
              "\n",
              "    .dataframe thead th {\n",
              "        text-align: right;\n",
              "    }\n",
              "</style>\n",
              "<table border=\"1\" class=\"dataframe\">\n",
              "  <thead>\n",
              "    <tr style=\"text-align: right;\">\n",
              "      <th></th>\n",
              "      <th>PassengerId</th>\n",
              "      <th>Survived</th>\n",
              "      <th>Pclass</th>\n",
              "      <th>Name</th>\n",
              "      <th>Sex</th>\n",
              "      <th>Age</th>\n",
              "      <th>SibSp</th>\n",
              "      <th>Parch</th>\n",
              "      <th>Ticket</th>\n",
              "      <th>Fare</th>\n",
              "      <th>Cabin</th>\n",
              "      <th>Embarked</th>\n",
              "    </tr>\n",
              "  </thead>\n",
              "  <tbody>\n",
              "    <tr>\n",
              "      <th>0</th>\n",
              "      <td>1</td>\n",
              "      <td>0</td>\n",
              "      <td>3</td>\n",
              "      <td>Braund, Mr. Owen Harris</td>\n",
              "      <td>male</td>\n",
              "      <td>22.0</td>\n",
              "      <td>1</td>\n",
              "      <td>0</td>\n",
              "      <td>A/5 21171</td>\n",
              "      <td>7.2500</td>\n",
              "      <td>NaN</td>\n",
              "      <td>S</td>\n",
              "    </tr>\n",
              "    <tr>\n",
              "      <th>1</th>\n",
              "      <td>2</td>\n",
              "      <td>1</td>\n",
              "      <td>1</td>\n",
              "      <td>Cumings, Mrs. John Bradley (Florence Briggs Th...</td>\n",
              "      <td>female</td>\n",
              "      <td>38.0</td>\n",
              "      <td>1</td>\n",
              "      <td>0</td>\n",
              "      <td>PC 17599</td>\n",
              "      <td>71.2833</td>\n",
              "      <td>C85</td>\n",
              "      <td>C</td>\n",
              "    </tr>\n",
              "    <tr>\n",
              "      <th>2</th>\n",
              "      <td>3</td>\n",
              "      <td>1</td>\n",
              "      <td>3</td>\n",
              "      <td>Heikkinen, Miss. Laina</td>\n",
              "      <td>female</td>\n",
              "      <td>26.0</td>\n",
              "      <td>0</td>\n",
              "      <td>0</td>\n",
              "      <td>STON/O2. 3101282</td>\n",
              "      <td>7.9250</td>\n",
              "      <td>NaN</td>\n",
              "      <td>S</td>\n",
              "    </tr>\n",
              "    <tr>\n",
              "      <th>3</th>\n",
              "      <td>4</td>\n",
              "      <td>1</td>\n",
              "      <td>1</td>\n",
              "      <td>Futrelle, Mrs. Jacques Heath (Lily May Peel)</td>\n",
              "      <td>female</td>\n",
              "      <td>35.0</td>\n",
              "      <td>1</td>\n",
              "      <td>0</td>\n",
              "      <td>113803</td>\n",
              "      <td>53.1000</td>\n",
              "      <td>C123</td>\n",
              "      <td>S</td>\n",
              "    </tr>\n",
              "    <tr>\n",
              "      <th>4</th>\n",
              "      <td>5</td>\n",
              "      <td>0</td>\n",
              "      <td>3</td>\n",
              "      <td>Allen, Mr. William Henry</td>\n",
              "      <td>male</td>\n",
              "      <td>35.0</td>\n",
              "      <td>0</td>\n",
              "      <td>0</td>\n",
              "      <td>373450</td>\n",
              "      <td>8.0500</td>\n",
              "      <td>NaN</td>\n",
              "      <td>S</td>\n",
              "    </tr>\n",
              "  </tbody>\n",
              "</table>\n",
              "</div>"
            ],
            "text/plain": [
              "   PassengerId  Survived  Pclass  ...     Fare Cabin  Embarked\n",
              "0            1         0       3  ...   7.2500   NaN         S\n",
              "1            2         1       1  ...  71.2833   C85         C\n",
              "2            3         1       3  ...   7.9250   NaN         S\n",
              "3            4         1       1  ...  53.1000  C123         S\n",
              "4            5         0       3  ...   8.0500   NaN         S\n",
              "\n",
              "[5 rows x 12 columns]"
            ]
          },
          "metadata": {
            "tags": []
          },
          "execution_count": 10
        }
      ]
    },
    {
      "cell_type": "markdown",
      "metadata": {
        "id": "tug45algFbAm",
        "colab_type": "text"
      },
      "source": [
        "#### From the table above, we can note following things:\n",
        "- First of all, that we need to convert a lot of features into numeric ones later on, so that the machine learning algorithms can process them.\n",
        "- Furthermore, we can see that the features have widely different ranges, that we will need to convert into roughly the same scale.\n",
        "- We can also spot some more features, that contain missing values (NaN = not a number), that wee need to deal with.\n",
        "\n",
        "Let's take a more detailed look at what data is actually missing:"
      ]
    },
    {
      "cell_type": "code",
      "metadata": {
        "id": "CYHHDfBQFap9",
        "colab_type": "code",
        "outputId": "b02c00c0-8a4f-4521-9318-735c51403620",
        "colab": {
          "base_uri": "https://localhost:8080/",
          "height": 204
        }
      },
      "source": [
        "# count of null values in each column\n",
        "count  = train_df.isnull().sum().sort_values(ascending = False)\n",
        "\n",
        "# percentage of Null Values in each column\n",
        "percent = train_df.isnull().sum()/len(train_df)*100\n",
        "\n",
        "# rounding and arranging the percentage\n",
        "percent = round(percent,2).sort_values(ascending = False)\n",
        "\n",
        "# concatenating count and percentage into one\n",
        "missing_data = pd.concat([count,percent], axis = 1)\n",
        "missing_data.columns = ['Count', 'Percent']\n",
        "# printing top 5 rows\n",
        "missing_data.head()"
      ],
      "execution_count": 0,
      "outputs": [
        {
          "output_type": "execute_result",
          "data": {
            "text/html": [
              "<div>\n",
              "<style scoped>\n",
              "    .dataframe tbody tr th:only-of-type {\n",
              "        vertical-align: middle;\n",
              "    }\n",
              "\n",
              "    .dataframe tbody tr th {\n",
              "        vertical-align: top;\n",
              "    }\n",
              "\n",
              "    .dataframe thead th {\n",
              "        text-align: right;\n",
              "    }\n",
              "</style>\n",
              "<table border=\"1\" class=\"dataframe\">\n",
              "  <thead>\n",
              "    <tr style=\"text-align: right;\">\n",
              "      <th></th>\n",
              "      <th>Count</th>\n",
              "      <th>Percent</th>\n",
              "    </tr>\n",
              "  </thead>\n",
              "  <tbody>\n",
              "    <tr>\n",
              "      <th>Cabin</th>\n",
              "      <td>687</td>\n",
              "      <td>77.10</td>\n",
              "    </tr>\n",
              "    <tr>\n",
              "      <th>Age</th>\n",
              "      <td>177</td>\n",
              "      <td>19.87</td>\n",
              "    </tr>\n",
              "    <tr>\n",
              "      <th>Embarked</th>\n",
              "      <td>2</td>\n",
              "      <td>0.22</td>\n",
              "    </tr>\n",
              "    <tr>\n",
              "      <th>Fare</th>\n",
              "      <td>0</td>\n",
              "      <td>0.00</td>\n",
              "    </tr>\n",
              "    <tr>\n",
              "      <th>Ticket</th>\n",
              "      <td>0</td>\n",
              "      <td>0.00</td>\n",
              "    </tr>\n",
              "  </tbody>\n",
              "</table>\n",
              "</div>"
            ],
            "text/plain": [
              "          Count  Percent\n",
              "Cabin       687    77.10\n",
              "Age         177    19.87\n",
              "Embarked      2     0.22\n",
              "Fare          0     0.00\n",
              "Ticket        0     0.00"
            ]
          },
          "metadata": {
            "tags": []
          },
          "execution_count": 11
        }
      ]
    },
    {
      "cell_type": "markdown",
      "metadata": {
        "id": "SM3UMtOkIkuZ",
        "colab_type": "text"
      },
      "source": [
        "- You can notice, Cabin has the highest percentage of missing values.\n",
        "- The Embarked feature has only 2 missing values, which can easily be filled. \n",
        "- It will be much more tricky, to deal with the 'Age' feature, which has 177 missing values. \n",
        "-The 'Cabin' feature needs further investigation, but it looks like that we might need to drop it from the dataset, since 77 % of it are missing.\n",
        "\n"
      ]
    },
    {
      "cell_type": "markdown",
      "metadata": {
        "id": "FtS-h0AAOKi1",
        "colab_type": "text"
      },
      "source": [
        "### Visualization\n",
        "In this section, we will derive relationships and insight from our Training Dataset by plotting them.\n",
        "<br>\n",
        "<br>\n",
        "\n"
      ]
    },
    {
      "cell_type": "markdown",
      "metadata": {
        "id": "kLH6BXG0l4Pl",
        "colab_type": "text"
      },
      "source": [
        "#### 1. Let's plot a couple of graphs to qunatify the survival percentage and Survival Percentage in Each PClass for each Gender"
      ]
    },
    {
      "cell_type": "markdown",
      "metadata": {
        "id": "ntVPi7QDpYS6",
        "colab_type": "text"
      },
      "source": [
        "#### Let's plot the bargraph to indicate chances of survival in Each PClass first: "
      ]
    },
    {
      "cell_type": "code",
      "metadata": {
        "id": "EDu4EavypFJp",
        "colab_type": "code",
        "outputId": "3f475c82-f49d-4b68-8905-9f9e46264b00",
        "colab": {
          "base_uri": "https://localhost:8080/",
          "height": 283
        }
      },
      "source": [
        "sns.barplot(x = 'Pclass', y = 'Survived' , data = train_df)\n",
        "plt.show()"
      ],
      "execution_count": 0,
      "outputs": [
        {
          "output_type": "display_data",
          "data": {
            "image/png": "[encoded data removed]",
            "text/plain": [
              "<Figure size 432x288 with 1 Axes>"
            ]
          },
          "metadata": {
            "tags": []
          }
        }
      ]
    },
    {
      "cell_type": "markdown",
      "metadata": {
        "id": "vHRbvToupVBA",
        "colab_type": "text"
      },
      "source": [
        "we see clearly, that Pclass is contributing to a persons chance of survival, especially if this person is in class 1.\n",
        "\n",
        "Let's go Deeper into it\n"
      ]
    },
    {
      "cell_type": "code",
      "metadata": {
        "id": "hh7yxnk5gifD",
        "colab_type": "code",
        "outputId": "6f8c591a-49f1-4f47-f9da-6c35c38cd181",
        "colab": {
          "base_uri": "https://localhost:8080/",
          "height": 554
        }
      },
      "source": [
        "f, ax = plt.subplots(1,2, figsize=(20,8))\n",
        "\n",
        "colors = [\"#FA5858\", \"#64FE2E\"]\n",
        "labels =\"Not Survived\", \"Survived\"\n",
        "\n",
        "plt.suptitle('Information on Survival', fontsize=20)\n",
        "\n",
        "train_df[\"Survived\"].value_counts().plot.pie(explode=[0,0.05], autopct='%1.2f%%', ax=ax[0], shadow=True, colors=colors, \n",
        "                                             labels=labels, fontsize=15, startangle=45)\n",
        "\n",
        "\n",
        "\n",
        "ax[0].set_xlabel('Survived vs Non Survived percentage', fontsize=14)\n",
        "ax[0].set_ylabel('')\n",
        "\n",
        "palette = [\"#64FE2E\", \"#FA5858\"]\n",
        "\n",
        "sns.barplot(x = 'Pclass', y = 'Survived' , hue = 'Sex' , data = train_df, palette=palette)\n",
        "ax[1].set(ylabel=\"(Percentage of Passengers)\")\n",
        "ax[1].set_xticklabels(train_df[\"Pclass\"].unique(), rotation=0, rotation_mode=\"anchor\")\n",
        "plt.show()"
      ],
      "execution_count": 0,
      "outputs": [
        {
          "output_type": "display_data",
          "data": {
            "image/png": "[encoded data removed]",
            "text/plain": [
              "<Figure size 1440x576 with 2 Axes>"
            ]
          },
          "metadata": {
            "tags": []
          }
        }
      ]
    },
    {
      "cell_type": "markdown",
      "metadata": {
        "id": "3NPhlg-OjSd5",
        "colab_type": "text"
      },
      "source": [
        "we can derive:-\n",
        "- 61.62% Passengers did not survived while 38.38% survived the Titanic Disaster\n",
        "- Females had a higher survival percentage in each class compared to male counterparts\n",
        "- PClass 3 has highest percentage of People surviving both in Male and Female category, followed by PClass 1 and PClass 2"
      ]
    },
    {
      "cell_type": "code",
      "metadata": {
        "id": "75p51BjWkENY",
        "colab_type": "code",
        "outputId": "f1a19fb1-58e0-453c-fc67-078eb54129b7",
        "colab": {
          "base_uri": "https://localhost:8080/",
          "height": 68
        }
      },
      "source": [
        "train_df[(train_df.Pclass == 3) & (train_df.Survived == 1)].Sex.value_counts()/len(train_df[(train_df.Pclass == 3) & (train_df.Survived == 1)].Sex)*100"
      ],
      "execution_count": 0,
      "outputs": [
        {
          "output_type": "execute_result",
          "data": {
            "text/plain": [
              "female    60.504202\n",
              "male      39.495798\n",
              "Name: Sex, dtype: float64"
            ]
          },
          "metadata": {
            "tags": []
          },
          "execution_count": 14
        }
      ]
    },
    {
      "cell_type": "markdown",
      "metadata": {
        "id": "-dj08APmW-PW",
        "colab_type": "text"
      },
      "source": [
        "#### 2. Age vs Sex\n",
        "To check the relationship between survival vs age/sex, let's plot the distribution of data."
      ]
    },
    {
      "cell_type": "code",
      "metadata": {
        "id": "mdtKFaMLFOoa",
        "colab_type": "code",
        "outputId": "2caeb040-fdbc-4ab3-e537-d688f2705863",
        "colab": {
          "base_uri": "https://localhost:8080/",
          "height": 513
        }
      },
      "source": [
        "survived = 'survided'\n",
        "not_survived = 'not_survived'\n",
        "fig, axes = plt.subplots(nrows = 1 , ncols = 2 , figsize = (18,8))\n",
        "women = train_df[train_df['Sex'] == 'female']\n",
        "men = train_df[train_df['Sex'] == 'male']\n",
        "\n",
        "ax = sns.distplot(women[women['Survived']==1].Age.dropna(), bins=8, label = survived , ax=axes[0], kde = False)\n",
        "ax = sns.distplot(women[women['Survived'] == 0].Age.dropna(), bins = 40, label=not_survived, ax = axes[0], kde =False)\n",
        "ax.set_title('Female')\n",
        "\n",
        "ax = sns.distplot(men[men['Survived']==1].Age.dropna(), bins=8, label = survived , ax=axes[1], kde = False)\n",
        "ax = sns.distplot(men[men['Survived'] == 0].Age.dropna(), bins = 40, label=not_survived, ax = axes[1], kde =False)\n",
        "_ = ax.set_title('Male')\n",
        "ax.legend()\n",
        "plt.show()"
      ],
      "execution_count": 0,
      "outputs": [
        {
          "output_type": "display_data",
          "data": {
            "image/png": "[encoded data removed]",
            "text/plain": [
              "<Figure size 1296x576 with 2 Axes>"
            ]
          },
          "metadata": {
            "tags": []
          }
        }
      ]
    },
    {
      "cell_type": "markdown",
      "metadata": {
        "id": "MmC5YeRfWxh7",
        "colab_type": "text"
      },
      "source": [
        "- You can see that men have a high probability of survival when they are between 18 and 30 years old, which is also a little bit true for women but not fully. For women the survival chances are higher between 14 and 40.\n",
        "\n",
        "- For men the probability of survival is very low between the age of 5 and 18, but that isn't true for women. Another thing to note is that infants also have a little bit higher probability of survival.\n",
        "\n",
        "- Since there seem to be certain ages, which have increased odds of survival and because I want every feature to be roughly on the same scale, We will create age groups later on."
      ]
    },
    {
      "cell_type": "markdown",
      "metadata": {
        "id": "aNDogaVcW1JL",
        "colab_type": "text"
      },
      "source": [
        "#### 3. Embarked, Pclass and Sex:"
      ]
    },
    {
      "cell_type": "code",
      "metadata": {
        "id": "2LAfveciHfvc",
        "colab_type": "code",
        "outputId": "dd487fe1-adcb-4a42-cde0-001e01a44b51",
        "colab": {
          "base_uri": "https://localhost:8080/",
          "height": 981
        }
      },
      "source": [
        "facetgrid = sns.FacetGrid(train_df , row = 'Embarked', height = 4.5 , aspect =1.8)\n",
        "facetgrid.map(sns.pointplot, 'Pclass','Survived', 'Sex', order=None, hue_order=None)\n",
        "facetgrid.add_legend()\n",
        "plt.show()"
      ],
      "execution_count": 0,
      "outputs": [
        {
          "output_type": "display_data",
          "data": {
            "image/png": "[encoded data removed]",
            "text/plain": [
              "<Figure size 653.7x972 with 3 Axes>"
            ]
          },
          "metadata": {
            "tags": []
          }
        }
      ]
    },
    {
      "cell_type": "markdown",
      "metadata": {
        "id": "YMYZhigpnCF7",
        "colab_type": "text"
      },
      "source": [
        "- Females who embarked from `port S` have a higher percentage of Survival Compared to Male Counterparts from Same port in each P Class\n",
        "- Males who embarked from `port C` have a higher percentage of Survival Compared to FeMale Counterparts from Same port in each P Class\n",
        "- Females who embarked from `port O` have a higher percentage of Survival Compared to Male Counterparts from Same port in each P Class"
      ]
    },
    {
      "cell_type": "markdown",
      "metadata": {
        "id": "QluX0IIsY9t7",
        "colab_type": "text"
      },
      "source": [
        "#### 3. Let's create another plot below for distribution of P Class:\n"
      ]
    },
    {
      "cell_type": "code",
      "metadata": {
        "id": "201w9QsaY82u",
        "colab_type": "code",
        "outputId": "a432d364-6d36-437d-ccee-8a0288183ed9",
        "colab": {
          "base_uri": "https://localhost:8080/",
          "height": 657
        }
      },
      "source": [
        "grid = sns.FacetGrid(train_df, row = 'Pclass', col='Survived', hue_order=None, height = 3, aspect=2)\n",
        "grid.map(plt.hist, 'Age', alpha=0.7, bins = 20)\n",
        "plt.show()\n"
      ],
      "execution_count": 0,
      "outputs": [
        {
          "output_type": "display_data",
          "data": {
            "image/png": "[encoded data removed]",
            "text/plain": [
              "<Figure size 864x648 with 6 Axes>"
            ]
          },
          "metadata": {
            "tags": []
          }
        }
      ]
    },
    {
      "cell_type": "markdown",
      "metadata": {
        "id": "Ut1Gyxk5qxkc",
        "colab_type": "text"
      },
      "source": [
        "You can see the Distribution of survived passenger from different age Groups in Each Class"
      ]
    },
    {
      "cell_type": "markdown",
      "metadata": {
        "id": "f2vgzxLAaGHj",
        "colab_type": "text"
      },
      "source": [
        "#### 4. Assuming, Being alone and survival rate has high dependency. let's Create a new binary feature - 'Alone' "
      ]
    },
    {
      "cell_type": "code",
      "metadata": {
        "id": "WgE1PnAgX3vL",
        "colab_type": "code",
        "colab": {}
      },
      "source": [
        "data = [train_df , test_df]\n",
        "for dataset in data:\n",
        "  dataset['Relatives']=dataset['Parch']+dataset['SibSp']\n",
        "  dataset.loc[dataset['Relatives']>0,'Alone']=0\n",
        "  dataset.loc[dataset['Relatives']==0,'Alone']=1\n",
        "  dataset['Alone']=dataset['Alone'].astype(int)"
      ],
      "execution_count": 0,
      "outputs": []
    },
    {
      "cell_type": "code",
      "metadata": {
        "id": "zd0FwdQNbuJx",
        "colab_type": "code",
        "outputId": "2e304b52-5c52-4d00-de2e-ade69b2fb27d",
        "colab": {
          "base_uri": "https://localhost:8080/",
          "height": 238
        }
      },
      "source": [
        "train_df.head()"
      ],
      "execution_count": 0,
      "outputs": [
        {
          "output_type": "execute_result",
          "data": {
            "text/html": [
              "<div>\n",
              "<style scoped>\n",
              "    .dataframe tbody tr th:only-of-type {\n",
              "        vertical-align: middle;\n",
              "    }\n",
              "\n",
              "    .dataframe tbody tr th {\n",
              "        vertical-align: top;\n",
              "    }\n",
              "\n",
              "    .dataframe thead th {\n",
              "        text-align: right;\n",
              "    }\n",
              "</style>\n",
              "<table border=\"1\" class=\"dataframe\">\n",
              "  <thead>\n",
              "    <tr style=\"text-align: right;\">\n",
              "      <th></th>\n",
              "      <th>PassengerId</th>\n",
              "      <th>Survived</th>\n",
              "      <th>Pclass</th>\n",
              "      <th>Name</th>\n",
              "      <th>Sex</th>\n",
              "      <th>Age</th>\n",
              "      <th>SibSp</th>\n",
              "      <th>Parch</th>\n",
              "      <th>Ticket</th>\n",
              "      <th>Fare</th>\n",
              "      <th>Cabin</th>\n",
              "      <th>Embarked</th>\n",
              "      <th>Relatives</th>\n",
              "      <th>Alone</th>\n",
              "    </tr>\n",
              "  </thead>\n",
              "  <tbody>\n",
              "    <tr>\n",
              "      <th>0</th>\n",
              "      <td>1</td>\n",
              "      <td>0</td>\n",
              "      <td>3</td>\n",
              "      <td>Braund, Mr. Owen Harris</td>\n",
              "      <td>male</td>\n",
              "      <td>22.0</td>\n",
              "      <td>1</td>\n",
              "      <td>0</td>\n",
              "      <td>A/5 21171</td>\n",
              "      <td>7.2500</td>\n",
              "      <td>NaN</td>\n",
              "      <td>S</td>\n",
              "      <td>1</td>\n",
              "      <td>0</td>\n",
              "    </tr>\n",
              "    <tr>\n",
              "      <th>1</th>\n",
              "      <td>2</td>\n",
              "      <td>1</td>\n",
              "      <td>1</td>\n",
              "      <td>Cumings, Mrs. John Bradley (Florence Briggs Th...</td>\n",
              "      <td>female</td>\n",
              "      <td>38.0</td>\n",
              "      <td>1</td>\n",
              "      <td>0</td>\n",
              "      <td>PC 17599</td>\n",
              "      <td>71.2833</td>\n",
              "      <td>C85</td>\n",
              "      <td>C</td>\n",
              "      <td>1</td>\n",
              "      <td>0</td>\n",
              "    </tr>\n",
              "    <tr>\n",
              "      <th>2</th>\n",
              "      <td>3</td>\n",
              "      <td>1</td>\n",
              "      <td>3</td>\n",
              "      <td>Heikkinen, Miss. Laina</td>\n",
              "      <td>female</td>\n",
              "      <td>26.0</td>\n",
              "      <td>0</td>\n",
              "      <td>0</td>\n",
              "      <td>STON/O2. 3101282</td>\n",
              "      <td>7.9250</td>\n",
              "      <td>NaN</td>\n",
              "      <td>S</td>\n",
              "      <td>0</td>\n",
              "      <td>1</td>\n",
              "    </tr>\n",
              "    <tr>\n",
              "      <th>3</th>\n",
              "      <td>4</td>\n",
              "      <td>1</td>\n",
              "      <td>1</td>\n",
              "      <td>Futrelle, Mrs. Jacques Heath (Lily May Peel)</td>\n",
              "      <td>female</td>\n",
              "      <td>35.0</td>\n",
              "      <td>1</td>\n",
              "      <td>0</td>\n",
              "      <td>113803</td>\n",
              "      <td>53.1000</td>\n",
              "      <td>C123</td>\n",
              "      <td>S</td>\n",
              "      <td>1</td>\n",
              "      <td>0</td>\n",
              "    </tr>\n",
              "    <tr>\n",
              "      <th>4</th>\n",
              "      <td>5</td>\n",
              "      <td>0</td>\n",
              "      <td>3</td>\n",
              "      <td>Allen, Mr. William Henry</td>\n",
              "      <td>male</td>\n",
              "      <td>35.0</td>\n",
              "      <td>0</td>\n",
              "      <td>0</td>\n",
              "      <td>373450</td>\n",
              "      <td>8.0500</td>\n",
              "      <td>NaN</td>\n",
              "      <td>S</td>\n",
              "      <td>0</td>\n",
              "      <td>1</td>\n",
              "    </tr>\n",
              "  </tbody>\n",
              "</table>\n",
              "</div>"
            ],
            "text/plain": [
              "   PassengerId  Survived  Pclass  ... Embarked Relatives  Alone\n",
              "0            1         0       3  ...        S         1      0\n",
              "1            2         1       1  ...        C         1      0\n",
              "2            3         1       3  ...        S         0      1\n",
              "3            4         1       1  ...        S         1      0\n",
              "4            5         0       3  ...        S         0      1\n",
              "\n",
              "[5 rows x 14 columns]"
            ]
          },
          "metadata": {
            "tags": []
          },
          "execution_count": 19
        }
      ]
    },
    {
      "cell_type": "code",
      "metadata": {
        "id": "F27Z3aexbz9P",
        "colab_type": "code",
        "outputId": "1e6d73aa-b5a0-4d13-f9ee-e640a98e4dac",
        "colab": {
          "base_uri": "https://localhost:8080/",
          "height": 68
        }
      },
      "source": [
        "train_df.Alone.value_counts()"
      ],
      "execution_count": 0,
      "outputs": [
        {
          "output_type": "execute_result",
          "data": {
            "text/plain": [
              "1    537\n",
              "0    354\n",
              "Name: Alone, dtype: int64"
            ]
          },
          "metadata": {
            "tags": []
          },
          "execution_count": 20
        }
      ]
    },
    {
      "cell_type": "code",
      "metadata": {
        "id": "1WxpCiTzrTCO",
        "colab_type": "code",
        "outputId": "e14f5da7-f50e-43c8-e980-9d0f6212e1eb",
        "colab": {
          "base_uri": "https://localhost:8080/",
          "height": 554
        }
      },
      "source": [
        "f, ax = plt.subplots(1,3, figsize=(20,8 ))\n",
        "plt.suptitle('Information on Survival for Alone vs With Family', fontsize=20)\n",
        "\n",
        "train_df[\"Alone\"].value_counts().plot.pie(explode=[0,0.05], autopct='%1.2f%%', ax=ax[0], shadow=True, colors=colors, \n",
        "                                             labels=['Alone', 'With Family'], fontsize=15, startangle=45)\n",
        "sns.barplot(x = 'Alone', y = 'Survived',data = train_df , ax = ax[1])\n",
        "sns.barplot(x = 'Alone', y = 'Survived', hue = 'Sex',data = train_df,  ax = ax[2])\n",
        "plt.show()"
      ],
      "execution_count": 0,
      "outputs": [
        {
          "output_type": "display_data",
          "data": {
            "image/png": "[encoded data removed]",
            "text/plain": [
              "<Figure size 1440x576 with 3 Axes>"
            ]
          },
          "metadata": {
            "tags": []
          }
        }
      ]
    },
    {
      "cell_type": "markdown",
      "metadata": {
        "id": "dJkhJ0Epr8Y5",
        "colab_type": "text"
      },
      "source": [
        "- 60.27% of Passengers are alone while 39.73% passengers are with Family\n",
        "- As we can see people who were alone had a lower rate of survival in both Females as well as Males.\n",
        "- Females who were alone had a slightly higher chance of survival compared to Females with Family."
      ]
    },
    {
      "cell_type": "markdown",
      "metadata": {
        "id": "TFCmwIVodJsY",
        "colab_type": "text"
      },
      "source": [
        "#### 5. No_of_Relatives vs Survived"
      ]
    },
    {
      "cell_type": "code",
      "metadata": {
        "id": "pQIhzr-Mb_wz",
        "colab_type": "code",
        "outputId": "50444f9b-c1a9-4245-e942-9158fed55163",
        "colab": {
          "base_uri": "https://localhost:8080/",
          "height": 446
        }
      },
      "source": [
        "plt.figure(figsize=(16,7))\n",
        "sns.pointplot(x='Relatives', y = 'Survived',hue = 'Sex', data= train_df )\n",
        "plt.show()"
      ],
      "execution_count": 0,
      "outputs": [
        {
          "output_type": "display_data",
          "data": {
            "image/png": "[encoded data removed]",
            "text/plain": [
              "<Figure size 1152x504 with 1 Axes>"
            ]
          },
          "metadata": {
            "tags": []
          }
        }
      ]
    },
    {
      "cell_type": "markdown",
      "metadata": {
        "id": "3lW52ZozdGI5",
        "colab_type": "text"
      },
      "source": [
        "Very interesting to note that survival rate slowly increases and then falls down with Increase in number of Relatives"
      ]
    },
    {
      "cell_type": "markdown",
      "metadata": {
        "id": "miRTWnWvgKRR",
        "colab_type": "text"
      },
      "source": [
        "### Basic Pre-Processing"
      ]
    },
    {
      "cell_type": "markdown",
      "metadata": {
        "id": "H3daZ3WMgYbC",
        "colab_type": "text"
      },
      "source": [
        "In first step,we will see if any features are irrelevant and drop them. \n",
        "As you can see passenger ID is irrelevant.  I will drop 'PassengerId' from the train set, because it does not contribute to a persons survival probability. \n",
        "\n",
        "I will not drop it from the test set, since it is required there for the submission"
      ]
    },
    {
      "cell_type": "code",
      "metadata": {
        "id": "91IAyr9_cm6V",
        "colab_type": "code",
        "outputId": "57a7a505-bfa5-486b-dc9a-2d4806685c25",
        "colab": {
          "base_uri": "https://localhost:8080/",
          "height": 204
        }
      },
      "source": [
        "train_df = train_df.drop(['PassengerId'], axis = 1)\n",
        "train_df.head()"
      ],
      "execution_count": 0,
      "outputs": [
        {
          "output_type": "execute_result",
          "data": {
            "text/html": [
              "<div>\n",
              "<style scoped>\n",
              "    .dataframe tbody tr th:only-of-type {\n",
              "        vertical-align: middle;\n",
              "    }\n",
              "\n",
              "    .dataframe tbody tr th {\n",
              "        vertical-align: top;\n",
              "    }\n",
              "\n",
              "    .dataframe thead th {\n",
              "        text-align: right;\n",
              "    }\n",
              "</style>\n",
              "<table border=\"1\" class=\"dataframe\">\n",
              "  <thead>\n",
              "    <tr style=\"text-align: right;\">\n",
              "      <th></th>\n",
              "      <th>Survived</th>\n",
              "      <th>Pclass</th>\n",
              "      <th>Name</th>\n",
              "      <th>Sex</th>\n",
              "      <th>Age</th>\n",
              "      <th>SibSp</th>\n",
              "      <th>Parch</th>\n",
              "      <th>Ticket</th>\n",
              "      <th>Fare</th>\n",
              "      <th>Cabin</th>\n",
              "      <th>Embarked</th>\n",
              "      <th>Relatives</th>\n",
              "      <th>Alone</th>\n",
              "    </tr>\n",
              "  </thead>\n",
              "  <tbody>\n",
              "    <tr>\n",
              "      <th>0</th>\n",
              "      <td>0</td>\n",
              "      <td>3</td>\n",
              "      <td>Braund, Mr. Owen Harris</td>\n",
              "      <td>male</td>\n",
              "      <td>22.0</td>\n",
              "      <td>1</td>\n",
              "      <td>0</td>\n",
              "      <td>A/5 21171</td>\n",
              "      <td>7.2500</td>\n",
              "      <td>NaN</td>\n",
              "      <td>S</td>\n",
              "      <td>1</td>\n",
              "      <td>0</td>\n",
              "    </tr>\n",
              "    <tr>\n",
              "      <th>1</th>\n",
              "      <td>1</td>\n",
              "      <td>1</td>\n",
              "      <td>Cumings, Mrs. John Bradley (Florence Briggs Th...</td>\n",
              "      <td>female</td>\n",
              "      <td>38.0</td>\n",
              "      <td>1</td>\n",
              "      <td>0</td>\n",
              "      <td>PC 17599</td>\n",
              "      <td>71.2833</td>\n",
              "      <td>C85</td>\n",
              "      <td>C</td>\n",
              "      <td>1</td>\n",
              "      <td>0</td>\n",
              "    </tr>\n",
              "    <tr>\n",
              "      <th>2</th>\n",
              "      <td>1</td>\n",
              "      <td>3</td>\n",
              "      <td>Heikkinen, Miss. Laina</td>\n",
              "      <td>female</td>\n",
              "      <td>26.0</td>\n",
              "      <td>0</td>\n",
              "      <td>0</td>\n",
              "      <td>STON/O2. 3101282</td>\n",
              "      <td>7.9250</td>\n",
              "      <td>NaN</td>\n",
              "      <td>S</td>\n",
              "      <td>0</td>\n",
              "      <td>1</td>\n",
              "    </tr>\n",
              "    <tr>\n",
              "      <th>3</th>\n",
              "      <td>1</td>\n",
              "      <td>1</td>\n",
              "      <td>Futrelle, Mrs. Jacques Heath (Lily May Peel)</td>\n",
              "      <td>female</td>\n",
              "      <td>35.0</td>\n",
              "      <td>1</td>\n",
              "      <td>0</td>\n",
              "      <td>113803</td>\n",
              "      <td>53.1000</td>\n",
              "      <td>C123</td>\n",
              "      <td>S</td>\n",
              "      <td>1</td>\n",
              "      <td>0</td>\n",
              "    </tr>\n",
              "    <tr>\n",
              "      <th>4</th>\n",
              "      <td>0</td>\n",
              "      <td>3</td>\n",
              "      <td>Allen, Mr. William Henry</td>\n",
              "      <td>male</td>\n",
              "      <td>35.0</td>\n",
              "      <td>0</td>\n",
              "      <td>0</td>\n",
              "      <td>373450</td>\n",
              "      <td>8.0500</td>\n",
              "      <td>NaN</td>\n",
              "      <td>S</td>\n",
              "      <td>0</td>\n",
              "      <td>1</td>\n",
              "    </tr>\n",
              "  </tbody>\n",
              "</table>\n",
              "</div>"
            ],
            "text/plain": [
              "   Survived  Pclass  ... Relatives Alone\n",
              "0         0       3  ...         1     0\n",
              "1         1       1  ...         1     0\n",
              "2         1       3  ...         0     1\n",
              "3         1       1  ...         1     0\n",
              "4         0       3  ...         0     1\n",
              "\n",
              "[5 rows x 13 columns]"
            ]
          },
          "metadata": {
            "tags": []
          },
          "execution_count": 23
        }
      ]
    },
    {
      "cell_type": "code",
      "metadata": {
        "id": "cgMgWxY-xO6L",
        "colab_type": "code",
        "colab": {}
      },
      "source": [
        ""
      ],
      "execution_count": 0,
      "outputs": []
    },
    {
      "cell_type": "markdown",
      "metadata": {
        "id": "65TuYwDKxP4v",
        "colab_type": "text"
      },
      "source": [
        "### Missing Value Treatment"
      ]
    },
    {
      "cell_type": "markdown",
      "metadata": {
        "id": "oWAaQfquhtTA",
        "colab_type": "text"
      },
      "source": [
        "#### Missing Data in cabin :\n",
        " As a reminder, we have to deal with Cabin (687), Embarked (2) and Age (177). First I thought of dropping the 'Cabin' variable but then I found something interesting.\n",
        "\n",
        "`A cabin number looks like ‘C123’ where the first letter refers to the deck.`\n",
        " \n",
        "- Therefore we’re going to extract these and create a new feature, that contains a persons deck. Afterwords we will convert the feature into a numeric variable. \n",
        "\n",
        "- The missing values will be replaced with to 'U0'. In the picture below you can see the actual decks of the titanic, ranging from A to G.\n",
        "\n",
        "- For Passengers with missing Data in Cabin, we will put them in Deck U representing Unknown Deck"
      ]
    },
    {
      "cell_type": "code",
      "metadata": {
        "id": "VXmxnksAg8GV",
        "colab_type": "code",
        "colab": {}
      },
      "source": [
        "import re\n",
        "\n",
        "deck =  {'A':1  , 'B': 2 , 'C': 3, 'D':4 ,'E' : 5 , 'F':6 , 'G':7 , 'U':8}\n",
        "data = [train_df , test_df]\n",
        "for dataset in data:\n",
        "  dataset['Cabin']=dataset['Cabin'].fillna('U0')\n",
        "  dataset['Deck']=dataset['Cabin'].map(lambda x : re.compile(\"([a-zA-Z]+)\").search(x).group())\n",
        "  dataset['Deck']=dataset['Deck'].map(deck)\n",
        "  dataset['Deck']=dataset['Deck'].fillna(0)\n",
        "  dataset['Deck']=dataset['Deck'].astype(int)"
      ],
      "execution_count": 0,
      "outputs": []
    },
    {
      "cell_type": "code",
      "metadata": {
        "id": "Gvh62SNVrp7a",
        "colab_type": "code",
        "outputId": "e2954ab7-0eba-4795-95fb-0b413b38e904",
        "colab": {
          "base_uri": "https://localhost:8080/",
          "height": 187
        }
      },
      "source": [
        "train_df.Deck.value_counts()"
      ],
      "execution_count": 0,
      "outputs": [
        {
          "output_type": "execute_result",
          "data": {
            "text/plain": [
              "8    687\n",
              "3     59\n",
              "2     47\n",
              "4     33\n",
              "5     32\n",
              "1     15\n",
              "6     13\n",
              "7      4\n",
              "0      1\n",
              "Name: Deck, dtype: int64"
            ]
          },
          "metadata": {
            "tags": []
          },
          "execution_count": 25
        }
      ]
    },
    {
      "cell_type": "code",
      "metadata": {
        "id": "Mglur1Vqr7j1",
        "colab_type": "code",
        "outputId": "5da8dbd2-026a-4e75-f42f-81753546248e",
        "colab": {
          "base_uri": "https://localhost:8080/",
          "height": 187
        }
      },
      "source": [
        "# Same code as above, Regular Expression Simplified\n",
        "\n",
        "import re\n",
        "\n",
        "deck =  {'A':1  , 'B': 2 , 'C': 3, 'D':4 ,'E' : 5 , 'F':6 , 'G':7 , 'U':8}\n",
        "data = [train_df , test_df]\n",
        "\n",
        "for dataset in data:\n",
        "  dataset['Cabin']=dataset['Cabin'].fillna('U0')\n",
        "  dataset['Deck']=dataset['Cabin'].map(lambda x : x[0])\n",
        "  dataset['Deck']=dataset['Deck'].map(deck)\n",
        "  dataset['Deck']=dataset['Deck'].fillna(0)\n",
        "  dataset['Deck']=dataset['Deck'].astype(int)\n",
        "\n",
        "  \n",
        "  \n",
        "train_df.Deck.value_counts()"
      ],
      "execution_count": 0,
      "outputs": [
        {
          "output_type": "execute_result",
          "data": {
            "text/plain": [
              "8    687\n",
              "3     59\n",
              "2     47\n",
              "4     33\n",
              "5     32\n",
              "1     15\n",
              "6     13\n",
              "7      4\n",
              "0      1\n",
              "Name: Deck, dtype: int64"
            ]
          },
          "metadata": {
            "tags": []
          },
          "execution_count": 26
        }
      ]
    },
    {
      "cell_type": "code",
      "metadata": {
        "id": "Jz69h9LMuXfM",
        "colab_type": "code",
        "colab": {}
      },
      "source": [
        ""
      ],
      "execution_count": 0,
      "outputs": []
    },
    {
      "cell_type": "markdown",
      "metadata": {
        "id": "sAmIS-Ldu7EH",
        "colab_type": "text"
      },
      "source": [
        "we can now drop the cabin feature now"
      ]
    },
    {
      "cell_type": "code",
      "metadata": {
        "id": "MtJsUBE_uZ__",
        "colab_type": "code",
        "colab": {}
      },
      "source": [
        "data = [train_df,test_df]\n",
        "for dataset in data:\n",
        "  dataset=dataset.drop(['Cabin'], axis = 1)"
      ],
      "execution_count": 0,
      "outputs": []
    },
    {
      "cell_type": "code",
      "metadata": {
        "id": "uLX8FDtwtcYA",
        "colab_type": "code",
        "colab": {}
      },
      "source": [
        "train_df=train_df.drop('Cabin', axis = 1)\n",
        "test_df=test_df.drop('Cabin', axis = 1)"
      ],
      "execution_count": 0,
      "outputs": []
    },
    {
      "cell_type": "markdown",
      "metadata": {
        "id": "2bTGJI4ZvWBR",
        "colab_type": "text"
      },
      "source": [
        "#### Missing data in Age\n",
        "Now we can tackle the issue with the age features missing values:  \n",
        "\n",
        "I will create an array of size n that contains random numbers, which are computed based on the mean age value in regards to the standard deviation where n is equal to number of missing Values."
      ]
    },
    {
      "cell_type": "code",
      "metadata": {
        "id": "4Efs0DWzvTIl",
        "colab_type": "code",
        "colab": {}
      },
      "source": [
        "data = [train_df , test_df]\n",
        "mean = train_df['Age'].mean()\n",
        "std  = test_df['Age'].std()\n",
        "\n",
        "\n",
        "for dataset in data:\n",
        "  count_of_null = dataset['Age'].isnull().sum()\n",
        "  \n",
        "  rand_age = np.random.randint(mean-std,mean+std, size = count_of_null)\n",
        "  \n",
        "  age_slice = dataset['Age'].copy()\n",
        "  age_slice[np.isnan(age_slice)]= rand_age\n",
        "  \n",
        "  dataset['Age']=age_slice\n",
        "  dataset['Age']=dataset['Age'].astype(int)"
      ],
      "execution_count": 0,
      "outputs": []
    },
    {
      "cell_type": "markdown",
      "metadata": {
        "id": "H7B7whI8x3g6",
        "colab_type": "text"
      },
      "source": [
        "#### Missing data in Embarked:\n",
        "Since the Embarked feature has only 2 missing values, we will just fill these with the most common one.\n",
        "\n"
      ]
    },
    {
      "cell_type": "code",
      "metadata": {
        "id": "3_pWwiWhxuwj",
        "colab_type": "code",
        "outputId": "354b1c4b-78fc-490d-9def-105cc1464591",
        "colab": {
          "base_uri": "https://localhost:8080/",
          "height": 102
        }
      },
      "source": [
        "train_df['Embarked'].describe()"
      ],
      "execution_count": 0,
      "outputs": [
        {
          "output_type": "execute_result",
          "data": {
            "text/plain": [
              "count     889\n",
              "unique      3\n",
              "top         S\n",
              "freq      644\n",
              "Name: Embarked, dtype: object"
            ]
          },
          "metadata": {
            "tags": []
          },
          "execution_count": 30
        }
      ]
    },
    {
      "cell_type": "code",
      "metadata": {
        "id": "FrLpSuqc4Jai",
        "colab_type": "code",
        "colab": {}
      },
      "source": [
        "train_df['Embarked'] = train_df['Embarked'].fillna('S')\n",
        "test_df['Embarked'] = test_df['Embarked'].fillna('S')"
      ],
      "execution_count": 0,
      "outputs": []
    },
    {
      "cell_type": "markdown",
      "metadata": {
        "id": "UwViHf814leB",
        "colab_type": "text"
      },
      "source": [
        "#### All the missing values in our TrainDF and Test_DF dataset has been dealt.\n",
        "#### Let's check info of on both the Dataframes to verify this\n"
      ]
    },
    {
      "cell_type": "code",
      "metadata": {
        "id": "HRSgupK04THf",
        "colab_type": "code",
        "outputId": "4d2ab989-5ea6-4dcc-9d4f-d4605be3a579",
        "colab": {
          "base_uri": "https://localhost:8080/",
          "height": 323
        }
      },
      "source": [
        "train_df.info()"
      ],
      "execution_count": 0,
      "outputs": [
        {
          "output_type": "stream",
          "text": [
            "<class 'pandas.core.frame.DataFrame'>\n",
            "RangeIndex: 891 entries, 0 to 890\n",
            "Data columns (total 13 columns):\n",
            "Survived     891 non-null int64\n",
            "Pclass       891 non-null int64\n",
            "Name         891 non-null object\n",
            "Sex          891 non-null object\n",
            "Age          891 non-null int64\n",
            "SibSp        891 non-null int64\n",
            "Parch        891 non-null int64\n",
            "Ticket       891 non-null object\n",
            "Fare         891 non-null float64\n",
            "Embarked     891 non-null object\n",
            "Relatives    891 non-null int64\n",
            "Alone        891 non-null int64\n",
            "Deck         891 non-null int64\n",
            "dtypes: float64(1), int64(8), object(4)\n",
            "memory usage: 90.6+ KB\n"
          ],
          "name": "stdout"
        }
      ]
    },
    {
      "cell_type": "code",
      "metadata": {
        "id": "SnBlydP64_qd",
        "colab_type": "code",
        "outputId": "824134c5-7273-4c17-e0b0-2f0d3dbe6298",
        "colab": {
          "base_uri": "https://localhost:8080/",
          "height": 323
        }
      },
      "source": [
        "test_df.info()"
      ],
      "execution_count": 0,
      "outputs": [
        {
          "output_type": "stream",
          "text": [
            "<class 'pandas.core.frame.DataFrame'>\n",
            "RangeIndex: 418 entries, 0 to 417\n",
            "Data columns (total 13 columns):\n",
            "PassengerId    418 non-null int64\n",
            "Pclass         418 non-null int64\n",
            "Name           418 non-null object\n",
            "Sex            418 non-null object\n",
            "Age            418 non-null int64\n",
            "SibSp          418 non-null int64\n",
            "Parch          418 non-null int64\n",
            "Ticket         418 non-null object\n",
            "Fare           417 non-null float64\n",
            "Embarked       418 non-null object\n",
            "Relatives      418 non-null int64\n",
            "Alone          418 non-null int64\n",
            "Deck           418 non-null int64\n",
            "dtypes: float64(1), int64(8), object(4)\n",
            "memory usage: 42.5+ KB\n"
          ],
          "name": "stdout"
        }
      ]
    },
    {
      "cell_type": "markdown",
      "metadata": {
        "id": "2Dm2kKaGZ0rN",
        "colab_type": "text"
      },
      "source": [
        "#### Uh oh! 1 value is missing in Fare Column in test data set. Let's deal with it before moving forward"
      ]
    },
    {
      "cell_type": "code",
      "metadata": {
        "id": "-s8IbuM-yOtG",
        "colab_type": "code",
        "outputId": "b0729677-da80-4360-8ab1-470540016b38",
        "colab": {
          "base_uri": "https://localhost:8080/",
          "height": 34
        }
      },
      "source": [
        "test_df.Fare = test_df.Fare.fillna(mean)\n",
        "test_df.Fare.isna().sum()"
      ],
      "execution_count": 0,
      "outputs": [
        {
          "output_type": "execute_result",
          "data": {
            "text/plain": [
              "0"
            ]
          },
          "metadata": {
            "tags": []
          },
          "execution_count": 34
        }
      ]
    },
    {
      "cell_type": "code",
      "metadata": {
        "id": "Pu2zegET2WBm",
        "colab_type": "code",
        "outputId": "8428bc79-7fc7-480f-fc8e-b61d17741d38",
        "colab": {
          "base_uri": "https://localhost:8080/",
          "height": 323
        }
      },
      "source": [
        "test_df.info()"
      ],
      "execution_count": 0,
      "outputs": [
        {
          "output_type": "stream",
          "text": [
            "<class 'pandas.core.frame.DataFrame'>\n",
            "RangeIndex: 418 entries, 0 to 417\n",
            "Data columns (total 13 columns):\n",
            "PassengerId    418 non-null int64\n",
            "Pclass         418 non-null int64\n",
            "Name           418 non-null object\n",
            "Sex            418 non-null object\n",
            "Age            418 non-null int64\n",
            "SibSp          418 non-null int64\n",
            "Parch          418 non-null int64\n",
            "Ticket         418 non-null object\n",
            "Fare           418 non-null float64\n",
            "Embarked       418 non-null object\n",
            "Relatives      418 non-null int64\n",
            "Alone          418 non-null int64\n",
            "Deck           418 non-null int64\n",
            "dtypes: float64(1), int64(8), object(4)\n",
            "memory usage: 42.5+ KB\n"
          ],
          "name": "stdout"
        }
      ]
    },
    {
      "cell_type": "markdown",
      "metadata": {
        "id": "281HLORP1oH-",
        "colab_type": "text"
      },
      "source": [
        "So No Null values anymore. Let's Move ahead"
      ]
    },
    {
      "cell_type": "markdown",
      "metadata": {
        "id": "HQL1b_p_x-gU",
        "colab_type": "text"
      },
      "source": [
        "### Feature Engineering "
      ]
    },
    {
      "cell_type": "markdown",
      "metadata": {
        "id": "EqBgfykOZ0ne",
        "colab_type": "text"
      },
      "source": [
        "#### Using Name to Extract useful Information\n",
        " We will use the Name feature to extract the Titles from the Name, so that we can build a new feature out of that."
      ]
    },
    {
      "cell_type": "code",
      "metadata": {
        "id": "qMT_0hpJaFny",
        "colab_type": "code",
        "outputId": "ebc24052-a2ca-43b1-8315-a4b228a710d2",
        "colab": {
          "base_uri": "https://localhost:8080/",
          "height": 119
        }
      },
      "source": [
        "train_df.Name.head()"
      ],
      "execution_count": 0,
      "outputs": [
        {
          "output_type": "execute_result",
          "data": {
            "text/plain": [
              "0                              Braund, Mr. Owen Harris\n",
              "1    Cumings, Mrs. John Bradley (Florence Briggs Th...\n",
              "2                               Heikkinen, Miss. Laina\n",
              "3         Futrelle, Mrs. Jacques Heath (Lily May Peel)\n",
              "4                             Allen, Mr. William Henry\n",
              "Name: Name, dtype: object"
            ]
          },
          "metadata": {
            "tags": []
          },
          "execution_count": 36
        }
      ]
    },
    {
      "cell_type": "code",
      "metadata": {
        "id": "HOF1gnvt5CEt",
        "colab_type": "code",
        "colab": {}
      },
      "source": [
        "data = [train_df,test_df]\n",
        "\n",
        "for dataset in data:\n",
        "  dataset['Title'] = dataset.Name.str.extract('([A-Za-z]+)\\.', expand = False)"
      ],
      "execution_count": 0,
      "outputs": []
    },
    {
      "cell_type": "code",
      "metadata": {
        "id": "a26IUgkFazVq",
        "colab_type": "code",
        "outputId": "d3b6b0a0-9d7a-41f8-953b-4cfba96914aa",
        "colab": {
          "base_uri": "https://localhost:8080/",
          "height": 323
        }
      },
      "source": [
        "train_df.Title.value_counts()"
      ],
      "execution_count": 0,
      "outputs": [
        {
          "output_type": "execute_result",
          "data": {
            "text/plain": [
              "Mr          517\n",
              "Miss        182\n",
              "Mrs         125\n",
              "Master       40\n",
              "Dr            7\n",
              "Rev           6\n",
              "Major         2\n",
              "Mlle          2\n",
              "Col           2\n",
              "Countess      1\n",
              "Capt          1\n",
              "Ms            1\n",
              "Lady          1\n",
              "Mme           1\n",
              "Don           1\n",
              "Jonkheer      1\n",
              "Sir           1\n",
              "Name: Title, dtype: int64"
            ]
          },
          "metadata": {
            "tags": []
          },
          "execution_count": 38
        }
      ]
    },
    {
      "cell_type": "code",
      "metadata": {
        "id": "6q0gHl4Qa5xD",
        "colab_type": "code",
        "colab": {}
      },
      "source": [
        "data = [train_df,test_df]\n",
        "\n",
        "for dataset in data:\n",
        "  dataset['Title'] = dataset['Title'].replace(['Lady', 'Countess','Capt', 'Col','Don','Dr',\\\n",
        "                                              'Major','Rev','Sir','Jonkheer','Dona'], 'Rare')\n",
        "  dataset['Title'] = dataset['Title'].replace('Mlle' , 'Miss')\n",
        "  dataset['Title'] = dataset['Title'].replace('Ms' , 'Miss')\n",
        "  dataset['Title'] = dataset['Title'].replace('Mme' , 'Mrs')\n",
        "  "
      ],
      "execution_count": 0,
      "outputs": []
    },
    {
      "cell_type": "code",
      "metadata": {
        "id": "xyafb2EScPac",
        "colab_type": "code",
        "colab": {}
      },
      "source": [
        "titles={'Mr':1,'Miss':2,'Mrs':3, 'Master':4, 'Rare':5}\n",
        "\n",
        "for dataset in data:\n",
        "  dataset['Title']=dataset['Title'].map(titles)"
      ],
      "execution_count": 0,
      "outputs": []
    },
    {
      "cell_type": "code",
      "metadata": {
        "id": "O85EZf8Ccs-p",
        "colab_type": "code",
        "outputId": "63bcedd1-3207-4127-f0b3-f64316f49157",
        "colab": {
          "base_uri": "https://localhost:8080/",
          "height": 51
        }
      },
      "source": [
        "print(train_df.Title.isna().sum())\n",
        "print(test_df.Title.isna().sum())"
      ],
      "execution_count": 0,
      "outputs": [
        {
          "output_type": "stream",
          "text": [
            "0\n",
            "0\n"
          ],
          "name": "stdout"
        }
      ]
    },
    {
      "cell_type": "markdown",
      "metadata": {
        "id": "P-2TtXDZdJ9s",
        "colab_type": "text"
      },
      "source": [
        "Dropping name Column now as we have already extracted useful information from it and full name is of no use to us anymore"
      ]
    },
    {
      "cell_type": "code",
      "metadata": {
        "id": "LPEBS-Hcc1b0",
        "colab_type": "code",
        "colab": {}
      },
      "source": [
        "train_df = train_df.drop(['Name'], axis = 1)\n",
        "test_df = test_df.drop(['Name'], axis = 1)"
      ],
      "execution_count": 0,
      "outputs": []
    },
    {
      "cell_type": "markdown",
      "metadata": {
        "id": "d9tgjehRyzxo",
        "colab_type": "text"
      },
      "source": [
        "#### Sex is categorical but we have to convert 'Sex' feature into numeric."
      ]
    },
    {
      "cell_type": "code",
      "metadata": {
        "id": "NXtgc05HuPeY",
        "colab_type": "code",
        "outputId": "d8ea6286-50de-40da-9256-d44d21928770",
        "colab": {
          "base_uri": "https://localhost:8080/",
          "height": 68
        }
      },
      "source": [
        "train_df.Sex.value_counts()"
      ],
      "execution_count": 0,
      "outputs": [
        {
          "output_type": "execute_result",
          "data": {
            "text/plain": [
              "male      577\n",
              "female    314\n",
              "Name: Sex, dtype: int64"
            ]
          },
          "metadata": {
            "tags": []
          },
          "execution_count": 43
        }
      ]
    },
    {
      "cell_type": "code",
      "metadata": {
        "id": "boaSgcXadX3Y",
        "colab_type": "code",
        "colab": {}
      },
      "source": [
        "gender = {'male':0 , 'female':1}\n",
        "data = [train_df,test_df]\n",
        "\n",
        "for dataset in data:\n",
        "  dataset['Sex']=dataset['Sex'].map(gender)"
      ],
      "execution_count": 0,
      "outputs": []
    },
    {
      "cell_type": "markdown",
      "metadata": {
        "id": "12ZzzGwZeO0x",
        "colab_type": "text"
      },
      "source": [
        "#### Ticket & Fare"
      ]
    },
    {
      "cell_type": "code",
      "metadata": {
        "id": "LNOsTTGNdxcT",
        "colab_type": "code",
        "outputId": "9637b34e-7273-4644-b885-9caf09b8f8c3",
        "colab": {
          "base_uri": "https://localhost:8080/",
          "height": 119
        }
      },
      "source": [
        "train_df.Ticket.head()"
      ],
      "execution_count": 0,
      "outputs": [
        {
          "output_type": "execute_result",
          "data": {
            "text/plain": [
              "0           A/5 21171\n",
              "1            PC 17599\n",
              "2    STON/O2. 3101282\n",
              "3              113803\n",
              "4              373450\n",
              "Name: Ticket, dtype: object"
            ]
          },
          "metadata": {
            "tags": []
          },
          "execution_count": 45
        }
      ]
    },
    {
      "cell_type": "markdown",
      "metadata": {
        "id": "P-pvsWhieJfI",
        "colab_type": "text"
      },
      "source": [
        "Since the Ticket attribute has 681 unique tickets, it will be a bit tricky to convert them into useful information. So we will drop it from the dataset."
      ]
    },
    {
      "cell_type": "code",
      "metadata": {
        "id": "SOS4hxb-epDa",
        "colab_type": "code",
        "colab": {}
      },
      "source": [
        "train_df=train_df.drop('Ticket', axis = 1)\n",
        "test_df=test_df.drop('Ticket', axis = 1)"
      ],
      "execution_count": 0,
      "outputs": []
    },
    {
      "cell_type": "markdown",
      "metadata": {
        "id": "LOeoRmZheunv",
        "colab_type": "text"
      },
      "source": [
        "#### Embarked\n",
        "Let's convert Embark into a numerical Feature"
      ]
    },
    {
      "cell_type": "code",
      "metadata": {
        "id": "akd0QoX2e3fr",
        "colab_type": "code",
        "colab": {}
      },
      "source": [
        "ports = {'S':0,'C':1, 'Q':2}\n",
        "data = [train_df,test_df]\n",
        "\n",
        "for dataset in data:\n",
        "  dataset['Embarked']=dataset['Embarked'].map(ports)"
      ],
      "execution_count": 0,
      "outputs": []
    },
    {
      "cell_type": "markdown",
      "metadata": {
        "id": "CmTvY65NoE0y",
        "colab_type": "text"
      },
      "source": [
        "#### More Features\n",
        "\n",
        "\n",
        "We will now create categories within the following features:\n",
        "\n",
        "#### Age Category Binning:\n",
        "Now we will create bins fro the 'age' feature. First we will convert it from float into integer. Then we will create the new 'AgeGroup\" variable, by categorizing every age into a group. Note that it is important to place attention on how you form these groups, since you don't want for example that 80% of your data falls into group 1."
      ]
    },
    {
      "cell_type": "code",
      "metadata": {
        "id": "-WXRsRTNfGwl",
        "colab_type": "code",
        "colab": {}
      },
      "source": [
        "data = [train_df,test_df]\n",
        "for dataset in data:\n",
        "  dataset['Age']=dataset['Age'].astype(int)\n",
        "  dataset.loc[dataset['Age']<=11, 'Age']=0\n",
        "  dataset.loc[(dataset['Age']>11) & (dataset['Age']<=18), 'Age']=1\n",
        "  dataset.loc[(dataset['Age']>18) & (dataset['Age']<=22), 'Age']=2\n",
        "  dataset.loc[(dataset['Age']>22) & (dataset['Age']<=27), 'Age']=3\n",
        "  dataset.loc[(dataset['Age']>27) & (dataset['Age']<=33), 'Age']=4\n",
        "  dataset.loc[(dataset['Age']>33) & (dataset['Age']<=40), 'Age']=5\n",
        "  dataset.loc[(dataset['Age']>40) & (dataset['Age']<=66), 'Age']=6\n",
        "  dataset.loc[(dataset['Age']>66), 'Age']=6"
      ],
      "execution_count": 0,
      "outputs": []
    },
    {
      "cell_type": "markdown",
      "metadata": {
        "id": "GHTL6Y-WqVku",
        "colab_type": "text"
      },
      "source": [
        "The above grouping can also be achieved in single line with Pd.Cut. You can give a try.\n",
        "\n",
        "Now Let's see the Groups."
      ]
    },
    {
      "cell_type": "code",
      "metadata": {
        "id": "ou7b9PnPpuHg",
        "colab_type": "code",
        "outputId": "4b2925f5-0a3f-46bc-ea71-cf54e0d591d5",
        "colab": {
          "base_uri": "https://localhost:8080/",
          "height": 153
        }
      },
      "source": [
        "train_df.Age.value_counts()"
      ],
      "execution_count": 0,
      "outputs": [
        {
          "output_type": "execute_result",
          "data": {
            "text/plain": [
              "6    165\n",
              "4    158\n",
              "5    150\n",
              "3    142\n",
              "2    114\n",
              "1     94\n",
              "0     68\n",
              "Name: Age, dtype: int64"
            ]
          },
          "metadata": {
            "tags": []
          },
          "execution_count": 49
        }
      ]
    },
    {
      "cell_type": "markdown",
      "metadata": {
        "id": "2glQmWZ9qSyD",
        "colab_type": "text"
      },
      "source": [
        "#### Fare binning\n",
        "Similarly for the fare , we do same approach, For the 'Fare' feature, we need to do the same as with the 'Age' feature. But it isn't that easy, because if we cut the range of the fare values into a few equally big categories, 80% of the values would fall into the first category. Fortunately, we can use sklearn \"qcut()\" function, that we can use to see, how we can form the categories.\n",
        "\n",
        "Current dataframe looks as follows\n"
      ]
    },
    {
      "cell_type": "code",
      "metadata": {
        "id": "xdKL6P58p0yK",
        "colab_type": "code",
        "outputId": "832ebc0f-ad3b-44ca-9473-ef8ec7e60f15",
        "colab": {
          "base_uri": "https://localhost:8080/",
          "height": 204
        }
      },
      "source": [
        "train_df.head()"
      ],
      "execution_count": 0,
      "outputs": [
        {
          "output_type": "execute_result",
          "data": {
            "text/html": [
              "<div>\n",
              "<style scoped>\n",
              "    .dataframe tbody tr th:only-of-type {\n",
              "        vertical-align: middle;\n",
              "    }\n",
              "\n",
              "    .dataframe tbody tr th {\n",
              "        vertical-align: top;\n",
              "    }\n",
              "\n",
              "    .dataframe thead th {\n",
              "        text-align: right;\n",
              "    }\n",
              "</style>\n",
              "<table border=\"1\" class=\"dataframe\">\n",
              "  <thead>\n",
              "    <tr style=\"text-align: right;\">\n",
              "      <th></th>\n",
              "      <th>Survived</th>\n",
              "      <th>Pclass</th>\n",
              "      <th>Sex</th>\n",
              "      <th>Age</th>\n",
              "      <th>SibSp</th>\n",
              "      <th>Parch</th>\n",
              "      <th>Fare</th>\n",
              "      <th>Embarked</th>\n",
              "      <th>Relatives</th>\n",
              "      <th>Alone</th>\n",
              "      <th>Deck</th>\n",
              "      <th>Title</th>\n",
              "    </tr>\n",
              "  </thead>\n",
              "  <tbody>\n",
              "    <tr>\n",
              "      <th>0</th>\n",
              "      <td>0</td>\n",
              "      <td>3</td>\n",
              "      <td>0</td>\n",
              "      <td>2</td>\n",
              "      <td>1</td>\n",
              "      <td>0</td>\n",
              "      <td>7.2500</td>\n",
              "      <td>0</td>\n",
              "      <td>1</td>\n",
              "      <td>0</td>\n",
              "      <td>8</td>\n",
              "      <td>1</td>\n",
              "    </tr>\n",
              "    <tr>\n",
              "      <th>1</th>\n",
              "      <td>1</td>\n",
              "      <td>1</td>\n",
              "      <td>1</td>\n",
              "      <td>5</td>\n",
              "      <td>1</td>\n",
              "      <td>0</td>\n",
              "      <td>71.2833</td>\n",
              "      <td>1</td>\n",
              "      <td>1</td>\n",
              "      <td>0</td>\n",
              "      <td>3</td>\n",
              "      <td>3</td>\n",
              "    </tr>\n",
              "    <tr>\n",
              "      <th>2</th>\n",
              "      <td>1</td>\n",
              "      <td>3</td>\n",
              "      <td>1</td>\n",
              "      <td>3</td>\n",
              "      <td>0</td>\n",
              "      <td>0</td>\n",
              "      <td>7.9250</td>\n",
              "      <td>0</td>\n",
              "      <td>0</td>\n",
              "      <td>1</td>\n",
              "      <td>8</td>\n",
              "      <td>2</td>\n",
              "    </tr>\n",
              "    <tr>\n",
              "      <th>3</th>\n",
              "      <td>1</td>\n",
              "      <td>1</td>\n",
              "      <td>1</td>\n",
              "      <td>5</td>\n",
              "      <td>1</td>\n",
              "      <td>0</td>\n",
              "      <td>53.1000</td>\n",
              "      <td>0</td>\n",
              "      <td>1</td>\n",
              "      <td>0</td>\n",
              "      <td>3</td>\n",
              "      <td>3</td>\n",
              "    </tr>\n",
              "    <tr>\n",
              "      <th>4</th>\n",
              "      <td>0</td>\n",
              "      <td>3</td>\n",
              "      <td>0</td>\n",
              "      <td>5</td>\n",
              "      <td>0</td>\n",
              "      <td>0</td>\n",
              "      <td>8.0500</td>\n",
              "      <td>0</td>\n",
              "      <td>0</td>\n",
              "      <td>1</td>\n",
              "      <td>8</td>\n",
              "      <td>1</td>\n",
              "    </tr>\n",
              "  </tbody>\n",
              "</table>\n",
              "</div>"
            ],
            "text/plain": [
              "   Survived  Pclass  Sex  Age  SibSp  ...  Embarked  Relatives  Alone  Deck  Title\n",
              "0         0       3    0    2      1  ...         0          1      0     8      1\n",
              "1         1       1    1    5      1  ...         1          1      0     3      3\n",
              "2         1       3    1    3      0  ...         0          0      1     8      2\n",
              "3         1       1    1    5      1  ...         0          1      0     3      3\n",
              "4         0       3    0    5      0  ...         0          0      1     8      1\n",
              "\n",
              "[5 rows x 12 columns]"
            ]
          },
          "metadata": {
            "tags": []
          },
          "execution_count": 50
        }
      ]
    },
    {
      "cell_type": "markdown",
      "metadata": {
        "id": "7ih8wqcz3dZy",
        "colab_type": "text"
      },
      "source": [
        "#### Let's Perform Fare binning Now:\n"
      ]
    },
    {
      "cell_type": "code",
      "metadata": {
        "id": "_hlZNOvbq2RU",
        "colab_type": "code",
        "outputId": "13be738c-faf3-466e-dab3-207b4ea50a47",
        "colab": {
          "base_uri": "https://localhost:8080/",
          "height": 136
        }
      },
      "source": [
        "data = [train_df,test_df]\n",
        "\n",
        "for dataset in data:\n",
        "  dataset.loc[dataset['Fare']<=7.91, 'Fare']=0\n",
        "  dataset.loc[(dataset['Fare']>7.91) & (dataset['Fare']<=14.454), 'Fare']=1\n",
        "  dataset.loc[(dataset['Fare']>14.454) & (dataset['Fare']<=31), 'Fare']=2\n",
        "  dataset.loc[(dataset['Fare']>31) & (dataset['Fare']<=99), 'Fare']=3\n",
        "  dataset.loc[(dataset['Fare']>99) & (dataset['Fare']<=250), 'Fare']=4\n",
        "  dataset.loc[(dataset['Fare']>250) , 'Fare']=5\n",
        "  dataset['Fare']=dataset['Fare'].fillna(0)\n",
        "  dataset['Fare']=dataset['Fare'].astype(int)\n",
        "\n",
        "train_df.Fare.value_counts()"
      ],
      "execution_count": 0,
      "outputs": [
        {
          "output_type": "execute_result",
          "data": {
            "text/plain": [
              "2    229\n",
              "0    223\n",
              "1    217\n",
              "3    169\n",
              "4     44\n",
              "5      9\n",
              "Name: Fare, dtype: int64"
            ]
          },
          "metadata": {
            "tags": []
          },
          "execution_count": 51
        }
      ]
    },
    {
      "cell_type": "code",
      "metadata": {
        "id": "KFXheQkN-W9b",
        "colab_type": "code",
        "colab": {}
      },
      "source": [
        "# test_df[test_df.Fare.isna()==True]"
      ],
      "execution_count": 0,
      "outputs": []
    },
    {
      "cell_type": "markdown",
      "metadata": {
        "id": "hNnkSEoU49ZG",
        "colab_type": "text"
      },
      "source": [
        "#### Let's Create a new Feature A combination of Age and Class"
      ]
    },
    {
      "cell_type": "code",
      "metadata": {
        "id": "ShAdjMfd4n4A",
        "colab_type": "code",
        "outputId": "9d6e1640-3001-4a30-fe72-0a1bfee14cca",
        "colab": {
          "base_uri": "https://localhost:8080/",
          "height": 204
        }
      },
      "source": [
        "data = [train_df, test_df]\n",
        "\n",
        "\n",
        "for dataset in data:\n",
        "  dataset['age_class'] = dataset['Age']*dataset['Pclass']\n",
        "  \n",
        "  \n",
        "train_df.head()"
      ],
      "execution_count": 0,
      "outputs": [
        {
          "output_type": "execute_result",
          "data": {
            "text/html": [
              "<div>\n",
              "<style scoped>\n",
              "    .dataframe tbody tr th:only-of-type {\n",
              "        vertical-align: middle;\n",
              "    }\n",
              "\n",
              "    .dataframe tbody tr th {\n",
              "        vertical-align: top;\n",
              "    }\n",
              "\n",
              "    .dataframe thead th {\n",
              "        text-align: right;\n",
              "    }\n",
              "</style>\n",
              "<table border=\"1\" class=\"dataframe\">\n",
              "  <thead>\n",
              "    <tr style=\"text-align: right;\">\n",
              "      <th></th>\n",
              "      <th>Survived</th>\n",
              "      <th>Pclass</th>\n",
              "      <th>Sex</th>\n",
              "      <th>Age</th>\n",
              "      <th>SibSp</th>\n",
              "      <th>Parch</th>\n",
              "      <th>Fare</th>\n",
              "      <th>Embarked</th>\n",
              "      <th>Relatives</th>\n",
              "      <th>Alone</th>\n",
              "      <th>Deck</th>\n",
              "      <th>Title</th>\n",
              "      <th>age_class</th>\n",
              "    </tr>\n",
              "  </thead>\n",
              "  <tbody>\n",
              "    <tr>\n",
              "      <th>0</th>\n",
              "      <td>0</td>\n",
              "      <td>3</td>\n",
              "      <td>0</td>\n",
              "      <td>2</td>\n",
              "      <td>1</td>\n",
              "      <td>0</td>\n",
              "      <td>0</td>\n",
              "      <td>0</td>\n",
              "      <td>1</td>\n",
              "      <td>0</td>\n",
              "      <td>8</td>\n",
              "      <td>1</td>\n",
              "      <td>6</td>\n",
              "    </tr>\n",
              "    <tr>\n",
              "      <th>1</th>\n",
              "      <td>1</td>\n",
              "      <td>1</td>\n",
              "      <td>1</td>\n",
              "      <td>5</td>\n",
              "      <td>1</td>\n",
              "      <td>0</td>\n",
              "      <td>3</td>\n",
              "      <td>1</td>\n",
              "      <td>1</td>\n",
              "      <td>0</td>\n",
              "      <td>3</td>\n",
              "      <td>3</td>\n",
              "      <td>5</td>\n",
              "    </tr>\n",
              "    <tr>\n",
              "      <th>2</th>\n",
              "      <td>1</td>\n",
              "      <td>3</td>\n",
              "      <td>1</td>\n",
              "      <td>3</td>\n",
              "      <td>0</td>\n",
              "      <td>0</td>\n",
              "      <td>1</td>\n",
              "      <td>0</td>\n",
              "      <td>0</td>\n",
              "      <td>1</td>\n",
              "      <td>8</td>\n",
              "      <td>2</td>\n",
              "      <td>9</td>\n",
              "    </tr>\n",
              "    <tr>\n",
              "      <th>3</th>\n",
              "      <td>1</td>\n",
              "      <td>1</td>\n",
              "      <td>1</td>\n",
              "      <td>5</td>\n",
              "      <td>1</td>\n",
              "      <td>0</td>\n",
              "      <td>3</td>\n",
              "      <td>0</td>\n",
              "      <td>1</td>\n",
              "      <td>0</td>\n",
              "      <td>3</td>\n",
              "      <td>3</td>\n",
              "      <td>5</td>\n",
              "    </tr>\n",
              "    <tr>\n",
              "      <th>4</th>\n",
              "      <td>0</td>\n",
              "      <td>3</td>\n",
              "      <td>0</td>\n",
              "      <td>5</td>\n",
              "      <td>0</td>\n",
              "      <td>0</td>\n",
              "      <td>1</td>\n",
              "      <td>0</td>\n",
              "      <td>0</td>\n",
              "      <td>1</td>\n",
              "      <td>8</td>\n",
              "      <td>1</td>\n",
              "      <td>15</td>\n",
              "    </tr>\n",
              "  </tbody>\n",
              "</table>\n",
              "</div>"
            ],
            "text/plain": [
              "   Survived  Pclass  Sex  Age  SibSp  ...  Relatives  Alone  Deck  Title  age_class\n",
              "0         0       3    0    2      1  ...          1      0     8      1          6\n",
              "1         1       1    1    5      1  ...          1      0     3      3          5\n",
              "2         1       3    1    3      0  ...          0      1     8      2          9\n",
              "3         1       1    1    5      1  ...          1      0     3      3          5\n",
              "4         0       3    0    5      0  ...          0      1     8      1         15\n",
              "\n",
              "[5 rows x 13 columns]"
            ]
          },
          "metadata": {
            "tags": []
          },
          "execution_count": 53
        }
      ]
    },
    {
      "cell_type": "code",
      "metadata": {
        "id": "WsJDsTZ1C-C5",
        "colab_type": "code",
        "outputId": "5a317e92-e145-4f15-f544-6e4b0ec628a9",
        "colab": {
          "base_uri": "https://localhost:8080/",
          "height": 204
        }
      },
      "source": [
        "# Let's see the top 5 row of processed dataset\n",
        "train_df.head()"
      ],
      "execution_count": 0,
      "outputs": [
        {
          "output_type": "execute_result",
          "data": {
            "text/html": [
              "<div>\n",
              "<style scoped>\n",
              "    .dataframe tbody tr th:only-of-type {\n",
              "        vertical-align: middle;\n",
              "    }\n",
              "\n",
              "    .dataframe tbody tr th {\n",
              "        vertical-align: top;\n",
              "    }\n",
              "\n",
              "    .dataframe thead th {\n",
              "        text-align: right;\n",
              "    }\n",
              "</style>\n",
              "<table border=\"1\" class=\"dataframe\">\n",
              "  <thead>\n",
              "    <tr style=\"text-align: right;\">\n",
              "      <th></th>\n",
              "      <th>Survived</th>\n",
              "      <th>Pclass</th>\n",
              "      <th>Sex</th>\n",
              "      <th>Age</th>\n",
              "      <th>SibSp</th>\n",
              "      <th>Parch</th>\n",
              "      <th>Fare</th>\n",
              "      <th>Embarked</th>\n",
              "      <th>Relatives</th>\n",
              "      <th>Alone</th>\n",
              "      <th>Deck</th>\n",
              "      <th>Title</th>\n",
              "      <th>age_class</th>\n",
              "    </tr>\n",
              "  </thead>\n",
              "  <tbody>\n",
              "    <tr>\n",
              "      <th>0</th>\n",
              "      <td>0</td>\n",
              "      <td>3</td>\n",
              "      <td>0</td>\n",
              "      <td>2</td>\n",
              "      <td>1</td>\n",
              "      <td>0</td>\n",
              "      <td>0</td>\n",
              "      <td>0</td>\n",
              "      <td>1</td>\n",
              "      <td>0</td>\n",
              "      <td>8</td>\n",
              "      <td>1</td>\n",
              "      <td>6</td>\n",
              "    </tr>\n",
              "    <tr>\n",
              "      <th>1</th>\n",
              "      <td>1</td>\n",
              "      <td>1</td>\n",
              "      <td>1</td>\n",
              "      <td>5</td>\n",
              "      <td>1</td>\n",
              "      <td>0</td>\n",
              "      <td>3</td>\n",
              "      <td>1</td>\n",
              "      <td>1</td>\n",
              "      <td>0</td>\n",
              "      <td>3</td>\n",
              "      <td>3</td>\n",
              "      <td>5</td>\n",
              "    </tr>\n",
              "    <tr>\n",
              "      <th>2</th>\n",
              "      <td>1</td>\n",
              "      <td>3</td>\n",
              "      <td>1</td>\n",
              "      <td>3</td>\n",
              "      <td>0</td>\n",
              "      <td>0</td>\n",
              "      <td>1</td>\n",
              "      <td>0</td>\n",
              "      <td>0</td>\n",
              "      <td>1</td>\n",
              "      <td>8</td>\n",
              "      <td>2</td>\n",
              "      <td>9</td>\n",
              "    </tr>\n",
              "    <tr>\n",
              "      <th>3</th>\n",
              "      <td>1</td>\n",
              "      <td>1</td>\n",
              "      <td>1</td>\n",
              "      <td>5</td>\n",
              "      <td>1</td>\n",
              "      <td>0</td>\n",
              "      <td>3</td>\n",
              "      <td>0</td>\n",
              "      <td>1</td>\n",
              "      <td>0</td>\n",
              "      <td>3</td>\n",
              "      <td>3</td>\n",
              "      <td>5</td>\n",
              "    </tr>\n",
              "    <tr>\n",
              "      <th>4</th>\n",
              "      <td>0</td>\n",
              "      <td>3</td>\n",
              "      <td>0</td>\n",
              "      <td>5</td>\n",
              "      <td>0</td>\n",
              "      <td>0</td>\n",
              "      <td>1</td>\n",
              "      <td>0</td>\n",
              "      <td>0</td>\n",
              "      <td>1</td>\n",
              "      <td>8</td>\n",
              "      <td>1</td>\n",
              "      <td>15</td>\n",
              "    </tr>\n",
              "  </tbody>\n",
              "</table>\n",
              "</div>"
            ],
            "text/plain": [
              "   Survived  Pclass  Sex  Age  SibSp  ...  Relatives  Alone  Deck  Title  age_class\n",
              "0         0       3    0    2      1  ...          1      0     8      1          6\n",
              "1         1       1    1    5      1  ...          1      0     3      3          5\n",
              "2         1       3    1    3      0  ...          0      1     8      2          9\n",
              "3         1       1    1    5      1  ...          1      0     3      3          5\n",
              "4         0       3    0    5      0  ...          0      1     8      1         15\n",
              "\n",
              "[5 rows x 13 columns]"
            ]
          },
          "metadata": {
            "tags": []
          },
          "execution_count": 54
        }
      ]
    },
    {
      "cell_type": "markdown",
      "metadata": {
        "id": "xS70BVKv47wu",
        "colab_type": "text"
      },
      "source": [
        "#### So, both the dataframes have been processed and ready to be Modeled.\n",
        "\n",
        "let's go to the most exciting part of this: Modeling"
      ]
    },
    {
      "cell_type": "markdown",
      "metadata": {
        "id": "eYwdMzi76WHI",
        "colab_type": "text"
      },
      "source": [
        "## Modeling"
      ]
    },
    {
      "cell_type": "markdown",
      "metadata": {
        "id": "HZ7M5ilOA9mW",
        "colab_type": "text"
      },
      "source": [
        "#### Let's divide our data into Feature or Preictor Variables i.e X and Label or Predicted variable i.e y"
      ]
    },
    {
      "cell_type": "code",
      "metadata": {
        "id": "KamhCAaq6JNL",
        "colab_type": "code",
        "colab": {}
      },
      "source": [
        "X_train = train_df.drop('Survived', axis = 1)\n",
        "y_train = train_df['Survived']\n",
        "\n",
        "X_test = test_df.drop('PassengerId' ,  axis = 1)"
      ],
      "execution_count": 0,
      "outputs": []
    },
    {
      "cell_type": "markdown",
      "metadata": {
        "id": "bNRCt_jSBhUH",
        "colab_type": "text"
      },
      "source": [
        "#### Now let's train our first Model: A Stochastic Gradient Descent Classifier"
      ]
    },
    {
      "cell_type": "code",
      "metadata": {
        "id": "CO39mjw2BqOQ",
        "colab_type": "code",
        "outputId": "90d0f306-72cc-42fc-cda7-d67a90de6d2a",
        "colab": {
          "base_uri": "https://localhost:8080/",
          "height": 34
        }
      },
      "source": [
        "# creating model object\n",
        "sgd = linear_model.SGDClassifier(max_iter = 5, tol = None)\n",
        "\n",
        "# Fitting model on Data\n",
        "sgd.fit(X_train,y_train)\n",
        "\n",
        "#using model to predict\n",
        "y_pred = sgd.predict(X_test)\n",
        "\n",
        "# Storing prediction accuracy\n",
        "acc_sgd = round(sgd.score(X_train,y_train)*100,2)\n",
        "print(acc_sgd)"
      ],
      "execution_count": 0,
      "outputs": [
        {
          "output_type": "stream",
          "text": [
            "74.75\n"
          ],
          "name": "stdout"
        }
      ]
    },
    {
      "cell_type": "markdown",
      "metadata": {
        "id": "TyAoUNQKCwbm",
        "colab_type": "text"
      },
      "source": [
        "Great 78.23 % accuracy with our first Model.\n",
        "\n",
        "Now Let's try the classical Logistic Regression Model"
      ]
    },
    {
      "cell_type": "code",
      "metadata": {
        "id": "E3Np1939CtU9",
        "colab_type": "code",
        "outputId": "3fe470e9-acf4-4a0b-99ec-845ee9c4527f",
        "colab": {
          "base_uri": "https://localhost:8080/",
          "height": 34
        }
      },
      "source": [
        "logreg = LogisticRegression()\n",
        "logreg.fit(X_train,y_train)\n",
        "\n",
        "\n",
        "acc_log=round(logreg.score(X_train,y_train)*100,2)\n",
        "print(acc_log)"
      ],
      "execution_count": 0,
      "outputs": [
        {
          "output_type": "stream",
          "text": [
            "81.82\n"
          ],
          "name": "stdout"
        }
      ]
    },
    {
      "cell_type": "markdown",
      "metadata": {
        "id": "ERouoeSEGEiA",
        "colab_type": "text"
      },
      "source": [
        "#### We will write a loop which will fit and predict accuracy for different classes of models\n",
        "\n",
        "and return a dataframe with respective accuracies"
      ]
    },
    {
      "cell_type": "code",
      "metadata": {
        "id": "pvtSv3j2F7Nu",
        "colab_type": "code",
        "colab": {}
      },
      "source": [
        "# Creating a dictionary with Name of models as keys and Model Objects as values\n",
        "dict_model = {'sgd':linear_model.SGDClassifier(max_iter = 5, tol = None), \n",
        "             'log_reg':LogisticRegression(),\n",
        "             'decision_tree':DecisionTreeClassifier(),\n",
        "             'random_forest':RandomForestClassifier(n_estimators = 100),\n",
        "             'knn_classifier': KNeighborsClassifier(n_neighbors= 3),\n",
        "             'gaussian':GaussianNB(),\n",
        "             'perceptron':Perceptron(max_iter=5),\n",
        "             'linear_svc':LinearSVC()\n",
        "             }"
      ],
      "execution_count": 0,
      "outputs": []
    },
    {
      "cell_type": "code",
      "metadata": {
        "id": "Iol5l9W9I0zt",
        "colab_type": "code",
        "colab": {}
      },
      "source": [
        "# dictionary to store the name of model as key and respective accuracy as value\n",
        "dict_accuracies={}\n",
        "\n",
        "for name,classifier in dict_model.items():\n",
        "  dict_model[name].fit(X_train,y_train)\n",
        "  score = dict_model[name].score(X_train,y_train)\n",
        "  dict_accuracies[name]=round(score*100,2)\n",
        "  \n"
      ],
      "execution_count": 0,
      "outputs": []
    },
    {
      "cell_type": "markdown",
      "metadata": {
        "id": "bwarBMwO6EtZ",
        "colab_type": "text"
      },
      "source": [
        "#### All the models have been fitted and respective accuracies are stored in Dictionary.\n",
        "Let's convert the dictionary into dataframe and display the Values"
      ]
    },
    {
      "cell_type": "code",
      "metadata": {
        "id": "C-uJ4MXnKd4T",
        "colab_type": "code",
        "outputId": "be418b7e-c184-4ae8-e93c-51a7cc47dbb9",
        "colab": {
          "base_uri": "https://localhost:8080/",
          "height": 297
        }
      },
      "source": [
        "result_df=pd.DataFrame.from_dict(dict_accuracies,orient = 'index',columns = ['Score'])\n",
        "result_df= result_df.sort_values(by = 'Score', ascending = False)\n",
        "result_df"
      ],
      "execution_count": 0,
      "outputs": [
        {
          "output_type": "execute_result",
          "data": {
            "text/html": [
              "<div>\n",
              "<style scoped>\n",
              "    .dataframe tbody tr th:only-of-type {\n",
              "        vertical-align: middle;\n",
              "    }\n",
              "\n",
              "    .dataframe tbody tr th {\n",
              "        vertical-align: top;\n",
              "    }\n",
              "\n",
              "    .dataframe thead th {\n",
              "        text-align: right;\n",
              "    }\n",
              "</style>\n",
              "<table border=\"1\" class=\"dataframe\">\n",
              "  <thead>\n",
              "    <tr style=\"text-align: right;\">\n",
              "      <th></th>\n",
              "      <th>Score</th>\n",
              "    </tr>\n",
              "  </thead>\n",
              "  <tbody>\n",
              "    <tr>\n",
              "      <th>decision_tree</th>\n",
              "      <td>92.93</td>\n",
              "    </tr>\n",
              "    <tr>\n",
              "      <th>random_forest</th>\n",
              "      <td>92.93</td>\n",
              "    </tr>\n",
              "    <tr>\n",
              "      <th>knn_classifier</th>\n",
              "      <td>86.64</td>\n",
              "    </tr>\n",
              "    <tr>\n",
              "      <th>log_reg</th>\n",
              "      <td>81.82</td>\n",
              "    </tr>\n",
              "    <tr>\n",
              "      <th>linear_svc</th>\n",
              "      <td>81.03</td>\n",
              "    </tr>\n",
              "    <tr>\n",
              "      <th>perceptron</th>\n",
              "      <td>80.02</td>\n",
              "    </tr>\n",
              "    <tr>\n",
              "      <th>sgd</th>\n",
              "      <td>78.11</td>\n",
              "    </tr>\n",
              "    <tr>\n",
              "      <th>gaussian</th>\n",
              "      <td>78.11</td>\n",
              "    </tr>\n",
              "  </tbody>\n",
              "</table>\n",
              "</div>"
            ],
            "text/plain": [
              "                Score\n",
              "decision_tree   92.93\n",
              "random_forest   92.93\n",
              "knn_classifier  86.64\n",
              "log_reg         81.82\n",
              "linear_svc      81.03\n",
              "perceptron      80.02\n",
              "sgd             78.11\n",
              "gaussian        78.11"
            ]
          },
          "metadata": {
            "tags": []
          },
          "execution_count": 60
        }
      ]
    },
    {
      "cell_type": "markdown",
      "metadata": {
        "id": "U6i5HZ3AF_Dg",
        "colab_type": "text"
      },
      "source": [
        "- As you can see the decision tree and Random Forest are best performers on our dataset.\n",
        "\n",
        "- From here Onwards, we will pick RandomForest for further analysis and Optimization since it uses bagging technique and is less prone to Overfitting.\n",
        "\n",
        "- It also provides OOB(Out of Bag error estimation) and Feature ranking/importance.\n",
        "\n",
        "- Read more about advantages of RandomForest from sklearn's official Documentation.\n",
        "\n",
        "You can pick and try the steps on any one of the above algorithms as well."
      ]
    },
    {
      "cell_type": "markdown",
      "metadata": {
        "id": "yo5ujq3gtrpN",
        "colab_type": "text"
      },
      "source": [
        "#### The final Model: Random Forest\n",
        "Random forest is an ensemble based modeling algorithm which takes a subset of observations and a subset of variables to build a decision trees. It builds multiple such decision tree and amalgamate them together to get a more accurate and stable prediction. \n",
        "\n",
        "This is direct consequence of the fact that by maximum voting from a panel of independent judges, we get the final prediction better than the best judge."
      ]
    },
    {
      "cell_type": "code",
      "metadata": {
        "id": "oIT3Rv-4tqNc",
        "colab_type": "code",
        "outputId": "1b58e4e8-1b67-455b-8cbd-b0d64efc9760",
        "colab": {
          "base_uri": "https://localhost:8080/",
          "height": 34
        }
      },
      "source": [
        "rf_final = RandomForestClassifier(n_estimators = 100 , oob_score = True)\n",
        "rf_final.fit(X_train , y_train)\n",
        "\n",
        "rf_final_score = rf_final.score(X_train,y_train)*100\n",
        "print(round(rf_final_score,2,), \"%\")"
      ],
      "execution_count": 0,
      "outputs": [
        {
          "output_type": "stream",
          "text": [
            "92.93 %\n"
          ],
          "name": "stdout"
        }
      ]
    },
    {
      "cell_type": "markdown",
      "metadata": {
        "id": "M4Vnp2-OvtZb",
        "colab_type": "text"
      },
      "source": [
        "- n_estimators is number of trees to be fitted and OOB is Out of Bag error.\n",
        "- Out-of-bag (OOB) error, also called out-of-bag estimate, is a method of measuring the prediction error of random forests, boosted decision trees, and other machine learning models utilizing bootstrap aggregating (bagging) to sub-sample data samples used for training.\n",
        "- Using the out-of-bag error estimate removes the need for a set aside test set.\n",
        "- Infact, It is cosidered as good as Cross Validation technqiue for measuring performance of a model.\n",
        "\n",
        "You will also learn about cross Validation Technique in next section but before that let's see the OOB score of our model."
      ]
    },
    {
      "cell_type": "code",
      "metadata": {
        "id": "YTPo1qcZ8VJ4",
        "colab_type": "code",
        "outputId": "1299ebea-78e3-4188-a0fd-061439cbe60b",
        "colab": {
          "base_uri": "https://localhost:8080/",
          "height": 34
        }
      },
      "source": [
        "print(\"OOB Score: \", round(rf_final.oob_score_ *100, 2))"
      ],
      "execution_count": 0,
      "outputs": [
        {
          "output_type": "stream",
          "text": [
            "OOB Score:  80.47\n"
          ],
          "name": "stdout"
        }
      ]
    },
    {
      "cell_type": "markdown",
      "metadata": {
        "id": "RCTVG8DN8qhq",
        "colab_type": "text"
      },
      "source": [
        "80.25 % accuracy.\n",
        "\n",
        "Great right.\n",
        "\n",
        "Let's perform Cross Validation Check now to verify model performance\n",
        "\n"
      ]
    },
    {
      "cell_type": "markdown",
      "metadata": {
        "id": "6mwZaZ25OYB5",
        "colab_type": "text"
      },
      "source": [
        "### Cross Validation Evaluation\n",
        "K-Fold Cross Validation randomly splits the training data into K subsets called folds. Let's image we would split our data into 4 folds (K = 4). Our random forest model would be trained and evaluated 4 times, using a different fold for evaluation everytime, while it would be trained on the remaining 3 folds.\n",
        "\n",
        "\n",
        "The image below shows the process, using 4 folds (K = 4). Every row represents one training + evaluation process. In the first row, the model get's trained on the first, second and third subset and evaluated on the fourth. In the second row, the model get's trained on the second, third and fourth subset and evaluated on the first. K-Fold Cross Validation repeats this process till every fold acted once as an evaluation fold.\n",
        "\n",
        "\n",
        "The result of our K-Fold Cross Validation example would be an array that contains 4 different scores. We then need to compute the mean and the standard deviation for these scores.\n",
        "\n",
        "\n",
        "The code below perform K-Fold Cross Validation on our `random forest model`, using 10 folds (K = 10). Therefore it outputs an array with 10 different scores."
      ]
    },
    {
      "cell_type": "code",
      "metadata": {
        "id": "YSXNcEVJLQGt",
        "colab_type": "code",
        "colab": {}
      },
      "source": [
        "#Importing cross_val_score\n",
        "from sklearn.model_selection import cross_val_score\n",
        "rf = RandomForestClassifier(n_estimators =  100, random_state = 42)\n",
        "\n",
        "# Passing our RF model, training data, number of folds and evaluation metric to cross_val_score object\n",
        "cv_score = cross_val_score(rf, X_train, y_train, cv = 5,  scoring = 'accuracy')"
      ],
      "execution_count": 0,
      "outputs": []
    },
    {
      "cell_type": "code",
      "metadata": {
        "id": "WHNuu4-cEBtG",
        "colab_type": "code",
        "outputId": "bca59eaf-51cf-4bf9-b185-6ff5918cd653",
        "colab": {
          "base_uri": "https://localhost:8080/",
          "height": 85
        }
      },
      "source": [
        "print(\"The results of cross validation are:\")\n",
        "print(\"Scores on each fold:\",cv_score)\n",
        "print(\"Mean:\",cv_score.mean())\n",
        "print(\"Standard Deviation:\", cv_score.std())"
      ],
      "execution_count": 0,
      "outputs": [
        {
          "output_type": "stream",
          "text": [
            "The results of cross validation are:\n",
            "Scores on each fold: [0.77653631 0.78212291 0.83707865 0.79775281 0.83615819]\n",
            "Mean: 0.8059297741283296\n",
            "Standard Deviation: 0.02600621143796731\n"
          ],
          "name": "stdout"
        }
      ]
    },
    {
      "cell_type": "markdown",
      "metadata": {
        "id": "bMHyj7UjE6sQ",
        "colab_type": "text"
      },
      "source": [
        "This looks much more realistic than before. Our model has a average accuracy of 82% with a standard deviation of approx 4 %. The standard deviation shows us, how precise the estimates are . This means in our case that the accuracy of our model can differ + - 4%.\n",
        "\n",
        "\n",
        "I think the accuracy is still really good and since random forest is an easy to use model, we will try to increase it's performance even further in the upcoming section.\n",
        "\n",
        "\n"
      ]
    },
    {
      "cell_type": "markdown",
      "metadata": {
        "id": "PIDeubI9F57u",
        "colab_type": "text"
      },
      "source": [
        "*Mean-while how about checking cross validation scores for the rest of the models?\n",
        "TO-DO: Write a function/loop which takes dictionary containing model names and objects and returns a dataframe with Modelname as Index, mean_cross_val_score as column sorted by mean_cross_val_score descending.*"
      ]
    },
    {
      "cell_type": "code",
      "metadata": {
        "id": "7Zfc_-ZoOl54",
        "colab_type": "code",
        "colab": {}
      },
      "source": [
        ""
      ],
      "execution_count": 0,
      "outputs": []
    },
    {
      "cell_type": "markdown",
      "metadata": {
        "id": "k-fNSv3IOnKR",
        "colab_type": "text"
      },
      "source": [
        "### Hyper Parameter Tuning:\n",
        "\n",
        "So we are getting our accuracies in range of 80%-82% till now.\n",
        "\n",
        "Can we improve our model further?<br>\n",
        "Yes! by performing hyperparameter Tuning of our Final model, we can improve the scores.\n",
        "\n",
        "\n",
        "\n",
        "In the upcoming section you will see how to tune Hyper parameters and how to use them in our final model using GridSearch.\n",
        "\n",
        "We will optinimize following parameters:\n",
        "- n_estimators: The number of trees in the forest\n",
        "- criterion: The function to measure the quality of a split\n",
        "- min_samples_split: The minimum number of samples required to split an internal \n",
        "node.\n",
        "- min_samples_leaf: The minimum number of samples required to be at a leaf node. A split point at any depth will only be considered if it leaves at least min_samples_leaf training samples in each of the left and right branches. \n",
        "\n",
        "\n",
        "You can read more about random forest hyper parameter by clicking [here](https://scikit-learn.org/stable/modules/generated/sklearn.ensemble.RandomForestClassifier.html)."
      ]
    },
    {
      "cell_type": "markdown",
      "metadata": {
        "id": "T47HoAnXE3b4",
        "colab_type": "text"
      },
      "source": [
        "#### GridSearchCV:\n",
        "GridSearchCV helps us in finding the best parameter by performing exhaustive search all the combination of parameters passed using param_grid dictionary and picks the optimal parameter from all the possible sets of parameters."
      ]
    },
    {
      "cell_type": "code",
      "metadata": {
        "id": "_HcEzINsOpgw",
        "colab_type": "code",
        "colab": {}
      },
      "source": [
        "# Parameter Grid to look for best Parameters\n",
        "param_grid = { \"n_estimators\": [100, 200,500,1000],\n",
        "              \"criterion\" : [\"gini\", \"entropy\"], \n",
        "              \"min_samples_leaf\" : [1, 5, 10], \n",
        "              \"min_samples_split\" : [2, 5, 10]\n",
        "              }"
      ],
      "execution_count": 0,
      "outputs": []
    },
    {
      "cell_type": "code",
      "metadata": {
        "id": "70DbAnuC-wfT",
        "colab_type": "code",
        "outputId": "2e250825-794f-4133-c588-7dbebaaa6113",
        "colab": {
          "base_uri": "https://localhost:8080/",
          "height": 34
        }
      },
      "source": [
        "from sklearn.model_selection import GridSearchCV, cross_val_score\n",
        "rf = RandomForestClassifier(max_features='auto', oob_score=True, random_state = 42, n_jobs=-1)\n",
        "\n",
        "gs_clf = GridSearchCV(estimator=rf, param_grid=param_grid, n_jobs=-1,\n",
        "                           scoring = 'accuracy')\n",
        "\n",
        "gs_clf.fit(X_train, y_train)\n",
        "\n",
        "# Displaying the best parameters found by gridSearch\n",
        "print(gs_clf.best_params_)"
      ],
      "execution_count": 0,
      "outputs": [
        {
          "output_type": "stream",
          "text": [
            "{'criterion': 'gini', 'min_samples_leaf': 10, 'min_samples_split': 2, 'n_estimators': 200}\n"
          ],
          "name": "stdout"
        }
      ]
    },
    {
      "cell_type": "markdown",
      "metadata": {
        "id": "a581FpeV_zn7",
        "colab_type": "text"
      },
      "source": [
        "#### Using best params for modeling."
      ]
    },
    {
      "cell_type": "code",
      "metadata": {
        "id": "hCsRGVa2_vu2",
        "colab_type": "code",
        "outputId": "f64f426f-c3e5-4079-871b-6c84a95f0663",
        "colab": {
          "base_uri": "https://localhost:8080/",
          "height": 34
        }
      },
      "source": [
        "# Passing the dictionary of best params \n",
        "random_forest_final = RandomForestClassifier(**gs_clf.best_params_, oob_score = True , n_jobs = -1, random_state = 42)\n",
        "random_forest_final.fit(X_train,y_train)\n",
        "\n",
        "# Let's see the training scores now\n",
        "print(\"Training Score: \", round(random_forest_final.score(X_train,y_train)*100,2),\"%\")"
      ],
      "execution_count": 0,
      "outputs": [
        {
          "output_type": "stream",
          "text": [
            "Training Score:  84.18 %\n"
          ],
          "name": "stdout"
        }
      ]
    },
    {
      "cell_type": "markdown",
      "metadata": {
        "id": "NjEwO72DAuHv",
        "colab_type": "text"
      },
      "source": [
        "Training Score of our model reduced to 84.18%.\n",
        "\n",
        "But we thought it would Increase the Model performance Right?\n",
        "\n",
        "Yes, As we know trainig score is not the right criteria to Judge thee Model Performance.\n",
        "We should be looking at cross Validation Score or OOB score to evaluate the model performance.\n",
        "\n",
        "Let's check the Out of Bag Error and compare it with our baseline RandomForest Model"
      ]
    },
    {
      "cell_type": "code",
      "metadata": {
        "id": "1J_v2SWBA3y1",
        "colab_type": "code",
        "outputId": "f91bcb03-7457-460a-9065-3b24cd2b3b4f",
        "colab": {
          "base_uri": "https://localhost:8080/",
          "height": 51
        }
      },
      "source": [
        "print(\"OOB Score for baseline Model: \", round(rf_final.oob_score_ *100, 2))\n",
        "print(\"OOB Score for tuned Model: \", round(random_forest_final.oob_score_ *100, 2))"
      ],
      "execution_count": 0,
      "outputs": [
        {
          "output_type": "stream",
          "text": [
            "OOB Score for baseline Model:  80.47\n",
            "OOB Score for tuned Model:  82.15\n"
          ],
          "name": "stdout"
        }
      ]
    },
    {
      "cell_type": "markdown",
      "metadata": {
        "id": "GDJlZtzhBJie",
        "colab_type": "text"
      },
      "source": [
        "#### From 80.47 to 82.15% by just optimizing and tuning the Parameters.\n",
        "Isn't that Cool?\n",
        "\n",
        "you can also try and play with other parameters to tune the performance of the Model further."
      ]
    },
    {
      "cell_type": "code",
      "metadata": {
        "id": "KDm5rDuJBKIX",
        "colab_type": "code",
        "colab": {}
      },
      "source": [
        ""
      ],
      "execution_count": 0,
      "outputs": []
    },
    {
      "cell_type": "markdown",
      "metadata": {
        "id": "wQHneAcmDdM9",
        "colab_type": "text"
      },
      "source": [
        "- Now that we have a proper model, we can start evaluating it's performace in a more accurate way. \n",
        "- Previously we only used accuracy and the oob score, which is just another form of accuracy. \n",
        "- The problem is just, that it's more complicated to evaluate a classification model than a regression model.\n",
        "\n",
        "- Classification accuracy alone can be misleading if you have an unequal number of observations in each class or if you have more than two classes in your dataset.\n",
        "\n",
        "- There are many Evaluation Criterias catering to different kind of Problem statements and situtions\n",
        "\n",
        "We will discuss some of the important ones in the following section:"
      ]
    },
    {
      "cell_type": "markdown",
      "metadata": {
        "id": "crMh8n7UOg2o",
        "colab_type": "text"
      },
      "source": [
        "### Evaluation Metrics"
      ]
    },
    {
      "cell_type": "markdown",
      "metadata": {
        "id": "hO3UKvviJj4L",
        "colab_type": "text"
      },
      "source": [
        "### 1. Confusion Matrix:\n",
        "- A confusion matrix is a summary of prediction results on a classification problem.\n",
        "\n",
        "- The number of correct and incorrect predictions are summarized with count values and broken down by each class. This is the key to the confusion matrix.\n",
        "\n",
        "- The confusion matrix shows the ways in which your classification model\n",
        "is confused when it makes predictions.\n",
        "\n",
        "- It gives you insight not only into the errors being made by your classifier but more importantly the types of errors that are being made.\n",
        "\n",
        "- It is this breakdown that overcomes the limitation of using classification accuracy alone"
      ]
    },
    {
      "cell_type": "code",
      "metadata": {
        "id": "YSKqdXGFJkj3",
        "colab_type": "code",
        "outputId": "c04df764-00b0-4504-f2ec-714f49e35dbc",
        "colab": {
          "base_uri": "https://localhost:8080/",
          "height": 51
        }
      },
      "source": [
        "from sklearn.metrics import confusion_matrix\n",
        "\n",
        "# Calulating predicted values for train data\n",
        "y_pred = random_forest_final.predict(X_train)\n",
        "\n",
        "# Calculating and displaying the confusion matrix\n",
        "confusion_matrix(y_train, y_pred)"
      ],
      "execution_count": 0,
      "outputs": [
        {
          "output_type": "execute_result",
          "data": {
            "text/plain": [
              "array([[500,  49],\n",
              "       [ 92, 250]])"
            ]
          },
          "metadata": {
            "tags": []
          },
          "execution_count": 89
        }
      ]
    },
    {
      "cell_type": "markdown",
      "metadata": {
        "id": "yzgHU9B0JlS2",
        "colab_type": "text"
      },
      "source": [
        "\n",
        "The first row contains passengers who did not survive:\n",
        "\n",
        "- “True negative”:  500 passengers were correctly classified as not survived.\n",
        "- 49 were wrongly classified as survived (false Positives).\n",
        "\n",
        "The second row is about the passengers who survived: \n",
        "- 92 passengers were wrongly classified as Not-survived (False Negtives) \n",
        "- 250 were correctly classified as survived and they actually survived (true positives).\n",
        "\n"
      ]
    },
    {
      "cell_type": "markdown",
      "metadata": {
        "id": "trzZy6GXMmqm",
        "colab_type": "text"
      },
      "source": [
        "Another importannt criteria for performance Evaluation is precision and Recall score.\n",
        "\n",
        "Precision and Recall can be Calculated using confusion Matrix.\n",
        "- Precision: Percentage of People that were correctly classified as Survived out of total predicted survived\n",
        "- Recall: Percentage of people correctly classified as Survived out of total passenger who survived"
      ]
    },
    {
      "cell_type": "code",
      "metadata": {
        "id": "DsZrNPYRNRUX",
        "colab_type": "code",
        "outputId": "179ce0ae-cace-47e3-88bb-f0c379327898",
        "colab": {
          "base_uri": "https://localhost:8080/",
          "height": 51
        }
      },
      "source": [
        "from sklearn.metrics import precision_score , recall_score\n",
        "print(\"Precision Score:\" , round(precision_score(y_train,y_pred)*100,2),\"%\" )\n",
        "print(\"Recall Score:\", round(recall_score(y_train,y_pred)*100,2),\"%\")\n"
      ],
      "execution_count": 0,
      "outputs": [
        {
          "output_type": "stream",
          "text": [
            "Precision Score: 83.61 %\n",
            "Recall Score: 73.1 %\n"
          ],
          "name": "stdout"
        }
      ]
    },
    {
      "cell_type": "markdown",
      "metadata": {
        "id": "q_TIPYfCN8MJ",
        "colab_type": "text"
      },
      "source": [
        "#### 1. Precision Score tells us that 83.61% of passengers predicted by our model as survived are Correct.\n",
        "\n",
        "#### 2. The recall tells us that it predicted the survival of 73.1 % of the people who actually survived.\n",
        "\n"
      ]
    },
    {
      "cell_type": "markdown",
      "metadata": {
        "id": "tSwC0IRrPOOb",
        "colab_type": "text"
      },
      "source": [
        "#### F1-Score: 2 * (precision * recall) / (precision + recall)\n",
        "- You can combine precision and recall into one score, which is called the F-score. \n",
        "- The F-score is computed with the harmonic mean of precision and recall. Note that it assigns much more weight to low values. \n",
        "- As a result of that, the classifier will only get a high F-score, if both recall and precision are high.\n",
        "- Therefore, this score takes both false positives and false negatives into account. \n",
        "\n",
        "Intuitively it is not as easy to understand as accuracy, but F1 is usually more useful than accuracy, especially if you have an uneven class distribution.\n"
      ]
    },
    {
      "cell_type": "code",
      "metadata": {
        "id": "WLSNL0sJOmre",
        "colab_type": "code",
        "outputId": "04f7932f-068b-4961-a723-c67e602e5748",
        "colab": {
          "base_uri": "https://localhost:8080/",
          "height": 34
        }
      },
      "source": [
        "from sklearn.metrics import f1_score\n",
        "f1_score(y_train,y_pred)"
      ],
      "execution_count": 0,
      "outputs": [
        {
          "output_type": "execute_result",
          "data": {
            "text/plain": [
              "0.7800312012480499"
            ]
          },
          "metadata": {
            "tags": []
          },
          "execution_count": 91
        }
      ]
    },
    {
      "cell_type": "markdown",
      "metadata": {
        "id": "ur8B9p2xPbeZ",
        "colab_type": "text"
      },
      "source": [
        "There we have it, a 78 % F-score. The score is not that high, because we have a recall of 73.1%.\n",
        "\n",
        "But unfortunately the F-score is not perfect, because it favors classifiers that have a similar precision and recall. This is a problem, because you sometimes want a high precision and sometimes a high recall. The thing is that an increasing precision, sometimes results in an decreasing recall and vice versa (depending on the threshold). \n",
        "\n",
        "This is called the precision/recall tradeoff. We will discuss this in the following section."
      ]
    },
    {
      "cell_type": "code",
      "metadata": {
        "id": "BHsdeYKmPs7C",
        "colab_type": "code",
        "colab": {}
      },
      "source": [
        "## TODO"
      ],
      "execution_count": 0,
      "outputs": []
    },
    {
      "cell_type": "markdown",
      "metadata": {
        "id": "EGDjeeruQDuT",
        "colab_type": "text"
      },
      "source": [
        "Above you can clearly see that the recall is falling of rapidly at a precision of around 85%. Because of that you may want to select the precision/recall tradeoff before that - maybe at around 75 %.\n",
        "\n",
        "You are now able to choose a threshold, that gives you the best precision/recall tradeoff for your current machine learning problem. If you want for example a precision of 80%, you can easily look at the plots and see that you would need a threshold of around 0.4. Then you could train a model with exactly that threshold and would get the desired accuracy.\n",
        "\n",
        "Another way is to plot the precision and recall against each other"
      ]
    },
    {
      "cell_type": "code",
      "metadata": {
        "id": "SV5uWuPzPs1d",
        "colab_type": "code",
        "colab": {}
      },
      "source": [
        "## TODO"
      ],
      "execution_count": 0,
      "outputs": []
    },
    {
      "cell_type": "markdown",
      "metadata": {
        "id": "sHhILgmoQL7c",
        "colab_type": "text"
      },
      "source": [
        "Another way to evaluate and compare your binary classifier is provided by the ROC AUC Curve. This curve plots the true positive rate (also called recall) against the false positive rate (ratio of incorrectly classified negative instances), instead of plotting the precision versus the reca\n",
        "\n",
        "The ROC AUC Score is the corresponding score to the ROC AUC Curve. It is simply computed by measuring the area under the curve, which is called AUC.\n",
        "\n",
        "A classifiers that is 100% correct, would have a ROC AUC Score of 1 and a completely random classiffier would have a score of 0.5."
      ]
    },
    {
      "cell_type": "markdown",
      "metadata": {
        "id": "FO3_mjAmG93S",
        "colab_type": "text"
      },
      "source": [
        "### Feature Importance "
      ]
    },
    {
      "cell_type": "markdown",
      "metadata": {
        "id": "SUfabqdwP7lZ",
        "colab_type": "text"
      },
      "source": [
        "Another great advantage of random forest is that they make it very easy to measure the relative importance of each feature.\n",
        "\n",
        "The reason is because the tree-based strategies used by random forests naturally rank the features by measuring how well they improve the purity of the node. This mean decrease in impurity over all trees (called gini impurity). Nodes with the greatest decrease in impurity happen at the start of the trees, while notes with the least decrease in impurity occur at the end of trees.\n",
        "\n",
        "It computes this score automatically for each feature after training and scales the results so that the sum of all importances is equal to 1. \n",
        "\n",
        "Let's see the feature importance scores for our dataset:"
      ]
    },
    {
      "cell_type": "code",
      "metadata": {
        "id": "RRGXf8_fHHx-",
        "colab_type": "code",
        "outputId": "f0758bcb-7427-406e-d0f3-462ec9564b98",
        "colab": {
          "base_uri": "https://localhost:8080/",
          "height": 452
        }
      },
      "source": [
        "feature_importance = pd.DataFrame({'Feature':X_train.columns, 'Importance Score':random_forest_final.feature_importances_})\n",
        "feature_importance = feature_importance.sort_values(by='Importance Score',  ascending = False).set_index('Feature')\n",
        "\n",
        "#printing feature importance score of all the features\n",
        "feature_importance"
      ],
      "execution_count": 0,
      "outputs": [
        {
          "output_type": "execute_result",
          "data": {
            "text/html": [
              "<div>\n",
              "<style scoped>\n",
              "    .dataframe tbody tr th:only-of-type {\n",
              "        vertical-align: middle;\n",
              "    }\n",
              "\n",
              "    .dataframe tbody tr th {\n",
              "        vertical-align: top;\n",
              "    }\n",
              "\n",
              "    .dataframe thead th {\n",
              "        text-align: right;\n",
              "    }\n",
              "</style>\n",
              "<table border=\"1\" class=\"dataframe\">\n",
              "  <thead>\n",
              "    <tr style=\"text-align: right;\">\n",
              "      <th></th>\n",
              "      <th>Importance Score</th>\n",
              "    </tr>\n",
              "    <tr>\n",
              "      <th>Feature</th>\n",
              "      <th></th>\n",
              "    </tr>\n",
              "  </thead>\n",
              "  <tbody>\n",
              "    <tr>\n",
              "      <th>Sex</th>\n",
              "      <td>0.286326</td>\n",
              "    </tr>\n",
              "    <tr>\n",
              "      <th>Title</th>\n",
              "      <td>0.284824</td>\n",
              "    </tr>\n",
              "    <tr>\n",
              "      <th>Pclass</th>\n",
              "      <td>0.107433</td>\n",
              "    </tr>\n",
              "    <tr>\n",
              "      <th>Deck</th>\n",
              "      <td>0.060567</td>\n",
              "    </tr>\n",
              "    <tr>\n",
              "      <th>age_class</th>\n",
              "      <td>0.053748</td>\n",
              "    </tr>\n",
              "    <tr>\n",
              "      <th>Relatives</th>\n",
              "      <td>0.051973</td>\n",
              "    </tr>\n",
              "    <tr>\n",
              "      <th>Fare</th>\n",
              "      <td>0.048724</td>\n",
              "    </tr>\n",
              "    <tr>\n",
              "      <th>Age</th>\n",
              "      <td>0.034355</td>\n",
              "    </tr>\n",
              "    <tr>\n",
              "      <th>SibSp</th>\n",
              "      <td>0.031305</td>\n",
              "    </tr>\n",
              "    <tr>\n",
              "      <th>Embarked</th>\n",
              "      <td>0.017783</td>\n",
              "    </tr>\n",
              "    <tr>\n",
              "      <th>Alone</th>\n",
              "      <td>0.013484</td>\n",
              "    </tr>\n",
              "    <tr>\n",
              "      <th>Parch</th>\n",
              "      <td>0.009479</td>\n",
              "    </tr>\n",
              "  </tbody>\n",
              "</table>\n",
              "</div>"
            ],
            "text/plain": [
              "           Importance Score\n",
              "Feature                    \n",
              "Sex                0.286326\n",
              "Title              0.284824\n",
              "Pclass             0.107433\n",
              "Deck               0.060567\n",
              "age_class          0.053748\n",
              "Relatives          0.051973\n",
              "Fare               0.048724\n",
              "Age                0.034355\n",
              "SibSp              0.031305\n",
              "Embarked           0.017783\n",
              "Alone              0.013484\n",
              "Parch              0.009479"
            ]
          },
          "metadata": {
            "tags": []
          },
          "execution_count": 92
        }
      ]
    },
    {
      "cell_type": "markdown",
      "metadata": {
        "id": "d3zryp0hI9rT",
        "colab_type": "text"
      },
      "source": [
        "### Also let's plot the bars for this"
      ]
    },
    {
      "cell_type": "code",
      "metadata": {
        "id": "YCvQ_5WPITma",
        "colab_type": "code",
        "outputId": "f4f99253-cf9b-4490-e591-16cfc44bae40",
        "colab": {
          "base_uri": "https://localhost:8080/",
          "height": 501
        }
      },
      "source": [
        "plt.figure(figsize = (16,8))\n",
        "sns.barplot(x=feature_importance.index , y = 'Importance Score' ,data  = feature_importance)\n",
        "plt.show()"
      ],
      "execution_count": 0,
      "outputs": [
        {
          "output_type": "display_data",
          "data": {
            "image/png": "[encoded data removed]",
            "text/plain": [
              "<Figure size 1152x576 with 1 Axes>"
            ]
          },
          "metadata": {
            "tags": []
          }
        }
      ]
    },
    {
      "cell_type": "markdown",
      "metadata": {
        "id": "di3-zcqco60e",
        "colab_type": "text"
      },
      "source": [
        "- Title and Sex are the most important features in deciding the chances or survival\n",
        "- not_alone and Parch doesn't play a significant role in our random forest classifiers prediction process.\n",
        "- Infact we can drop them and simplify our model further if it doesn't impact our evaluation metric i.e accurcacy score a lot. Because of that I will drop them from the dataset and train the classifier again. \n",
        "\n",
        "See the code below to select features based on a certain threshold score from feature importance"
      ]
    },
    {
      "cell_type": "code",
      "metadata": {
        "id": "6k1nOlmxlzVg",
        "colab_type": "code",
        "outputId": "a6e092e4-b926-4c54-8563-cfdcf3d2e1da",
        "colab": {
          "base_uri": "https://localhost:8080/",
          "height": 119
        }
      },
      "source": [
        "from sklearn.feature_selection import SelectFromModel\n",
        "sfm = SelectFromModel(random_forest_final, threshold=0.05 )\n",
        "\n",
        "# Train the selector\n",
        "sfm.fit(X_train, y_train)\n",
        "\n",
        "# Printing the names of the important features\n",
        "for feature_list_index in sfm.get_support(indices=True):\n",
        "    print(X_train.columns[feature_list_index])"
      ],
      "execution_count": 0,
      "outputs": [
        {
          "output_type": "stream",
          "text": [
            "Pclass\n",
            "Sex\n",
            "Relatives\n",
            "Deck\n",
            "Title\n",
            "age_class\n"
          ],
          "name": "stdout"
        }
      ]
    },
    {
      "cell_type": "markdown",
      "metadata": {
        "id": "7th9tm_-q8T7",
        "colab_type": "text"
      },
      "source": [
        "#### Creating Data Subset With Only The Most Important Features"
      ]
    },
    {
      "cell_type": "code",
      "metadata": {
        "id": "nKmF6yREqs25",
        "colab_type": "code",
        "colab": {}
      },
      "source": [
        "# Transform the data to create a new dataset containing only the most important features\n",
        "# Note: We have to apply the transform to both the training X and test X data.\n",
        "X_important_train = sfm.transform(X_train)\n",
        "X_important_test = sfm.transform(X_test)"
      ],
      "execution_count": 0,
      "outputs": []
    },
    {
      "cell_type": "markdown",
      "metadata": {
        "id": "zaKsX_vvrLHR",
        "colab_type": "text"
      },
      "source": [
        "#### Let's Train A New Random Forest Classifier Using Only Most Important Features"
      ]
    },
    {
      "cell_type": "code",
      "metadata": {
        "id": "CbeSFy8urJ6e",
        "colab_type": "code",
        "outputId": "318bee21-1f80-4fa3-cfb2-687f5bf6edd6",
        "colab": {
          "base_uri": "https://localhost:8080/",
          "height": 136
        }
      },
      "source": [
        "# Create a new random forest classifier for the most important features\n",
        "rf_important = RandomForestClassifier( random_state = 42)\n",
        "rf = RandomForestClassifier(random_state = 42)\n",
        "\n",
        "# Train the new classifier on the new dataset containing the most important features\n",
        "rf_important.fit(X_important_train, y_train)\n",
        "rf.fit(X_train, y_train)\n"
      ],
      "execution_count": 0,
      "outputs": [
        {
          "output_type": "execute_result",
          "data": {
            "text/plain": [
              "RandomForestClassifier(bootstrap=True, class_weight=None, criterion='gini',\n",
              "                       max_depth=None, max_features='auto', max_leaf_nodes=None,\n",
              "                       min_impurity_decrease=0.0, min_impurity_split=None,\n",
              "                       min_samples_leaf=1, min_samples_split=2,\n",
              "                       min_weight_fraction_leaf=0.0, n_estimators=10,\n",
              "                       n_jobs=None, oob_score=False, random_state=42, verbose=0,\n",
              "                       warm_start=False)"
            ]
          },
          "metadata": {
            "tags": []
          },
          "execution_count": 104
        }
      ]
    },
    {
      "cell_type": "markdown",
      "metadata": {
        "id": "tQYan4gorW1M",
        "colab_type": "text"
      },
      "source": [
        "#### Let's Compare The Accuracy Of Our Full Feature Classifier To Our Limited Feature Classifier"
      ]
    },
    {
      "cell_type": "code",
      "metadata": {
        "id": "kIgMCJ_urS33",
        "colab_type": "code",
        "outputId": "8754eda4-a74e-4c23-931c-a28b097ac385",
        "colab": {
          "base_uri": "https://localhost:8080/",
          "height": 34
        }
      },
      "source": [
        "rf.score(X_train,y_train), rf_important.score(X_important_train,y_train)"
      ],
      "execution_count": 0,
      "outputs": [
        {
          "output_type": "execute_result",
          "data": {
            "text/plain": [
              "(0.9225589225589226, 0.8787878787878788)"
            ]
          },
          "metadata": {
            "tags": []
          },
          "execution_count": 105
        }
      ]
    },
    {
      "cell_type": "markdown",
      "metadata": {
        "id": "6-_uELcds2Ma",
        "colab_type": "text"
      },
      "source": [
        "As can be seen by the accuracy scores, our original model which contained all the features is 92.2% accurate while the our ‘limited’ model which contained only half features is 87.8% accurate. \n",
        "\n",
        "Thus, for a small cost in accuracy we halved the number of features in the model and simplified it resulting in reduced training time and more generalizable result."
      ]
    },
    {
      "cell_type": "markdown",
      "metadata": {
        "id": "hgQalddUSJ7D",
        "colab_type": "text"
      },
      "source": [
        "## Conclusion"
      ]
    },
    {
      "cell_type": "code",
      "metadata": {
        "id": "5-cb-xELTSI8",
        "colab_type": "code",
        "colab": {}
      },
      "source": [
        ""
      ],
      "execution_count": 0,
      "outputs": []
    }
  ]
}